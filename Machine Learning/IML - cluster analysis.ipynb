{
 "cells": [
  {
   "cell_type": "markdown",
   "metadata": {},
   "source": [
    "## Given data about telecom customer telecom interactions, use various methods of clustering to cluster into groups. This can be used to do cluster profiling and understand their behaviour segmented and better "
   ]
  },
  {
   "cell_type": "code",
   "execution_count": 1,
   "metadata": {},
   "outputs": [],
   "source": [
    "import os\n",
    "import pandas as pd\n",
    "import numpy as np\n",
    "import random \n",
    "import matplotlib.pyplot as plt"
   ]
  },
  {
   "cell_type": "code",
   "execution_count": 2,
   "metadata": {},
   "outputs": [],
   "source": [
    "telco = pd.read_csv(\"telco.csv\")"
   ]
  },
  {
   "cell_type": "code",
   "execution_count": 3,
   "metadata": {},
   "outputs": [
    {
     "data": {
      "text/html": [
       "<div>\n",
       "<style scoped>\n",
       "    .dataframe tbody tr th:only-of-type {\n",
       "        vertical-align: middle;\n",
       "    }\n",
       "\n",
       "    .dataframe tbody tr th {\n",
       "        vertical-align: top;\n",
       "    }\n",
       "\n",
       "    .dataframe thead th {\n",
       "        text-align: right;\n",
       "    }\n",
       "</style>\n",
       "<table border=\"1\" class=\"dataframe\">\n",
       "  <thead>\n",
       "    <tr style=\"text-align: right;\">\n",
       "      <th></th>\n",
       "      <th>Calls</th>\n",
       "      <th>Intern</th>\n",
       "      <th>Text</th>\n",
       "      <th>Data</th>\n",
       "      <th>Age</th>\n",
       "    </tr>\n",
       "  </thead>\n",
       "  <tbody>\n",
       "    <tr>\n",
       "      <th>382</th>\n",
       "      <td>0.99</td>\n",
       "      <td>0.22</td>\n",
       "      <td>21.27</td>\n",
       "      <td>0.23</td>\n",
       "      <td>61</td>\n",
       "    </tr>\n",
       "    <tr>\n",
       "      <th>331</th>\n",
       "      <td>1.17</td>\n",
       "      <td>0.23</td>\n",
       "      <td>17.62</td>\n",
       "      <td>0.22</td>\n",
       "      <td>61</td>\n",
       "    </tr>\n",
       "    <tr>\n",
       "      <th>308</th>\n",
       "      <td>5.42</td>\n",
       "      <td>1.00</td>\n",
       "      <td>17.21</td>\n",
       "      <td>2.36</td>\n",
       "      <td>51</td>\n",
       "    </tr>\n",
       "    <tr>\n",
       "      <th>245</th>\n",
       "      <td>1.56</td>\n",
       "      <td>0.09</td>\n",
       "      <td>532.54</td>\n",
       "      <td>2.85</td>\n",
       "      <td>16</td>\n",
       "    </tr>\n",
       "    <tr>\n",
       "      <th>205</th>\n",
       "      <td>1.65</td>\n",
       "      <td>0.09</td>\n",
       "      <td>560.99</td>\n",
       "      <td>2.98</td>\n",
       "      <td>16</td>\n",
       "    </tr>\n",
       "    <tr>\n",
       "      <th>2</th>\n",
       "      <td>3.54</td>\n",
       "      <td>0.26</td>\n",
       "      <td>289.79</td>\n",
       "      <td>1.99</td>\n",
       "      <td>34</td>\n",
       "    </tr>\n",
       "    <tr>\n",
       "      <th>591</th>\n",
       "      <td>1.47</td>\n",
       "      <td>0.09</td>\n",
       "      <td>570.68</td>\n",
       "      <td>3.17</td>\n",
       "      <td>14</td>\n",
       "    </tr>\n",
       "    <tr>\n",
       "      <th>222</th>\n",
       "      <td>2.22</td>\n",
       "      <td>0.09</td>\n",
       "      <td>22.18</td>\n",
       "      <td>0.58</td>\n",
       "      <td>40</td>\n",
       "    </tr>\n",
       "    <tr>\n",
       "      <th>345</th>\n",
       "      <td>4.28</td>\n",
       "      <td>1.16</td>\n",
       "      <td>18.78</td>\n",
       "      <td>1.84</td>\n",
       "      <td>49</td>\n",
       "    </tr>\n",
       "    <tr>\n",
       "      <th>37</th>\n",
       "      <td>1.10</td>\n",
       "      <td>0.20</td>\n",
       "      <td>23.65</td>\n",
       "      <td>0.23</td>\n",
       "      <td>66</td>\n",
       "    </tr>\n",
       "  </tbody>\n",
       "</table>\n",
       "</div>"
      ],
      "text/plain": [
       "     Calls  Intern    Text  Data  Age\n",
       "382   0.99    0.22   21.27  0.23   61\n",
       "331   1.17    0.23   17.62  0.22   61\n",
       "308   5.42    1.00   17.21  2.36   51\n",
       "245   1.56    0.09  532.54  2.85   16\n",
       "205   1.65    0.09  560.99  2.98   16\n",
       "2     3.54    0.26  289.79  1.99   34\n",
       "591   1.47    0.09  570.68  3.17   14\n",
       "222   2.22    0.09   22.18  0.58   40\n",
       "345   4.28    1.16   18.78  1.84   49\n",
       "37    1.10    0.20   23.65  0.23   66"
      ]
     },
     "execution_count": 3,
     "metadata": {},
     "output_type": "execute_result"
    }
   ],
   "source": [
    "telco.sample(10)"
   ]
  },
  {
   "cell_type": "code",
   "execution_count": 4,
   "metadata": {},
   "outputs": [],
   "source": [
    "#scaling data\n",
    "# apply to each column\n",
    "telco_scaled = telco.apply(lambda x: (x - np.mean(x))/ np.std(x))"
   ]
  },
  {
   "cell_type": "code",
   "execution_count": 6,
   "metadata": {},
   "outputs": [
    {
     "data": {
      "text/html": [
       "<div>\n",
       "<style scoped>\n",
       "    .dataframe tbody tr th:only-of-type {\n",
       "        vertical-align: middle;\n",
       "    }\n",
       "\n",
       "    .dataframe tbody tr th {\n",
       "        vertical-align: top;\n",
       "    }\n",
       "\n",
       "    .dataframe thead th {\n",
       "        text-align: right;\n",
       "    }\n",
       "</style>\n",
       "<table border=\"1\" class=\"dataframe\">\n",
       "  <thead>\n",
       "    <tr style=\"text-align: right;\">\n",
       "      <th></th>\n",
       "      <th>Calls</th>\n",
       "      <th>Intern</th>\n",
       "      <th>Text</th>\n",
       "      <th>Data</th>\n",
       "      <th>Age</th>\n",
       "    </tr>\n",
       "  </thead>\n",
       "  <tbody>\n",
       "    <tr>\n",
       "      <th>0</th>\n",
       "      <td>-0.996125</td>\n",
       "      <td>-0.569290</td>\n",
       "      <td>-0.940982</td>\n",
       "      <td>-1.299162</td>\n",
       "      <td>1.372936</td>\n",
       "    </tr>\n",
       "    <tr>\n",
       "      <th>1</th>\n",
       "      <td>-1.022513</td>\n",
       "      <td>-0.489795</td>\n",
       "      <td>-0.969806</td>\n",
       "      <td>-1.262765</td>\n",
       "      <td>1.002273</td>\n",
       "    </tr>\n",
       "    <tr>\n",
       "      <th>2</th>\n",
       "      <td>0.600387</td>\n",
       "      <td>-0.383802</td>\n",
       "      <td>0.303060</td>\n",
       "      <td>0.018380</td>\n",
       "      <td>-0.233271</td>\n",
       "    </tr>\n",
       "    <tr>\n",
       "      <th>3</th>\n",
       "      <td>-1.015916</td>\n",
       "      <td>-0.516293</td>\n",
       "      <td>-0.963302</td>\n",
       "      <td>-1.277324</td>\n",
       "      <td>1.434713</td>\n",
       "    </tr>\n",
       "    <tr>\n",
       "      <th>4</th>\n",
       "      <td>-1.048902</td>\n",
       "      <td>-0.436798</td>\n",
       "      <td>-0.957780</td>\n",
       "      <td>-1.284603</td>\n",
       "      <td>1.125827</td>\n",
       "    </tr>\n",
       "    <tr>\n",
       "      <th>5</th>\n",
       "      <td>1.952805</td>\n",
       "      <td>1.259094</td>\n",
       "      <td>-0.962927</td>\n",
       "      <td>0.040218</td>\n",
       "      <td>0.199170</td>\n",
       "    </tr>\n",
       "    <tr>\n",
       "      <th>6</th>\n",
       "      <td>-0.949944</td>\n",
       "      <td>-0.569290</td>\n",
       "      <td>-0.968963</td>\n",
       "      <td>-1.255486</td>\n",
       "      <td>2.052484</td>\n",
       "    </tr>\n",
       "    <tr>\n",
       "      <th>7</th>\n",
       "      <td>0.290321</td>\n",
       "      <td>-0.171815</td>\n",
       "      <td>0.629196</td>\n",
       "      <td>0.069335</td>\n",
       "      <td>-0.480379</td>\n",
       "    </tr>\n",
       "    <tr>\n",
       "      <th>8</th>\n",
       "      <td>1.787876</td>\n",
       "      <td>1.550575</td>\n",
       "      <td>0.329638</td>\n",
       "      <td>-0.724102</td>\n",
       "      <td>0.199170</td>\n",
       "    </tr>\n",
       "    <tr>\n",
       "      <th>9</th>\n",
       "      <td>-0.131897</td>\n",
       "      <td>-0.834273</td>\n",
       "      <td>-0.970695</td>\n",
       "      <td>-1.095343</td>\n",
       "      <td>-0.295048</td>\n",
       "    </tr>\n",
       "  </tbody>\n",
       "</table>\n",
       "</div>"
      ],
      "text/plain": [
       "      Calls    Intern      Text      Data       Age\n",
       "0 -0.996125 -0.569290 -0.940982 -1.299162  1.372936\n",
       "1 -1.022513 -0.489795 -0.969806 -1.262765  1.002273\n",
       "2  0.600387 -0.383802  0.303060  0.018380 -0.233271\n",
       "3 -1.015916 -0.516293 -0.963302 -1.277324  1.434713\n",
       "4 -1.048902 -0.436798 -0.957780 -1.284603  1.125827\n",
       "5  1.952805  1.259094 -0.962927  0.040218  0.199170\n",
       "6 -0.949944 -0.569290 -0.968963 -1.255486  2.052484\n",
       "7  0.290321 -0.171815  0.629196  0.069335 -0.480379\n",
       "8  1.787876  1.550575  0.329638 -0.724102  0.199170\n",
       "9 -0.131897 -0.834273 -0.970695 -1.095343 -0.295048"
      ]
     },
     "execution_count": 6,
     "metadata": {},
     "output_type": "execute_result"
    }
   ],
   "source": [
    "telco_scaled.head(10)"
   ]
  },
  {
   "cell_type": "code",
   "execution_count": 7,
   "metadata": {},
   "outputs": [
    {
     "data": {
      "text/html": [
       "<div>\n",
       "<style scoped>\n",
       "    .dataframe tbody tr th:only-of-type {\n",
       "        vertical-align: middle;\n",
       "    }\n",
       "\n",
       "    .dataframe tbody tr th {\n",
       "        vertical-align: top;\n",
       "    }\n",
       "\n",
       "    .dataframe thead th {\n",
       "        text-align: right;\n",
       "    }\n",
       "</style>\n",
       "<table border=\"1\" class=\"dataframe\">\n",
       "  <thead>\n",
       "    <tr style=\"text-align: right;\">\n",
       "      <th></th>\n",
       "      <th>Calls</th>\n",
       "      <th>Intern</th>\n",
       "      <th>Text</th>\n",
       "      <th>Data</th>\n",
       "      <th>Age</th>\n",
       "    </tr>\n",
       "  </thead>\n",
       "  <tbody>\n",
       "    <tr>\n",
       "      <th>count</th>\n",
       "      <td>1.000000e+03</td>\n",
       "      <td>1.000000e+03</td>\n",
       "      <td>1.000000e+03</td>\n",
       "      <td>1.000000e+03</td>\n",
       "      <td>1.000000e+03</td>\n",
       "    </tr>\n",
       "    <tr>\n",
       "      <th>mean</th>\n",
       "      <td>-1.989964e-15</td>\n",
       "      <td>-2.852385e-15</td>\n",
       "      <td>1.069034e-15</td>\n",
       "      <td>-1.973387e-15</td>\n",
       "      <td>-2.446932e-16</td>\n",
       "    </tr>\n",
       "    <tr>\n",
       "      <th>std</th>\n",
       "      <td>1.000500e+00</td>\n",
       "      <td>1.000500e+00</td>\n",
       "      <td>1.000500e+00</td>\n",
       "      <td>1.000500e+00</td>\n",
       "      <td>1.000500e+00</td>\n",
       "    </tr>\n",
       "    <tr>\n",
       "      <th>min</th>\n",
       "      <td>-1.174248e+00</td>\n",
       "      <td>-8.342729e-01</td>\n",
       "      <td>-9.733149e-01</td>\n",
       "      <td>-1.306441e+00</td>\n",
       "      <td>-1.592368e+00</td>\n",
       "    </tr>\n",
       "    <tr>\n",
       "      <th>25%</th>\n",
       "      <td>-7.520297e-01</td>\n",
       "      <td>-7.812762e-01</td>\n",
       "      <td>-9.557213e-01</td>\n",
       "      <td>-1.051668e+00</td>\n",
       "      <td>-8.510422e-01</td>\n",
       "    </tr>\n",
       "    <tr>\n",
       "      <th>50%</th>\n",
       "      <td>-3.891861e-01</td>\n",
       "      <td>-4.897948e-01</td>\n",
       "      <td>-1.614142e-01</td>\n",
       "      <td>1.110083e-02</td>\n",
       "      <td>-1.714934e-01</td>\n",
       "    </tr>\n",
       "    <tr>\n",
       "      <th>75%</th>\n",
       "      <td>5.690510e-01</td>\n",
       "      <td>1.020609e+00</td>\n",
       "      <td>1.050073e+00</td>\n",
       "      <td>6.826104e-01</td>\n",
       "      <td>8.169412e-01</td>\n",
       "    </tr>\n",
       "    <tr>\n",
       "      <th>max</th>\n",
       "      <td>2.223288e+00</td>\n",
       "      <td>2.107040e+00</td>\n",
       "      <td>1.749616e+00</td>\n",
       "      <td>2.056566e+00</td>\n",
       "      <td>2.114262e+00</td>\n",
       "    </tr>\n",
       "  </tbody>\n",
       "</table>\n",
       "</div>"
      ],
      "text/plain": [
       "              Calls        Intern          Text          Data           Age\n",
       "count  1.000000e+03  1.000000e+03  1.000000e+03  1.000000e+03  1.000000e+03\n",
       "mean  -1.989964e-15 -2.852385e-15  1.069034e-15 -1.973387e-15 -2.446932e-16\n",
       "std    1.000500e+00  1.000500e+00  1.000500e+00  1.000500e+00  1.000500e+00\n",
       "min   -1.174248e+00 -8.342729e-01 -9.733149e-01 -1.306441e+00 -1.592368e+00\n",
       "25%   -7.520297e-01 -7.812762e-01 -9.557213e-01 -1.051668e+00 -8.510422e-01\n",
       "50%   -3.891861e-01 -4.897948e-01 -1.614142e-01  1.110083e-02 -1.714934e-01\n",
       "75%    5.690510e-01  1.020609e+00  1.050073e+00  6.826104e-01  8.169412e-01\n",
       "max    2.223288e+00  2.107040e+00  1.749616e+00  2.056566e+00  2.114262e+00"
      ]
     },
     "execution_count": 7,
     "metadata": {},
     "output_type": "execute_result"
    }
   ],
   "source": [
    "telco_scaled.describe()"
   ]
  },
  {
   "cell_type": "markdown",
   "metadata": {},
   "source": [
    "## Hierarchical clustering\n",
    "### Agglomerative : n clusters -> 1 cluster\n",
    "### Divisive: 1 cluster -> n clusters"
   ]
  },
  {
   "cell_type": "code",
   "execution_count": 8,
   "metadata": {},
   "outputs": [],
   "source": [
    "import scipy\n",
    "from scipy.cluster.hierarchy import dendrogram, linkage\n"
   ]
  },
  {
   "cell_type": "code",
   "execution_count": 10,
   "metadata": {},
   "outputs": [],
   "source": [
    "# perform linkage for clustering\n",
    "Z = linkage(telco_scaled, \"complete\")"
   ]
  },
  {
   "cell_type": "code",
   "execution_count": 11,
   "metadata": {},
   "outputs": [
    {
     "data": {
      "image/png": "[encoded data removed]",
      "text/plain": [
       "<Figure size 432x288 with 1 Axes>"
      ]
     },
     "metadata": {
      "needs_background": "light"
     },
     "output_type": "display_data"
    }
   ],
   "source": [
    "# PLOT DENDOGRAM\n",
    "# left rotation -> vertical\n",
    "# The vertical axis is labelled distance and refers to a distance measure between compounds or compound clusters\n",
    "\n",
    "dendrogram(Z, leaf_rotation = 90, leaf_font_size = 5.)\n",
    "plt.title(\"dendrogram\")\n",
    "plt.xlabel(\"cluster size\")\n",
    "plt.ylabel(\"distance\")\n",
    "plt.show()"
   ]
  },
  {
   "cell_type": "code",
   "execution_count": 12,
   "metadata": {},
   "outputs": [
    {
     "data": {
      "image/png": "[encoded data removed]",
      "text/plain": [
       "<Figure size 432x288 with 1 Axes>"
      ]
     },
     "metadata": {
      "needs_background": "light"
     },
     "output_type": "display_data"
    }
   ],
   "source": [
    "# last p clusters only\n",
    "dendrogram(Z, truncate_mode = 'lastp', p = 30, leaf_rotation = 90, leaf_font_size = 5.)\n",
    "plt.title(\"dendogram\")\n",
    "plt.xlabel(\"cluster size\")\n",
    "plt.ylabel(\"distance\")\n",
    "plt.show()\n"
   ]
  },
  {
   "cell_type": "code",
   "execution_count": 13,
   "metadata": {},
   "outputs": [],
   "source": [
    "# do clustering\n",
    "\n",
    "import sklearn\n",
    "from sklearn.cluster import AgglomerativeClustering\n"
   ]
  },
  {
   "cell_type": "code",
   "execution_count": 14,
   "metadata": {},
   "outputs": [],
   "source": [
    "hclust = AgglomerativeClustering(n_clusters = 5, affinity = 'euclidean', linkage = 'complete')"
   ]
  },
  {
   "cell_type": "code",
   "execution_count": 15,
   "metadata": {},
   "outputs": [
    {
     "data": {
      "text/plain": [
       "AgglomerativeClustering(linkage='complete', n_clusters=5)"
      ]
     },
     "execution_count": 15,
     "metadata": {},
     "output_type": "execute_result"
    }
   ],
   "source": [
    "hclust.fit(telco_scaled)"
   ]
  },
  {
   "cell_type": "code",
   "execution_count": 16,
   "metadata": {},
   "outputs": [],
   "source": [
    "# group after clustering\n",
    "\n",
    "telco['Groups'] = hclust.labels_\n"
   ]
  },
  {
   "cell_type": "code",
   "execution_count": 17,
   "metadata": {},
   "outputs": [
    {
     "data": {
      "text/html": [
       "<div>\n",
       "<style scoped>\n",
       "    .dataframe tbody tr th:only-of-type {\n",
       "        vertical-align: middle;\n",
       "    }\n",
       "\n",
       "    .dataframe tbody tr th {\n",
       "        vertical-align: top;\n",
       "    }\n",
       "\n",
       "    .dataframe thead th {\n",
       "        text-align: right;\n",
       "    }\n",
       "</style>\n",
       "<table border=\"1\" class=\"dataframe\">\n",
       "  <thead>\n",
       "    <tr style=\"text-align: right;\">\n",
       "      <th></th>\n",
       "      <th>Calls</th>\n",
       "      <th>Intern</th>\n",
       "      <th>Text</th>\n",
       "      <th>Data</th>\n",
       "      <th>Age</th>\n",
       "      <th>Groups</th>\n",
       "    </tr>\n",
       "  </thead>\n",
       "  <tbody>\n",
       "    <tr>\n",
       "      <th>0</th>\n",
       "      <td>1.12</td>\n",
       "      <td>0.19</td>\n",
       "      <td>23.92</td>\n",
       "      <td>0.18</td>\n",
       "      <td>60</td>\n",
       "      <td>3</td>\n",
       "    </tr>\n",
       "    <tr>\n",
       "      <th>1</th>\n",
       "      <td>1.08</td>\n",
       "      <td>0.22</td>\n",
       "      <td>17.76</td>\n",
       "      <td>0.23</td>\n",
       "      <td>54</td>\n",
       "      <td>3</td>\n",
       "    </tr>\n",
       "    <tr>\n",
       "      <th>2</th>\n",
       "      <td>3.54</td>\n",
       "      <td>0.26</td>\n",
       "      <td>289.79</td>\n",
       "      <td>1.99</td>\n",
       "      <td>34</td>\n",
       "      <td>4</td>\n",
       "    </tr>\n",
       "    <tr>\n",
       "      <th>3</th>\n",
       "      <td>1.09</td>\n",
       "      <td>0.21</td>\n",
       "      <td>19.15</td>\n",
       "      <td>0.21</td>\n",
       "      <td>61</td>\n",
       "      <td>3</td>\n",
       "    </tr>\n",
       "    <tr>\n",
       "      <th>4</th>\n",
       "      <td>1.04</td>\n",
       "      <td>0.24</td>\n",
       "      <td>20.33</td>\n",
       "      <td>0.20</td>\n",
       "      <td>56</td>\n",
       "      <td>3</td>\n",
       "    </tr>\n",
       "    <tr>\n",
       "      <th>5</th>\n",
       "      <td>5.59</td>\n",
       "      <td>0.88</td>\n",
       "      <td>19.23</td>\n",
       "      <td>2.02</td>\n",
       "      <td>41</td>\n",
       "      <td>0</td>\n",
       "    </tr>\n",
       "    <tr>\n",
       "      <th>6</th>\n",
       "      <td>1.19</td>\n",
       "      <td>0.19</td>\n",
       "      <td>17.94</td>\n",
       "      <td>0.24</td>\n",
       "      <td>71</td>\n",
       "      <td>3</td>\n",
       "    </tr>\n",
       "    <tr>\n",
       "      <th>7</th>\n",
       "      <td>3.07</td>\n",
       "      <td>0.34</td>\n",
       "      <td>359.49</td>\n",
       "      <td>2.06</td>\n",
       "      <td>30</td>\n",
       "      <td>4</td>\n",
       "    </tr>\n",
       "    <tr>\n",
       "      <th>8</th>\n",
       "      <td>5.34</td>\n",
       "      <td>0.99</td>\n",
       "      <td>295.47</td>\n",
       "      <td>0.97</td>\n",
       "      <td>41</td>\n",
       "      <td>0</td>\n",
       "    </tr>\n",
       "    <tr>\n",
       "      <th>9</th>\n",
       "      <td>2.43</td>\n",
       "      <td>0.09</td>\n",
       "      <td>17.57</td>\n",
       "      <td>0.46</td>\n",
       "      <td>33</td>\n",
       "      <td>4</td>\n",
       "    </tr>\n",
       "  </tbody>\n",
       "</table>\n",
       "</div>"
      ],
      "text/plain": [
       "   Calls  Intern    Text  Data  Age  Groups\n",
       "0   1.12    0.19   23.92  0.18   60       3\n",
       "1   1.08    0.22   17.76  0.23   54       3\n",
       "2   3.54    0.26  289.79  1.99   34       4\n",
       "3   1.09    0.21   19.15  0.21   61       3\n",
       "4   1.04    0.24   20.33  0.20   56       3\n",
       "5   5.59    0.88   19.23  2.02   41       0\n",
       "6   1.19    0.19   17.94  0.24   71       3\n",
       "7   3.07    0.34  359.49  2.06   30       4\n",
       "8   5.34    0.99  295.47  0.97   41       0\n",
       "9   2.43    0.09   17.57  0.46   33       4"
      ]
     },
     "execution_count": 17,
     "metadata": {},
     "output_type": "execute_result"
    }
   ],
   "source": [
    "telco.head(10)"
   ]
  },
  {
   "cell_type": "code",
   "execution_count": 18,
   "metadata": {
    "scrolled": true
   },
   "outputs": [
    {
     "data": {
      "text/html": [
       "<div>\n",
       "<style scoped>\n",
       "    .dataframe tbody tr th:only-of-type {\n",
       "        vertical-align: middle;\n",
       "    }\n",
       "\n",
       "    .dataframe tbody tr th {\n",
       "        vertical-align: top;\n",
       "    }\n",
       "\n",
       "    .dataframe thead th {\n",
       "        text-align: right;\n",
       "    }\n",
       "</style>\n",
       "<table border=\"1\" class=\"dataframe\">\n",
       "  <thead>\n",
       "    <tr style=\"text-align: right;\">\n",
       "      <th></th>\n",
       "      <th>Calls</th>\n",
       "      <th>Intern</th>\n",
       "      <th>Text</th>\n",
       "      <th>Data</th>\n",
       "      <th>Age</th>\n",
       "    </tr>\n",
       "    <tr>\n",
       "      <th>Groups</th>\n",
       "      <th></th>\n",
       "      <th></th>\n",
       "      <th></th>\n",
       "      <th></th>\n",
       "      <th></th>\n",
       "    </tr>\n",
       "  </thead>\n",
       "  <tbody>\n",
       "    <tr>\n",
       "      <th>0</th>\n",
       "      <td>4.900</td>\n",
       "      <td>1.02</td>\n",
       "      <td>21.930</td>\n",
       "      <td>2.03</td>\n",
       "      <td>44</td>\n",
       "    </tr>\n",
       "    <tr>\n",
       "      <th>1</th>\n",
       "      <td>5.020</td>\n",
       "      <td>0.45</td>\n",
       "      <td>391.430</td>\n",
       "      <td>1.51</td>\n",
       "      <td>50</td>\n",
       "    </tr>\n",
       "    <tr>\n",
       "      <th>2</th>\n",
       "      <td>1.700</td>\n",
       "      <td>0.10</td>\n",
       "      <td>509.930</td>\n",
       "      <td>3.71</td>\n",
       "      <td>20</td>\n",
       "    </tr>\n",
       "    <tr>\n",
       "      <th>3</th>\n",
       "      <td>1.025</td>\n",
       "      <td>0.21</td>\n",
       "      <td>20.885</td>\n",
       "      <td>0.21</td>\n",
       "      <td>61</td>\n",
       "    </tr>\n",
       "    <tr>\n",
       "      <th>4</th>\n",
       "      <td>2.800</td>\n",
       "      <td>0.27</td>\n",
       "      <td>281.190</td>\n",
       "      <td>1.82</td>\n",
       "      <td>32</td>\n",
       "    </tr>\n",
       "  </tbody>\n",
       "</table>\n",
       "</div>"
      ],
      "text/plain": [
       "        Calls  Intern     Text  Data  Age\n",
       "Groups                                   \n",
       "0       4.900    1.02   21.930  2.03   44\n",
       "1       5.020    0.45  391.430  1.51   50\n",
       "2       1.700    0.10  509.930  3.71   20\n",
       "3       1.025    0.21   20.885  0.21   61\n",
       "4       2.800    0.27  281.190  1.82   32"
      ]
     },
     "execution_count": 18,
     "metadata": {},
     "output_type": "execute_result"
    }
   ],
   "source": [
    "#cluster profiling\n",
    "\n",
    "telco.groupby(['Groups']).median()"
   ]
  },
  {
   "cell_type": "markdown",
   "metadata": {},
   "source": [
    "## K means"
   ]
  },
  {
   "cell_type": "code",
   "execution_count": 19,
   "metadata": {},
   "outputs": [],
   "source": [
    "# The K-means algorithm aims to choose centroids that minimise the inertia, or within-cluster sum-of-squares criterion\n",
    "from sklearn.cluster import KMeans\n"
   ]
  },
  {
   "cell_type": "code",
   "execution_count": 20,
   "metadata": {},
   "outputs": [],
   "source": [
    "# n_init: kmeans ++ is used by default and Number of time the k-means algorithm will be run with different\n",
    "# centroid seeds. The final results will be the best output of n_init consecutive runs in terms of inertia.\n",
    "\n",
    "km = KMeans(n_clusters = 5, n_init = 40)"
   ]
  },
  {
   "cell_type": "code",
   "execution_count": 21,
   "metadata": {},
   "outputs": [
    {
     "data": {
      "text/plain": [
       "KMeans(n_clusters=5, n_init=40)"
      ]
     },
     "execution_count": 21,
     "metadata": {},
     "output_type": "execute_result"
    }
   ],
   "source": [
    "km.fit(telco_scaled)"
   ]
  },
  {
   "cell_type": "code",
   "execution_count": 22,
   "metadata": {},
   "outputs": [],
   "source": [
    "telco['Groups'] = km.labels_"
   ]
  },
  {
   "cell_type": "code",
   "execution_count": 23,
   "metadata": {},
   "outputs": [
    {
     "data": {
      "text/html": [
       "<div>\n",
       "<style scoped>\n",
       "    .dataframe tbody tr th:only-of-type {\n",
       "        vertical-align: middle;\n",
       "    }\n",
       "\n",
       "    .dataframe tbody tr th {\n",
       "        vertical-align: top;\n",
       "    }\n",
       "\n",
       "    .dataframe thead th {\n",
       "        text-align: right;\n",
       "    }\n",
       "</style>\n",
       "<table border=\"1\" class=\"dataframe\">\n",
       "  <thead>\n",
       "    <tr style=\"text-align: right;\">\n",
       "      <th></th>\n",
       "      <th>Calls</th>\n",
       "      <th>Intern</th>\n",
       "      <th>Text</th>\n",
       "      <th>Data</th>\n",
       "      <th>Age</th>\n",
       "    </tr>\n",
       "    <tr>\n",
       "      <th>Groups</th>\n",
       "      <th></th>\n",
       "      <th></th>\n",
       "      <th></th>\n",
       "      <th></th>\n",
       "      <th></th>\n",
       "    </tr>\n",
       "  </thead>\n",
       "  <tbody>\n",
       "    <tr>\n",
       "      <th>0</th>\n",
       "      <td>5.090</td>\n",
       "      <td>1.00</td>\n",
       "      <td>20.91</td>\n",
       "      <td>2.070</td>\n",
       "      <td>46</td>\n",
       "    </tr>\n",
       "    <tr>\n",
       "      <th>1</th>\n",
       "      <td>1.690</td>\n",
       "      <td>0.10</td>\n",
       "      <td>510.35</td>\n",
       "      <td>3.715</td>\n",
       "      <td>20</td>\n",
       "    </tr>\n",
       "    <tr>\n",
       "      <th>2</th>\n",
       "      <td>1.010</td>\n",
       "      <td>0.20</td>\n",
       "      <td>20.66</td>\n",
       "      <td>0.210</td>\n",
       "      <td>61</td>\n",
       "    </tr>\n",
       "    <tr>\n",
       "      <th>3</th>\n",
       "      <td>2.965</td>\n",
       "      <td>0.33</td>\n",
       "      <td>309.14</td>\n",
       "      <td>1.965</td>\n",
       "      <td>32</td>\n",
       "    </tr>\n",
       "    <tr>\n",
       "      <th>4</th>\n",
       "      <td>2.320</td>\n",
       "      <td>0.10</td>\n",
       "      <td>20.51</td>\n",
       "      <td>0.530</td>\n",
       "      <td>35</td>\n",
       "    </tr>\n",
       "  </tbody>\n",
       "</table>\n",
       "</div>"
      ],
      "text/plain": [
       "        Calls  Intern    Text   Data  Age\n",
       "Groups                                   \n",
       "0       5.090    1.00   20.91  2.070   46\n",
       "1       1.690    0.10  510.35  3.715   20\n",
       "2       1.010    0.20   20.66  0.210   61\n",
       "3       2.965    0.33  309.14  1.965   32\n",
       "4       2.320    0.10   20.51  0.530   35"
      ]
     },
     "execution_count": 23,
     "metadata": {},
     "output_type": "execute_result"
    }
   ],
   "source": [
    "# cluster profiling\n",
    "telco.groupby(['Groups']).median()"
   ]
  },
  {
   "cell_type": "code",
   "execution_count": 24,
   "metadata": {},
   "outputs": [
    {
     "data": {
      "text/plain": [
       "785.930877506844"
      ]
     },
     "execution_count": 24,
     "metadata": {},
     "output_type": "execute_result"
    }
   ],
   "source": [
    "# measure inertia which is the sum of intra cluster distances\n",
    "km.inertia_"
   ]
  },
  {
   "cell_type": "code",
   "execution_count": 27,
   "metadata": {},
   "outputs": [],
   "source": [
    "# Draw scree plot of inertias\n",
    "inertias = []\n",
    "\n",
    "for k in range(2,13):\n",
    "    km = KMeans(n_clusters = k, n_init = 40)\n",
    "    inertia = km.fit(telco_scaled).inertia_\n",
    "    inertias.append(inertia)\n"
   ]
  },
  {
   "cell_type": "code",
   "execution_count": 28,
   "metadata": {},
   "outputs": [
    {
     "data": {
      "image/png": "[encoded data removed]",
      "text/plain": [
       "<Figure size 432x288 with 1 Axes>"
      ]
     },
     "metadata": {
      "needs_background": "light"
     },
     "output_type": "display_data"
    }
   ],
   "source": [
    "plt.plot(range(2,13), inertias)\n",
    "plt.show()\n"
   ]
  },
  {
   "cell_type": "markdown",
   "metadata": {},
   "source": [
    "### From above scree plot we can see that elbow is at around n=5 and after that there's minimal change in inertia  so that'll be ideal"
   ]
  },
  {
   "cell_type": "code",
   "execution_count": 29,
   "metadata": {},
   "outputs": [],
   "source": [
    "#TODO: silhoutte score accuracy scores for clustering algos"
   ]
  },
  {
   "cell_type": "code",
   "execution_count": null,
   "metadata": {},
   "outputs": [],
   "source": []
  }
 ],
 "metadata": {
  "kernelspec": {
   "display_name": "Python 3",
   "language": "python",
   "name": "python3"
  },
  "language_info": {
   "codemirror_mode": {
    "name": "ipython",
    "version": 3
   },
   "file_extension": ".py",
   "mimetype": "text/x-python",
   "name": "python",
   "nbconvert_exporter": "python",
   "pygments_lexer": "ipython3",
   "version": "3.8.5"
  }
 },
 "nbformat": 4,
 "nbformat_minor": 4
}
