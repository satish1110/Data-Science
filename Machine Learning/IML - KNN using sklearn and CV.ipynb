{
 "cells": [
  {
   "cell_type": "markdown",
   "metadata": {},
   "source": [
    "## Knn is a non parametric algo that uses the target info from the k nearest neighbours of an observation and regress/classify based on them. We use built in library algo here."
   ]
  },
  {
   "cell_type": "markdown",
   "metadata": {},
   "source": [
    "## Knn classifier"
   ]
  },
  {
   "cell_type": "code",
   "execution_count": 33,
   "metadata": {},
   "outputs": [],
   "source": [
    "import pandas as pd\n",
    "import numpy as np\n",
    "import os\n",
    "import sklearn\n",
    "#for test_train split\n",
    "from sklearn.model_selection import train_test_split\n",
    "from sklearn.neighbors import KNeighborsClassifier\n",
    "from sklearn.metrics import confusion_matrix"
   ]
  },
  {
   "cell_type": "code",
   "execution_count": 34,
   "metadata": {},
   "outputs": [],
   "source": [
    "iris = pd.read_csv('iris.csv')"
   ]
  },
  {
   "cell_type": "code",
   "execution_count": 35,
   "metadata": {},
   "outputs": [],
   "source": [
    "#initialize model\n",
    "knn = KNeighborsClassifier(n_neighbors=3)"
   ]
  },
  {
   "cell_type": "code",
   "execution_count": 36,
   "metadata": {},
   "outputs": [],
   "source": [
    "X = iris[['sepal_length', 'sepal_width', 'petal_length', \"petal_width\"]]\n",
    "y = iris['species']"
   ]
  },
  {
   "cell_type": "code",
   "execution_count": 37,
   "metadata": {},
   "outputs": [
    {
     "data": {
      "text/plain": [
       "pandas.core.series.Series"
      ]
     },
     "execution_count": 37,
     "metadata": {},
     "output_type": "execute_result"
    }
   ],
   "source": [
    "type(y)"
   ]
  },
  {
   "cell_type": "code",
   "execution_count": 38,
   "metadata": {},
   "outputs": [],
   "source": [
    "# split into train and test using stratification on y\n",
    "X_train, X_test, y_train, y_test = train_test_split( X, y, test_size=0.3, stratify=y, random_state=100)  "
   ]
  },
  {
   "cell_type": "code",
   "execution_count": 39,
   "metadata": {},
   "outputs": [
    {
     "data": {
      "text/plain": [
       "KNeighborsClassifier(n_neighbors=3)"
      ]
     },
     "execution_count": 39,
     "metadata": {},
     "output_type": "execute_result"
    }
   ],
   "source": [
    "# fit the model\n",
    "knn.fit(X_train, y_train)"
   ]
  },
  {
   "cell_type": "code",
   "execution_count": 40,
   "metadata": {
    "scrolled": true
   },
   "outputs": [
    {
     "data": {
      "text/plain": [
       "array(['Iris-setosa', 'Iris-versicolor', 'Iris-virginica',\n",
       "       'Iris-versicolor', 'Iris-virginica', 'Iris-setosa',\n",
       "       'Iris-versicolor', 'Iris-setosa', 'Iris-setosa', 'Iris-setosa',\n",
       "       'Iris-versicolor', 'Iris-versicolor', 'Iris-versicolor',\n",
       "       'Iris-setosa', 'Iris-versicolor', 'Iris-virginica',\n",
       "       'Iris-virginica', 'Iris-virginica', 'Iris-versicolor',\n",
       "       'Iris-versicolor', 'Iris-virginica', 'Iris-versicolor',\n",
       "       'Iris-versicolor', 'Iris-virginica', 'Iris-versicolor',\n",
       "       'Iris-setosa', 'Iris-versicolor', 'Iris-versicolor', 'Iris-setosa',\n",
       "       'Iris-virginica', 'Iris-virginica', 'Iris-virginica',\n",
       "       'Iris-virginica', 'Iris-setosa', 'Iris-versicolor',\n",
       "       'Iris-virginica', 'Iris-setosa', 'Iris-setosa', 'Iris-setosa',\n",
       "       'Iris-versicolor', 'Iris-setosa', 'Iris-setosa', 'Iris-setosa',\n",
       "       'Iris-versicolor', 'Iris-virginica'], dtype=object)"
      ]
     },
     "execution_count": 40,
     "metadata": {},
     "output_type": "execute_result"
    }
   ],
   "source": [
    "# make prediction\n",
    "y_pred = knn.predict(X_test)\n",
    "y_pred"
   ]
  },
  {
   "cell_type": "code",
   "execution_count": 41,
   "metadata": {},
   "outputs": [
    {
     "data": {
      "text/plain": [
       "0.9555555555555556"
      ]
     },
     "execution_count": 41,
     "metadata": {},
     "output_type": "execute_result"
    }
   ],
   "source": [
    "from sklearn.metrics import accuracy_score\n",
    "accuracy_score(y_test, y_pred)"
   ]
  },
  {
   "cell_type": "markdown",
   "metadata": {},
   "source": [
    "## Do cross validation to get best k"
   ]
  },
  {
   "cell_type": "code",
   "execution_count": 42,
   "metadata": {},
   "outputs": [],
   "source": [
    "from sklearn.model_selection import cross_val_score"
   ]
  },
  {
   "cell_type": "code",
   "execution_count": 43,
   "metadata": {},
   "outputs": [],
   "source": [
    "neighbors = list(range(1,50))\n",
    "\n",
    "cv_scores = []\n",
    "\n",
    "for k in neighbors:\n",
    "    knn = KNeighborsClassifier(n_neighbors = k)\n",
    "    scores = cross_val_score(knn, X_train, y_train, cv=10, scoring = \"accuracy\")\n",
    "    cv_scores.append(scores.mean())"
   ]
  },
  {
   "cell_type": "code",
   "execution_count": 44,
   "metadata": {},
   "outputs": [
    {
     "data": {
      "text/plain": [
       "[0.9700000000000001,\n",
       " 0.9318181818181819,\n",
       " 0.9518181818181819,\n",
       " 0.941818181818182,\n",
       " 0.9518181818181819,\n",
       " 0.9618181818181819,\n",
       " 0.9518181818181819,\n",
       " 0.9618181818181819,\n",
       " 0.9709090909090909,\n",
       " 0.9618181818181819,\n",
       " 0.9527272727272728,\n",
       " 0.9427272727272727,\n",
       " 0.9527272727272728,\n",
       " 0.9527272727272728,\n",
       " 0.9527272727272728,\n",
       " 0.9618181818181819,\n",
       " 0.9527272727272728,\n",
       " 0.9527272727272728,\n",
       " 0.9527272727272728,\n",
       " 0.9618181818181819,\n",
       " 0.9527272727272728,\n",
       " 0.9527272727272728,\n",
       " 0.9527272727272728,\n",
       " 0.9527272727272728,\n",
       " 0.9527272727272728,\n",
       " 0.9527272727272728,\n",
       " 0.9527272727272728,\n",
       " 0.9718181818181819,\n",
       " 0.9627272727272727,\n",
       " 0.9527272727272728,\n",
       " 0.9527272727272728,\n",
       " 0.9327272727272728,\n",
       " 0.9527272727272728,\n",
       " 0.9327272727272728,\n",
       " 0.9327272727272728,\n",
       " 0.9136363636363637,\n",
       " 0.9136363636363637,\n",
       " 0.9136363636363637,\n",
       " 0.9227272727272728,\n",
       " 0.9136363636363637,\n",
       " 0.9327272727272728,\n",
       " 0.9227272727272728,\n",
       " 0.9227272727272728,\n",
       " 0.9227272727272728,\n",
       " 0.9418181818181818,\n",
       " 0.9227272727272728,\n",
       " 0.9327272727272728,\n",
       " 0.9045454545454547,\n",
       " 0.9127272727272728]"
      ]
     },
     "execution_count": 44,
     "metadata": {},
     "output_type": "execute_result"
    }
   ],
   "source": [
    "cv_scores"
   ]
  },
  {
   "cell_type": "code",
   "execution_count": 45,
   "metadata": {},
   "outputs": [],
   "source": [
    "import matplotlib.pyplot as plt\n"
   ]
  },
  {
   "cell_type": "code",
   "execution_count": 46,
   "metadata": {},
   "outputs": [
    {
     "data": {
      "text/plain": [
       "[0.029999999999999916,\n",
       " 0.06818181818181812,\n",
       " 0.048181818181818103,\n",
       " 0.058181818181818,\n",
       " 0.048181818181818103,\n",
       " 0.038181818181818095,\n",
       " 0.048181818181818103,\n",
       " 0.038181818181818095,\n",
       " 0.029090909090909056,\n",
       " 0.038181818181818095,\n",
       " 0.047272727272727244,\n",
       " 0.05727272727272725,\n",
       " 0.047272727272727244,\n",
       " 0.047272727272727244,\n",
       " 0.047272727272727244,\n",
       " 0.038181818181818095,\n",
       " 0.047272727272727244,\n",
       " 0.047272727272727244,\n",
       " 0.047272727272727244,\n",
       " 0.038181818181818095,\n",
       " 0.047272727272727244,\n",
       " 0.047272727272727244,\n",
       " 0.047272727272727244,\n",
       " 0.047272727272727244,\n",
       " 0.047272727272727244,\n",
       " 0.047272727272727244,\n",
       " 0.047272727272727244,\n",
       " 0.028181818181818086,\n",
       " 0.037272727272727346,\n",
       " 0.047272727272727244,\n",
       " 0.047272727272727244,\n",
       " 0.06727272727272715,\n",
       " 0.047272727272727244,\n",
       " 0.06727272727272715,\n",
       " 0.06727272727272715,\n",
       " 0.08636363636363631,\n",
       " 0.08636363636363631,\n",
       " 0.08636363636363631,\n",
       " 0.07727272727272716,\n",
       " 0.08636363636363631,\n",
       " 0.06727272727272715,\n",
       " 0.07727272727272716,\n",
       " 0.07727272727272716,\n",
       " 0.07727272727272716,\n",
       " 0.05818181818181822,\n",
       " 0.07727272727272716,\n",
       " 0.06727272727272715,\n",
       " 0.09545454545454535,\n",
       " 0.08727272727272717]"
      ]
     },
     "execution_count": 46,
     "metadata": {},
     "output_type": "execute_result"
    }
   ],
   "source": [
    "error = [1 - x for x in cv_scores]\n",
    "error"
   ]
  },
  {
   "cell_type": "code",
   "execution_count": 47,
   "metadata": {
    "scrolled": true
   },
   "outputs": [
    {
     "data": {
      "image/png": "[encoded data removed]",
      "text/plain": [
       "<Figure size 432x288 with 1 Axes>"
      ]
     },
     "metadata": {
      "needs_background": "light"
     },
     "output_type": "display_data"
    }
   ],
   "source": [
    "# plot errors vs values of k\n",
    "plt.plot(neighbors, error)\n",
    "plt.xlabel(\"number of neighbors k\")\n",
    "plt.ylabel(\"misclassification error\")\n",
    "plt.show()"
   ]
  },
  {
   "cell_type": "markdown",
   "metadata": {},
   "source": [
    "### From this we can say that k = 9 is a good value"
   ]
  },
  {
   "cell_type": "markdown",
   "metadata": {},
   "source": [
    "## For KNN Regression  -  use knnregressor\n",
    "dont use confusion matrix instead use rmse\n",
    "rest remains same as above"
   ]
  },
  {
   "cell_type": "code",
   "execution_count": 49,
   "metadata": {},
   "outputs": [],
   "source": [
    "from sklearn.neighbors import KNeighborsRegressor"
   ]
  },
  {
   "cell_type": "code",
   "execution_count": 50,
   "metadata": {},
   "outputs": [],
   "source": [
    "# init model\n",
    "knnr = KNeighborsRegressor(n_neighbors=3)"
   ]
  },
  {
   "cell_type": "code",
   "execution_count": 51,
   "metadata": {},
   "outputs": [
    {
     "data": {
      "text/html": [
       "<div>\n",
       "<style scoped>\n",
       "    .dataframe tbody tr th:only-of-type {\n",
       "        vertical-align: middle;\n",
       "    }\n",
       "\n",
       "    .dataframe tbody tr th {\n",
       "        vertical-align: top;\n",
       "    }\n",
       "\n",
       "    .dataframe thead th {\n",
       "        text-align: right;\n",
       "    }\n",
       "</style>\n",
       "<table border=\"1\" class=\"dataframe\">\n",
       "  <thead>\n",
       "    <tr style=\"text-align: right;\">\n",
       "      <th></th>\n",
       "      <th>Car</th>\n",
       "      <th>MPG</th>\n",
       "      <th>Cylinders</th>\n",
       "      <th>Displacement</th>\n",
       "      <th>Horsepower</th>\n",
       "      <th>Weight</th>\n",
       "      <th>Acceleration</th>\n",
       "      <th>Model</th>\n",
       "      <th>Origin</th>\n",
       "    </tr>\n",
       "  </thead>\n",
       "  <tbody>\n",
       "    <tr>\n",
       "      <th>15</th>\n",
       "      <td>Dodge Challenger SE</td>\n",
       "      <td>15.0</td>\n",
       "      <td>8</td>\n",
       "      <td>383.0</td>\n",
       "      <td>170</td>\n",
       "      <td>3563</td>\n",
       "      <td>10.0</td>\n",
       "      <td>70</td>\n",
       "      <td>US</td>\n",
       "    </tr>\n",
       "    <tr>\n",
       "      <th>244</th>\n",
       "      <td>Chevrolet Chevette</td>\n",
       "      <td>30.5</td>\n",
       "      <td>4</td>\n",
       "      <td>98.0</td>\n",
       "      <td>63</td>\n",
       "      <td>2051</td>\n",
       "      <td>17.0</td>\n",
       "      <td>77</td>\n",
       "      <td>US</td>\n",
       "    </tr>\n",
       "    <tr>\n",
       "      <th>78</th>\n",
       "      <td>Mazda RX2 Coupe</td>\n",
       "      <td>19.0</td>\n",
       "      <td>3</td>\n",
       "      <td>70.0</td>\n",
       "      <td>97</td>\n",
       "      <td>2330</td>\n",
       "      <td>13.5</td>\n",
       "      <td>72</td>\n",
       "      <td>Japan</td>\n",
       "    </tr>\n",
       "    <tr>\n",
       "      <th>121</th>\n",
       "      <td>Fiat 124 Sport Coupe</td>\n",
       "      <td>26.0</td>\n",
       "      <td>4</td>\n",
       "      <td>98.0</td>\n",
       "      <td>90</td>\n",
       "      <td>2265</td>\n",
       "      <td>15.5</td>\n",
       "      <td>73</td>\n",
       "      <td>Europe</td>\n",
       "    </tr>\n",
       "    <tr>\n",
       "      <th>22</th>\n",
       "      <td>AMC Hornet</td>\n",
       "      <td>18.0</td>\n",
       "      <td>6</td>\n",
       "      <td>199.0</td>\n",
       "      <td>97</td>\n",
       "      <td>2774</td>\n",
       "      <td>15.5</td>\n",
       "      <td>70</td>\n",
       "      <td>US</td>\n",
       "    </tr>\n",
       "    <tr>\n",
       "      <th>326</th>\n",
       "      <td>Mazda 626</td>\n",
       "      <td>31.3</td>\n",
       "      <td>4</td>\n",
       "      <td>120.0</td>\n",
       "      <td>75</td>\n",
       "      <td>2542</td>\n",
       "      <td>17.5</td>\n",
       "      <td>80</td>\n",
       "      <td>Japan</td>\n",
       "    </tr>\n",
       "    <tr>\n",
       "      <th>333</th>\n",
       "      <td>Volkswagen Dasher (diesel)</td>\n",
       "      <td>43.4</td>\n",
       "      <td>4</td>\n",
       "      <td>90.0</td>\n",
       "      <td>48</td>\n",
       "      <td>2335</td>\n",
       "      <td>23.7</td>\n",
       "      <td>80</td>\n",
       "      <td>Europe</td>\n",
       "    </tr>\n",
       "    <tr>\n",
       "      <th>159</th>\n",
       "      <td>Plymouth Valiant Custom</td>\n",
       "      <td>19.0</td>\n",
       "      <td>6</td>\n",
       "      <td>225.0</td>\n",
       "      <td>95</td>\n",
       "      <td>3264</td>\n",
       "      <td>16.0</td>\n",
       "      <td>75</td>\n",
       "      <td>US</td>\n",
       "    </tr>\n",
       "    <tr>\n",
       "      <th>346</th>\n",
       "      <td>Buick Skylark</td>\n",
       "      <td>26.6</td>\n",
       "      <td>4</td>\n",
       "      <td>151.0</td>\n",
       "      <td>84</td>\n",
       "      <td>2635</td>\n",
       "      <td>16.4</td>\n",
       "      <td>81</td>\n",
       "      <td>US</td>\n",
       "    </tr>\n",
       "    <tr>\n",
       "      <th>57</th>\n",
       "      <td>Opel 1900</td>\n",
       "      <td>28.0</td>\n",
       "      <td>4</td>\n",
       "      <td>116.0</td>\n",
       "      <td>90</td>\n",
       "      <td>2123</td>\n",
       "      <td>14.0</td>\n",
       "      <td>71</td>\n",
       "      <td>Europe</td>\n",
       "    </tr>\n",
       "  </tbody>\n",
       "</table>\n",
       "</div>"
      ],
      "text/plain": [
       "                            Car   MPG  Cylinders  Displacement  Horsepower  \\\n",
       "15          Dodge Challenger SE  15.0          8         383.0         170   \n",
       "244          Chevrolet Chevette  30.5          4          98.0          63   \n",
       "78              Mazda RX2 Coupe  19.0          3          70.0          97   \n",
       "121        Fiat 124 Sport Coupe  26.0          4          98.0          90   \n",
       "22                   AMC Hornet  18.0          6         199.0          97   \n",
       "326                   Mazda 626  31.3          4         120.0          75   \n",
       "333  Volkswagen Dasher (diesel)  43.4          4          90.0          48   \n",
       "159     Plymouth Valiant Custom  19.0          6         225.0          95   \n",
       "346               Buick Skylark  26.6          4         151.0          84   \n",
       "57                    Opel 1900  28.0          4         116.0          90   \n",
       "\n",
       "     Weight  Acceleration  Model  Origin  \n",
       "15     3563          10.0     70      US  \n",
       "244    2051          17.0     77      US  \n",
       "78     2330          13.5     72   Japan  \n",
       "121    2265          15.5     73  Europe  \n",
       "22     2774          15.5     70      US  \n",
       "326    2542          17.5     80   Japan  \n",
       "333    2335          23.7     80  Europe  \n",
       "159    3264          16.0     75      US  \n",
       "346    2635          16.4     81      US  \n",
       "57     2123          14.0     71  Europe  "
      ]
     },
     "execution_count": 51,
     "metadata": {},
     "output_type": "execute_result"
    }
   ],
   "source": [
    "cars = pd.read_csv(\"cars.csv\")\n",
    "cars.sample(10)"
   ]
  },
  {
   "cell_type": "code",
   "execution_count": 52,
   "metadata": {},
   "outputs": [],
   "source": [
    "X = cars[[\"Cylinders\",\"Weight\",\"Horsepower\"]]\n",
    "y = cars[\"MPG\"]"
   ]
  },
  {
   "cell_type": "code",
   "execution_count": 53,
   "metadata": {},
   "outputs": [
    {
     "name": "stdout",
     "output_type": "stream",
     "text": [
      "(284, 3)\n",
      "(122, 3)\n",
      "(284,)\n",
      "(122,)\n"
     ]
    }
   ],
   "source": [
    "# split data into train and test\n",
    "(X_train,X_test,y_train,y_test) = train_test_split(X, y, test_size=0.3, random_state = 100)\n",
    "\n",
    "print(X_train.shape)\n",
    "print(X_test.shape)\n",
    "print(y_train.shape)\n",
    "print(y_test.shape)"
   ]
  },
  {
   "cell_type": "code",
   "execution_count": 54,
   "metadata": {},
   "outputs": [
    {
     "data": {
      "text/plain": [
       "KNeighborsRegressor(n_neighbors=3)"
      ]
     },
     "execution_count": 54,
     "metadata": {},
     "output_type": "execute_result"
    }
   ],
   "source": [
    "# fit the model\n",
    "knnr.fit(X_train, y_train)"
   ]
  },
  {
   "cell_type": "code",
   "execution_count": 55,
   "metadata": {},
   "outputs": [
    {
     "data": {
      "text/plain": [
       "array([20.76666667, 30.6       , 22.66666667, 26.93333333, 20.76666667,\n",
       "       27.2       , 17.53333333, 23.        , 17.83333333, 25.86666667,\n",
       "       33.26666667, 13.33333333, 14.        , 32.86666667, 27.13333333,\n",
       "       27.3       , 27.83333333, 22.4       , 26.66666667, 28.46666667,\n",
       "       25.33333333, 27.23333333, 25.        , 25.        , 17.53333333,\n",
       "       14.3       , 25.2       , 17.83333333, 26.63333333, 29.33333333,\n",
       "       21.        , 19.5       , 24.6       , 28.        , 19.06666667,\n",
       "       29.96666667, 17.        , 27.5       , 20.33333333, 13.83333333,\n",
       "       13.66666667, 29.        , 19.06666667, 21.86666667, 31.46666667,\n",
       "       26.2       , 15.9       , 33.16666667, 28.        , 17.66666667,\n",
       "       31.66666667, 29.        , 17.83333333, 13.5       , 11.06666667,\n",
       "       20.36666667, 14.        , 33.13333333, 19.53333333, 13.66666667,\n",
       "       24.56666667, 13.        , 37.8       , 20.76666667, 18.2       ,\n",
       "       24.66666667, 27.        , 35.03333333, 36.06666667, 31.1       ,\n",
       "       33.16666667, 16.        ,  9.        , 18.96666667, 25.33333333,\n",
       "       33.66666667, 14.        , 21.1       , 12.        , 31.46666667,\n",
       "       12.66666667, 17.83333333, 27.33333333, 13.66666667, 29.        ,\n",
       "       32.3       , 12.66666667, 11.66666667, 20.76666667, 15.16666667,\n",
       "       12.        , 26.        , 15.16666667, 23.3       , 26.9       ,\n",
       "       33.06666667, 16.63333333, 19.06666667, 22.53333333, 23.33333333,\n",
       "       35.66666667, 32.96666667, 15.66666667, 29.        , 14.        ,\n",
       "       13.33333333, 15.9       , 26.16666667, 22.8       , 32.73333333,\n",
       "       18.06666667, 28.        , 13.        , 20.13333333, 17.4       ,\n",
       "       27.33333333, 36.06666667, 24.16666667, 28.36666667, 27.63333333,\n",
       "       15.5       , 18.96666667])"
      ]
     },
     "execution_count": 55,
     "metadata": {},
     "output_type": "execute_result"
    }
   ],
   "source": [
    "# make prediction\n",
    "y_pred = knnr.predict(X_test)\n",
    "y_pred"
   ]
  },
  {
   "cell_type": "markdown",
   "metadata": {},
   "source": [
    "## cross validation to get best k"
   ]
  },
  {
   "cell_type": "code",
   "execution_count": 56,
   "metadata": {},
   "outputs": [],
   "source": [
    "neighbors = list(range(1,50))\n",
    "\n",
    "cv_scores = []\n",
    "\n",
    "for k in neighbors:\n",
    "    knnr = KNeighborsRegressor(n_neighbors=k)\n",
    "    scores = cross_val_score(knnr, X_train, y_train, cv=10, scoring = \"neg_root_mean_squared_error\")\n",
    "    cv_scores.append(scores.mean())"
   ]
  },
  {
   "cell_type": "code",
   "execution_count": 57,
   "metadata": {},
   "outputs": [
    {
     "data": {
      "text/plain": [
       "[-6.843539162028996,\n",
       " -6.227884244014893,\n",
       " -5.765242919916625,\n",
       " -5.574555107636291,\n",
       " -5.4627957521569455,\n",
       " -5.434125673312414,\n",
       " -5.4076933257159,\n",
       " -5.41231461025828,\n",
       " -5.416747839967973,\n",
       " -5.43798514907443,\n",
       " -5.441273751572586,\n",
       " -5.488680870585981,\n",
       " -5.454468780926146,\n",
       " -5.449779133461657,\n",
       " -5.446668037347276,\n",
       " -5.430752788142063,\n",
       " -5.416631108065084,\n",
       " -5.387077885079887,\n",
       " -5.3847887784344834,\n",
       " -5.375506151763288,\n",
       " -5.3601789279084215,\n",
       " -5.3710628200100405,\n",
       " -5.352581123959317,\n",
       " -5.374810408032295,\n",
       " -5.3649458849804486,\n",
       " -5.3510207477069445,\n",
       " -5.347269583204006,\n",
       " -5.334678326075652,\n",
       " -5.3282948026745185,\n",
       " -5.3328453911597755,\n",
       " -5.338016480551879,\n",
       " -5.342935754471123,\n",
       " -5.341629040666241,\n",
       " -5.342142517628456,\n",
       " -5.321681658889297,\n",
       " -5.321120039082001,\n",
       " -5.311954014321053,\n",
       " -5.294748041347367,\n",
       " -5.303377755220615,\n",
       " -5.300060249913622,\n",
       " -5.299848475758796,\n",
       " -5.295777778199466,\n",
       " -5.285069476591085,\n",
       " -5.285132615426445,\n",
       " -5.281265142981992,\n",
       " -5.281176339675214,\n",
       " -5.285961693186889,\n",
       " -5.293040777649795,\n",
       " -5.288620911591816]"
      ]
     },
     "execution_count": 57,
     "metadata": {},
     "output_type": "execute_result"
    }
   ],
   "source": [
    "cv_scores"
   ]
  },
  {
   "cell_type": "code",
   "execution_count": 58,
   "metadata": {},
   "outputs": [
    {
     "data": {
      "text/plain": [
       "['accuracy',\n",
       " 'adjusted_mutual_info_score',\n",
       " 'adjusted_rand_score',\n",
       " 'average_precision',\n",
       " 'balanced_accuracy',\n",
       " 'completeness_score',\n",
       " 'explained_variance',\n",
       " 'f1',\n",
       " 'f1_macro',\n",
       " 'f1_micro',\n",
       " 'f1_samples',\n",
       " 'f1_weighted',\n",
       " 'fowlkes_mallows_score',\n",
       " 'homogeneity_score',\n",
       " 'jaccard',\n",
       " 'jaccard_macro',\n",
       " 'jaccard_micro',\n",
       " 'jaccard_samples',\n",
       " 'jaccard_weighted',\n",
       " 'max_error',\n",
       " 'mutual_info_score',\n",
       " 'neg_brier_score',\n",
       " 'neg_log_loss',\n",
       " 'neg_mean_absolute_error',\n",
       " 'neg_mean_gamma_deviance',\n",
       " 'neg_mean_poisson_deviance',\n",
       " 'neg_mean_squared_error',\n",
       " 'neg_mean_squared_log_error',\n",
       " 'neg_median_absolute_error',\n",
       " 'neg_root_mean_squared_error',\n",
       " 'normalized_mutual_info_score',\n",
       " 'precision',\n",
       " 'precision_macro',\n",
       " 'precision_micro',\n",
       " 'precision_samples',\n",
       " 'precision_weighted',\n",
       " 'r2',\n",
       " 'recall',\n",
       " 'recall_macro',\n",
       " 'recall_micro',\n",
       " 'recall_samples',\n",
       " 'recall_weighted',\n",
       " 'roc_auc',\n",
       " 'roc_auc_ovo',\n",
       " 'roc_auc_ovo_weighted',\n",
       " 'roc_auc_ovr',\n",
       " 'roc_auc_ovr_weighted',\n",
       " 'v_measure_score']"
      ]
     },
     "execution_count": 58,
     "metadata": {},
     "output_type": "execute_result"
    }
   ],
   "source": [
    "sorted(sklearn.metrics.SCORERS.keys()) "
   ]
  },
  {
   "cell_type": "code",
   "execution_count": 59,
   "metadata": {
    "scrolled": true
   },
   "outputs": [
    {
     "data": {
      "image/png": "[encoded data removed]",
      "text/plain": [
       "<Figure size 432x288 with 1 Axes>"
      ]
     },
     "metadata": {
      "needs_background": "light"
     },
     "output_type": "display_data"
    }
   ],
   "source": [
    "# plot error vs k values\n",
    "plt.plot(neighbors, cv_scores)\n",
    "plt.xlabel(\"number of neighbors k\")\n",
    "plt.ylabel(\"misclassification error\")\n",
    "plt.show()"
   ]
  },
  {
   "cell_type": "markdown",
   "metadata": {},
   "source": [
    "### From this we can see that k=8 is good number"
   ]
  },
  {
   "cell_type": "code",
   "execution_count": null,
   "metadata": {},
   "outputs": [],
   "source": []
  }
 ],
 "metadata": {
  "kernelspec": {
   "display_name": "Python 3",
   "language": "python",
   "name": "python3"
  },
  "language_info": {
   "codemirror_mode": {
    "name": "ipython",
    "version": 3
   },
   "file_extension": ".py",
   "mimetype": "text/x-python",
   "name": "python",
   "nbconvert_exporter": "python",
   "pygments_lexer": "ipython3",
   "version": "3.8.5"
  }
 },
 "nbformat": 4,
 "nbformat_minor": 4
}
