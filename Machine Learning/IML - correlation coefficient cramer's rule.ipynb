{
 "cells": [
  {
   "cell_type": "markdown",
   "metadata": {},
   "source": [
    "## Find correlation coefficient"
   ]
  },
  {
   "cell_type": "markdown",
   "metadata": {},
   "source": [
    "### Given x and y and linear regression equation y = b*x + a + e , solve for a and b such that sum(e ^ 2) is minimum"
   ]
  },
  {
   "cell_type": "code",
   "execution_count": 1,
   "metadata": {},
   "outputs": [],
   "source": [
    "import os\n",
    "import pandas as pd\n",
    "import numpy as np"
   ]
  },
  {
   "cell_type": "code",
   "execution_count": 2,
   "metadata": {},
   "outputs": [],
   "source": [
    "os.chdir(\"C:/Users/satish/Downloads\")\n",
    "\n",
    "cars = pd.read_csv(\"cars.csv\")"
   ]
  },
  {
   "cell_type": "code",
   "execution_count": 3,
   "metadata": {},
   "outputs": [],
   "source": [
    "x= cars[\"Weight\"]\n",
    "y= cars[\"MPG\"]\n",
    "\n",
    "sum_yi = np.sum(y)\n",
    "sum_xi = np.sum(x)\n",
    "sum_xiyi = np.sum(x*y)\n",
    "sum_xi_squared = np.sum(x**2)\n",
    "n = len(x)"
   ]
  },
  {
   "cell_type": "code",
   "execution_count": 4,
   "metadata": {},
   "outputs": [
    {
     "name": "stdout",
     "output_type": "stream",
     "text": [
      "46.325305341697934\n"
     ]
    }
   ],
   "source": [
    "a  = ((sum_yi * sum_xi_squared) - (sum_xi * sum_xiyi))/(n * sum_xi_squared - (sum_xi**2))\n",
    "print(a)"
   ]
  },
  {
   "cell_type": "code",
   "execution_count": 5,
   "metadata": {},
   "outputs": [
    {
     "name": "stdout",
     "output_type": "stream",
     "text": [
      "-0.00781162853863321\n"
     ]
    }
   ],
   "source": [
    "b = (n * sum_xiyi - (sum_xi * sum_yi))/(n * sum_xi_squared - (sum_xi**2))\n",
    "print(b)"
   ]
  },
  {
   "cell_type": "markdown",
   "metadata": {},
   "source": [
    "### Thus we've found the coefficient a and intercept b using OLS method. For one unit increase in x, there'll be 0.007 units decrease in y. If x is 0, y will be 46.325"
   ]
  },
  {
   "cell_type": "code",
   "execution_count": null,
   "metadata": {},
   "outputs": [],
   "source": []
  }
 ],
 "metadata": {
  "kernelspec": {
   "display_name": "Python 3",
   "language": "python",
   "name": "python3"
  },
  "language_info": {
   "codemirror_mode": {
    "name": "ipython",
    "version": 3
   },
   "file_extension": ".py",
   "mimetype": "text/x-python",
   "name": "python",
   "nbconvert_exporter": "python",
   "pygments_lexer": "ipython3",
   "version": "3.8.5"
  }
 },
 "nbformat": 4,
 "nbformat_minor": 4
}
