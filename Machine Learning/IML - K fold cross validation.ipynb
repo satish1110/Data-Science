{
 "cells": [
  {
   "cell_type": "markdown",
   "metadata": {},
   "source": [
    "## k FOLD CROSS VALIDATION"
   ]
  },
  {
   "cell_type": "markdown",
   "metadata": {},
   "source": [
    "### DO k fold cross validation manually on training data for classification (accuracy) and regression (rmse)"
   ]
  },
  {
   "cell_type": "code",
   "execution_count": 1,
   "metadata": {},
   "outputs": [],
   "source": [
    "import os\n",
    "import pandas as pd\n",
    "import numpy as np\n",
    "import random \n",
    "import math\n",
    "from sklearn.neighbors import KNeighborsClassifier\n",
    "from sklearn.metrics import confusion_matrix\n",
    "from sklearn.metrics import accuracy_score\n",
    "from statistics import mean\n",
    "                  "
   ]
  },
  {
   "cell_type": "markdown",
   "metadata": {},
   "source": [
    "## Classification"
   ]
  },
  {
   "cell_type": "code",
   "execution_count": 2,
   "metadata": {},
   "outputs": [
    {
     "name": "stdout",
     "output_type": "stream",
     "text": [
      "accuracy 0.96\n"
     ]
    }
   ],
   "source": [
    "def kfcv_classify(k, X_train, Y_train):\n",
    "    \n",
    "    # concatenate train data\n",
    "    XY = pd.concat([X_train, Y_train], axis=1, join = 'inner')\n",
    "    XYs = XY.sample(len(XY), random_state = 1234)\n",
    "    \n",
    "    X = XY[['sepal_length', 'sepal_width', 'petal_length', 'petal_width']]\n",
    "    Y = XY['species']\n",
    "    \n",
    "    # divide data into k parts\n",
    "    HN = round(len(X)/k)\n",
    "    r2 = HN\n",
    "    r1 = 0\n",
    "    acc = []\n",
    "    \n",
    "    # use 1 part for validation and k-1 for training\n",
    "    for i in range(0,k):\n",
    "        X_validate = X.iloc[r1:r2,]\n",
    "        Y_validate = Y.iloc[r1:r2,]\n",
    "        X_train = X.iloc[r2:len(X),].append(X.iloc[0:r1],)\n",
    "        Y_train = Y.iloc[r2:len(Y),].append(Y.iloc[0:r1],)\n",
    "        r1 = r2\n",
    "        r2 = r2 + HN\n",
    "       \n",
    "        # fit with knn classifier and predict, validate\n",
    "        knn = KNeighborsClassifier(n_neighbors = 3)\n",
    "        knn.fit(X_train,Y_train)\n",
    "        y_pred = knn.predict(X_validate)\n",
    "        accuracy = accuracy_score(Y_validate,y_pred)\n",
    "        acc.append(accuracy)\n",
    "    mean_acc = mean(acc)\n",
    "    return mean_acc\n",
    "\n",
    "# driver program\n",
    "os.chdir('C:\\\\Users\\\\satish\\\\Downloads')\n",
    "\n",
    "# read, shuffle data and send to function\n",
    "iris = pd.read_csv(\"iris.csv\")\n",
    "iris = iris.sample(len(iris), random_state=1234)\n",
    "X_train = iris[['sepal_length', 'sepal_width', 'petal_length', 'petal_width']]\n",
    "Y_train = iris[['species']]\n",
    "\n",
    "accuracy = kfcv_classify(3, X_train,Y_train)             \n",
    "print('accuracy',accuracy)"
   ]
  },
  {
   "cell_type": "markdown",
   "metadata": {},
   "source": [
    "## Regression"
   ]
  },
  {
   "cell_type": "code",
   "execution_count": 5,
   "metadata": {},
   "outputs": [
    {
     "name": "stdout",
     "output_type": "stream",
     "text": [
      "mean rmse 1.3333333333333333\n"
     ]
    }
   ],
   "source": [
    "from sklearn.tree import DecisionTreeRegressor\n",
    "\n",
    "def kfcv_regress(k, X_train, Y_train):\n",
    "    \n",
    "    # concatenate train data\n",
    "    XY = pd.concat([X_train, Y_train], axis=1, join = 'inner')\n",
    "    XYs = XY.sample(len(XY), random_state = 1234)\n",
    "    \n",
    "    X = XY[[\"Weight\",\"Horsepower\", \"Displacement\",\"Acceleration\"]] \n",
    "    Y = XY[\"MPG\"]\n",
    "    \n",
    "    \n",
    "    # divide data into k parts\n",
    "    HN = round(len(X)/k)\n",
    "    r2 = HN\n",
    "    r1 = 0\n",
    "    acc = []\n",
    "    \n",
    "    # use 1 part for validation and k-1 for training\n",
    "    for i in range(0,k):\n",
    "        X_validate = X.iloc[r1:r2,]\n",
    "        Y_validate = Y.iloc[r1:r2,]\n",
    "        X_train = X.iloc[r2:len(X),].append(X.iloc[0:r1],)\n",
    "        Y_train = Y.iloc[r2:len(Y),].append(Y.iloc[0:r1],)\n",
    "        r1 = r2\n",
    "        r2 = r2 + HN\n",
    "        \n",
    "        # fit with decision tree regressor, predict and validate\n",
    "        model = DecisionTreeRegressor(max_depth=3,min_samples_leaf=5)\n",
    "        model.fit(X_train,Y_train)\n",
    "        y_pred = model.predict(X_validate)\n",
    "        \n",
    "        rmse = np.sqrt(np.mean((np.array(Y_validate)-y_pred)**2))\n",
    "        acc.append(rmse)\n",
    "    mean_acc = mean(acc)\n",
    "    return mean_acc\n",
    "\n",
    "# driver program\n",
    "os.chdir('C:\\\\Users\\\\satish\\\\Downloads')\n",
    "\n",
    "# read, split data and send to function\n",
    "cars = pd.read_csv(\"cars.csv\")\n",
    "cars = cars.iloc[0:6,]\n",
    "X_train = cars[[\"Weight\",\"Horsepower\", \"Displacement\",\"Acceleration\"]]\n",
    "Y_train = cars[\"MPG\"]\n",
    "\n",
    "accuracy = kfcv_regress(3, X_train, Y_train)             \n",
    "print('mean rmse', accuracy)"
   ]
  },
  {
   "cell_type": "code",
   "execution_count": null,
   "metadata": {},
   "outputs": [],
   "source": []
  }
 ],
 "metadata": {
  "kernelspec": {
   "display_name": "Python 3",
   "language": "python",
   "name": "python3"
  },
  "language_info": {
   "codemirror_mode": {
    "name": "ipython",
    "version": 3
   },
   "file_extension": ".py",
   "mimetype": "text/x-python",
   "name": "python",
   "nbconvert_exporter": "python",
   "pygments_lexer": "ipython3",
   "version": "3.8.5"
  }
 },
 "nbformat": 4,
 "nbformat_minor": 4
}
