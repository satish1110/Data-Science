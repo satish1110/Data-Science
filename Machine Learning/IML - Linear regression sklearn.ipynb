{
 "cells": [
  {
   "cell_type": "markdown",
   "metadata": {},
   "source": [
    "## Multiple Linear Regression using SKLEARN"
   ]
  },
  {
   "cell_type": "markdown",
   "metadata": {},
   "source": [
    "### Prdict target variable using multiple features"
   ]
  },
  {
   "cell_type": "code",
   "execution_count": 1,
   "metadata": {},
   "outputs": [],
   "source": [
    "import numpy as np\n",
    "import matplotlib.pyplot as plt\n",
    "import pandas as pd"
   ]
  },
  {
   "cell_type": "code",
   "execution_count": 2,
   "metadata": {},
   "outputs": [],
   "source": [
    "#Reading the data\n",
    "cars = pd.read_csv('cars.csv')\n",
    "X = cars[['Cylinders','Weight','Horsepower']]\n",
    "y = cars[['MPG']]"
   ]
  },
  {
   "cell_type": "code",
   "execution_count": 3,
   "metadata": {},
   "outputs": [],
   "source": [
    "from sklearn.model_selection import train_test_split\n",
    "\n",
    "# Split the data into 80% train and 20% test\n",
    "X_train, X_test, y_train, y_test = train_test_split(X, y, test_size = 0.2, random_state = 0)"
   ]
  },
  {
   "cell_type": "code",
   "execution_count": 4,
   "metadata": {},
   "outputs": [
    {
     "data": {
      "text/plain": [
       "LinearRegression()"
      ]
     },
     "execution_count": 4,
     "metadata": {},
     "output_type": "execute_result"
    }
   ],
   "source": [
    "from sklearn.linear_model import LinearRegression\n",
    "\n",
    "regressor = LinearRegression()\n",
    "\n",
    "#fitting the model\n",
    "regressor.fit(X_train, y_train)"
   ]
  },
  {
   "cell_type": "code",
   "execution_count": 10,
   "metadata": {},
   "outputs": [
    {
     "name": "stdout",
     "output_type": "stream",
     "text": [
      "[[-0.78473746 -0.00474677 -0.03746656]]\n",
      "[45.31454491]\n"
     ]
    }
   ],
   "source": [
    "# get coefficients of the features and y intercept\n",
    "print(regressor.coef_)\n",
    "print(regressor.intercept_)"
   ]
  },
  {
   "cell_type": "code",
   "execution_count": 5,
   "metadata": {},
   "outputs": [],
   "source": [
    "# Make prediction for the test data\n",
    "y_pred = regressor.predict(X_test)"
   ]
  },
  {
   "cell_type": "code",
   "execution_count": 11,
   "metadata": {},
   "outputs": [
    {
     "data": {
      "text/plain": [
       "array([[26.539],\n",
       "       [12.877],\n",
       "       [31.324],\n",
       "       [13.779],\n",
       "       [23.089],\n",
       "       [14.714],\n",
       "       [30.044],\n",
       "       [11.388],\n",
       "       [29.008],\n",
       "       [ 7.105],\n",
       "       [31.672],\n",
       "       [24.951],\n",
       "       [27.726],\n",
       "       [28.614],\n",
       "       [14.156],\n",
       "       [21.024],\n",
       "       [29.087],\n",
       "       [28.963],\n",
       "       [30.157],\n",
       "       [28.906],\n",
       "       [29.725],\n",
       "       [14.424],\n",
       "       [19.522],\n",
       "       [19.245],\n",
       "       [21.553],\n",
       "       [20.578],\n",
       "       [29.725],\n",
       "       [15.799],\n",
       "       [15.755],\n",
       "       [20.275],\n",
       "       [18.912],\n",
       "       [24.763],\n",
       "       [24.525],\n",
       "       [ 9.252],\n",
       "       [28.04 ],\n",
       "       [11.89 ],\n",
       "       [29.727],\n",
       "       [29.151],\n",
       "       [23.027],\n",
       "       [21.281],\n",
       "       [27.51 ],\n",
       "       [22.88 ],\n",
       "       [21.847],\n",
       "       [30.172],\n",
       "       [10.127],\n",
       "       [15.325],\n",
       "       [30.088],\n",
       "       [17.241],\n",
       "       [29.526],\n",
       "       [27.175],\n",
       "       [11.112],\n",
       "       [25.872],\n",
       "       [23.274],\n",
       "       [31.478],\n",
       "       [11.776],\n",
       "       [13.305],\n",
       "       [20.894],\n",
       "       [29.49 ],\n",
       "       [14.228],\n",
       "       [22.425],\n",
       "       [23.199],\n",
       "       [26.233],\n",
       "       [12.875],\n",
       "       [28.266],\n",
       "       [30.378],\n",
       "       [17.42 ],\n",
       "       [19.529],\n",
       "       [27.779],\n",
       "       [26.292],\n",
       "       [30.365],\n",
       "       [11.013],\n",
       "       [31.095],\n",
       "       [22.059],\n",
       "       [23.11 ],\n",
       "       [10.513],\n",
       "       [23.804],\n",
       "       [28.387],\n",
       "       [27.357],\n",
       "       [14.356],\n",
       "       [14.205],\n",
       "       [26.465],\n",
       "       [31.669]])"
      ]
     },
     "execution_count": 11,
     "metadata": {},
     "output_type": "execute_result"
    }
   ],
   "source": [
    "#Show predicted data\n",
    "np.round(y_pred,3)"
   ]
  },
  {
   "cell_type": "code",
   "execution_count": 12,
   "metadata": {},
   "outputs": [
    {
     "name": "stdout",
     "output_type": "stream",
     "text": [
      "RMSE:  6.579444713771408\n",
      "Target range:  MPG    0.0\n",
      "dtype: float64  to  MPG    46.6\n",
      "dtype: float64\n"
     ]
    }
   ],
   "source": [
    "from sklearn import metrics\n",
    "import math\n",
    "\n",
    "mse = metrics.mean_squared_error(y_test, y_pred)\n",
    "rmse = math.sqrt(mse)\n",
    "print(\"RMSE: \", rmse)\n",
    "\n",
    "print(\"Target range: \", y_test.min(),\" to \", y_test.max())"
   ]
  },
  {
   "cell_type": "markdown",
   "metadata": {},
   "source": [
    "### Root mean squared error of model is 6.57, which is good, since range is 0 to 46.6"
   ]
  },
  {
   "cell_type": "code",
   "execution_count": null,
   "metadata": {},
   "outputs": [],
   "source": []
  }
 ],
 "metadata": {
  "kernelspec": {
   "display_name": "Python 3",
   "language": "python",
   "name": "python3"
  },
  "language_info": {
   "codemirror_mode": {
    "name": "ipython",
    "version": 3
   },
   "file_extension": ".py",
   "mimetype": "text/x-python",
   "name": "python",
   "nbconvert_exporter": "python",
   "pygments_lexer": "ipython3",
   "version": "3.8.5"
  }
 },
 "nbformat": 4,
 "nbformat_minor": 5
}
