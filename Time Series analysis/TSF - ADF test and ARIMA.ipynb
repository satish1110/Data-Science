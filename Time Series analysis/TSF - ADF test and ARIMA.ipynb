{
 "cells": [
  {
   "cell_type": "code",
   "execution_count": 1,
   "metadata": {},
   "outputs": [],
   "source": [
    "import numpy as np\n",
    "from pandas import read_excel\n",
    "from matplotlib import pyplot as plt\n",
    "from statsmodels.tsa.holtwinters import ExponentialSmoothing\n",
    "import pandas as pd\n",
    "import os\n",
    "%matplotlib inline"
   ]
  },
  {
   "cell_type": "code",
   "execution_count": 2,
   "metadata": {},
   "outputs": [],
   "source": [
    "os.chdir(\"C:\\\\Users\\\\satish\\\\Desktop\")"
   ]
  },
  {
   "cell_type": "code",
   "execution_count": 3,
   "metadata": {},
   "outputs": [],
   "source": [
    "series = read_excel(\"TSF_data.xlsx\", sheet_name = \"ARIMA\")"
   ]
  },
  {
   "cell_type": "code",
   "execution_count": 4,
   "metadata": {},
   "outputs": [
    {
     "data": {
      "text/html": [
       "<div>\n",
       "<style scoped>\n",
       "    .dataframe tbody tr th:only-of-type {\n",
       "        vertical-align: middle;\n",
       "    }\n",
       "\n",
       "    .dataframe tbody tr th {\n",
       "        vertical-align: top;\n",
       "    }\n",
       "\n",
       "    .dataframe thead th {\n",
       "        text-align: right;\n",
       "    }\n",
       "</style>\n",
       "<table border=\"1\" class=\"dataframe\">\n",
       "  <thead>\n",
       "    <tr style=\"text-align: right;\">\n",
       "      <th></th>\n",
       "      <th>qtr</th>\n",
       "      <th>t</th>\n",
       "      <th>price</th>\n",
       "    </tr>\n",
       "  </thead>\n",
       "  <tbody>\n",
       "    <tr>\n",
       "      <th>0</th>\n",
       "      <td>10 Q1</td>\n",
       "      <td>1</td>\n",
       "      <td>8</td>\n",
       "    </tr>\n",
       "    <tr>\n",
       "      <th>1</th>\n",
       "      <td>10 Q2</td>\n",
       "      <td>2</td>\n",
       "      <td>12</td>\n",
       "    </tr>\n",
       "    <tr>\n",
       "      <th>2</th>\n",
       "      <td>10 Q3</td>\n",
       "      <td>3</td>\n",
       "      <td>6</td>\n",
       "    </tr>\n",
       "    <tr>\n",
       "      <th>3</th>\n",
       "      <td>10 Q4</td>\n",
       "      <td>4</td>\n",
       "      <td>25</td>\n",
       "    </tr>\n",
       "    <tr>\n",
       "      <th>4</th>\n",
       "      <td>11 Q1</td>\n",
       "      <td>5</td>\n",
       "      <td>16</td>\n",
       "    </tr>\n",
       "  </tbody>\n",
       "</table>\n",
       "</div>"
      ],
      "text/plain": [
       "     qtr  t  price\n",
       "0  10 Q1  1      8\n",
       "1  10 Q2  2     12\n",
       "2  10 Q3  3      6\n",
       "3  10 Q4  4     25\n",
       "4  11 Q1  5     16"
      ]
     },
     "execution_count": 4,
     "metadata": {},
     "output_type": "execute_result"
    }
   ],
   "source": [
    "series.head()"
   ]
  },
  {
   "cell_type": "code",
   "execution_count": 5,
   "metadata": {},
   "outputs": [
    {
     "data": {
      "text/html": [
       "<div>\n",
       "<style scoped>\n",
       "    .dataframe tbody tr th:only-of-type {\n",
       "        vertical-align: middle;\n",
       "    }\n",
       "\n",
       "    .dataframe tbody tr th {\n",
       "        vertical-align: top;\n",
       "    }\n",
       "\n",
       "    .dataframe thead th {\n",
       "        text-align: right;\n",
       "    }\n",
       "</style>\n",
       "<table border=\"1\" class=\"dataframe\">\n",
       "  <thead>\n",
       "    <tr style=\"text-align: right;\">\n",
       "      <th></th>\n",
       "      <th>t</th>\n",
       "      <th>price</th>\n",
       "    </tr>\n",
       "  </thead>\n",
       "  <tbody>\n",
       "    <tr>\n",
       "      <th>count</th>\n",
       "      <td>20.00000</td>\n",
       "      <td>20.000000</td>\n",
       "    </tr>\n",
       "    <tr>\n",
       "      <th>mean</th>\n",
       "      <td>10.50000</td>\n",
       "      <td>26.450000</td>\n",
       "    </tr>\n",
       "    <tr>\n",
       "      <th>std</th>\n",
       "      <td>5.91608</td>\n",
       "      <td>12.853322</td>\n",
       "    </tr>\n",
       "    <tr>\n",
       "      <th>min</th>\n",
       "      <td>1.00000</td>\n",
       "      <td>6.000000</td>\n",
       "    </tr>\n",
       "    <tr>\n",
       "      <th>25%</th>\n",
       "      <td>5.75000</td>\n",
       "      <td>15.750000</td>\n",
       "    </tr>\n",
       "    <tr>\n",
       "      <th>50%</th>\n",
       "      <td>10.50000</td>\n",
       "      <td>26.000000</td>\n",
       "    </tr>\n",
       "    <tr>\n",
       "      <th>75%</th>\n",
       "      <td>15.25000</td>\n",
       "      <td>36.250000</td>\n",
       "    </tr>\n",
       "    <tr>\n",
       "      <th>max</th>\n",
       "      <td>20.00000</td>\n",
       "      <td>50.000000</td>\n",
       "    </tr>\n",
       "  </tbody>\n",
       "</table>\n",
       "</div>"
      ],
      "text/plain": [
       "              t      price\n",
       "count  20.00000  20.000000\n",
       "mean   10.50000  26.450000\n",
       "std     5.91608  12.853322\n",
       "min     1.00000   6.000000\n",
       "25%     5.75000  15.750000\n",
       "50%    10.50000  26.000000\n",
       "75%    15.25000  36.250000\n",
       "max    20.00000  50.000000"
      ]
     },
     "execution_count": 5,
     "metadata": {},
     "output_type": "execute_result"
    }
   ],
   "source": [
    "series.describe()"
   ]
  },
  {
   "cell_type": "code",
   "execution_count": 6,
   "metadata": {
    "scrolled": true
   },
   "outputs": [
    {
     "data": {
      "text/plain": [
       "<AxesSubplot:xlabel='t'>"
      ]
     },
     "execution_count": 6,
     "metadata": {},
     "output_type": "execute_result"
    },
    {
     "data": {
      "image/png": "[encoded data removed]",
      "text/plain": [
       "<Figure size 432x288 with 1 Axes>"
      ]
     },
     "metadata": {
      "needs_background": "light"
     },
     "output_type": "display_data"
    }
   ],
   "source": [
    "series.plot.line(x='t', y='price')"
   ]
  },
  {
   "cell_type": "markdown",
   "metadata": {},
   "source": [
    "## Check stationarity using AD fuller test"
   ]
  },
  {
   "cell_type": "code",
   "execution_count": 7,
   "metadata": {},
   "outputs": [],
   "source": [
    "from statsmodels.tsa.stattools import adfuller\n"
   ]
  },
  {
   "cell_type": "code",
   "execution_count": 8,
   "metadata": {},
   "outputs": [
    {
     "name": "stdout",
     "output_type": "stream",
     "text": [
      "ADF Test Statistic : -1.3116724107916997\n",
      "p-value : 0.6238153965281679\n",
      "#Lags Used : 8\n",
      "Number of Observations : 11\n",
      "Weak evidence against null hypothesis, indicating it is non-stationary \n"
     ]
    }
   ],
   "source": [
    "    def adfuller_test(sales):\n",
    "        result = adfuller(sales)\n",
    "        labels = ['ADF Test Statistic','p-value','#Lags Used','Number of Observations']\n",
    "\n",
    "        for value,label in zip(result,labels):\n",
    "            print(label+' : '+str(value) )\n",
    "\n",
    "        if result[1] <= 0.05:\n",
    "            print(\"Strong evidence against the null hypothesis(Ho), reject the null hypothesis. Data is stationary\")\n",
    "        else:\n",
    "            print(\"Weak evidence against null hypothesis, indicating it is non-stationary \")\n",
    "\n",
    "    adfuller_test(series['price'])"
   ]
  },
  {
   "cell_type": "code",
   "execution_count": 19,
   "metadata": {},
   "outputs": [
    {
     "data": {
      "text/html": [
       "<div>\n",
       "<style scoped>\n",
       "    .dataframe tbody tr th:only-of-type {\n",
       "        vertical-align: middle;\n",
       "    }\n",
       "\n",
       "    .dataframe tbody tr th {\n",
       "        vertical-align: top;\n",
       "    }\n",
       "\n",
       "    .dataframe thead th {\n",
       "        text-align: right;\n",
       "    }\n",
       "</style>\n",
       "<table border=\"1\" class=\"dataframe\">\n",
       "  <thead>\n",
       "    <tr style=\"text-align: right;\">\n",
       "      <th></th>\n",
       "      <th>qtr</th>\n",
       "      <th>t</th>\n",
       "      <th>price</th>\n",
       "      <th>Price First Difference</th>\n",
       "      <th>forecast</th>\n",
       "      <th>Price Second Difference</th>\n",
       "    </tr>\n",
       "  </thead>\n",
       "  <tbody>\n",
       "    <tr>\n",
       "      <th>0</th>\n",
       "      <td>10 Q1</td>\n",
       "      <td>1</td>\n",
       "      <td>8</td>\n",
       "      <td>NaN</td>\n",
       "      <td>NaN</td>\n",
       "      <td>NaN</td>\n",
       "    </tr>\n",
       "    <tr>\n",
       "      <th>1</th>\n",
       "      <td>10 Q2</td>\n",
       "      <td>2</td>\n",
       "      <td>12</td>\n",
       "      <td>4.0</td>\n",
       "      <td>NaN</td>\n",
       "      <td>NaN</td>\n",
       "    </tr>\n",
       "    <tr>\n",
       "      <th>2</th>\n",
       "      <td>10 Q3</td>\n",
       "      <td>3</td>\n",
       "      <td>6</td>\n",
       "      <td>-6.0</td>\n",
       "      <td>1.709023</td>\n",
       "      <td>-2.0</td>\n",
       "    </tr>\n",
       "    <tr>\n",
       "      <th>3</th>\n",
       "      <td>10 Q4</td>\n",
       "      <td>4</td>\n",
       "      <td>25</td>\n",
       "      <td>19.0</td>\n",
       "      <td>1.709023</td>\n",
       "      <td>13.0</td>\n",
       "    </tr>\n",
       "    <tr>\n",
       "      <th>4</th>\n",
       "      <td>11 Q1</td>\n",
       "      <td>5</td>\n",
       "      <td>16</td>\n",
       "      <td>-9.0</td>\n",
       "      <td>1.709023</td>\n",
       "      <td>10.0</td>\n",
       "    </tr>\n",
       "  </tbody>\n",
       "</table>\n",
       "</div>"
      ],
      "text/plain": [
       "     qtr  t  price  Price First Difference  forecast  Price Second Difference\n",
       "0  10 Q1  1      8                     NaN       NaN                      NaN\n",
       "1  10 Q2  2     12                     4.0       NaN                      NaN\n",
       "2  10 Q3  3      6                    -6.0  1.709023                     -2.0\n",
       "3  10 Q4  4     25                    19.0  1.709023                     13.0\n",
       "4  11 Q1  5     16                    -9.0  1.709023                     10.0"
      ]
     },
     "execution_count": 19,
     "metadata": {},
     "output_type": "execute_result"
    }
   ],
   "source": [
    "series['Price First Difference'] = series['price'] - series['price'].shift(1)\n",
    "series['Price Second Difference'] = series['price'] - series['price'].shift(2)\n",
    "\n",
    "series.head()"
   ]
  },
  {
   "cell_type": "code",
   "execution_count": 20,
   "metadata": {},
   "outputs": [
    {
     "name": "stdout",
     "output_type": "stream",
     "text": [
      "ADF Test Statistic : -3.6608645821858024\n",
      "p-value : 0.004698543719736368\n",
      "#Lags Used : 7\n",
      "Number of Observations : 11\n",
      "Strong evidence against the null hypothesis(Ho), reject the null hypothesis. Data is stationary\n"
     ]
    }
   ],
   "source": [
    "# Again testing if data is stationary\n",
    "adfuller_test(series['Price First Difference'].dropna())"
   ]
  },
  {
   "cell_type": "code",
   "execution_count": 21,
   "metadata": {},
   "outputs": [
    {
     "name": "stdout",
     "output_type": "stream",
     "text": [
      "ADF Test Statistic : -2.0898243319878236\n",
      "p-value : 0.24862592575841086\n",
      "#Lags Used : 7\n",
      "Number of Observations : 10\n",
      "Weak evidence against null hypothesis, indicating it is non-stationary \n"
     ]
    }
   ],
   "source": [
    "# Again testing if data is stationary\n",
    "adfuller_test(series['Price Second Difference'].dropna())"
   ]
  },
  {
   "cell_type": "code",
   "execution_count": 11,
   "metadata": {
    "scrolled": false
   },
   "outputs": [
    {
     "data": {
      "text/plain": [
       "<AxesSubplot:>"
      ]
     },
     "execution_count": 11,
     "metadata": {},
     "output_type": "execute_result"
    },
    {
     "data": {
      "image/png": "[encoded data removed]",
      "text/plain": [
       "<Figure size 432x288 with 1 Axes>"
      ]
     },
     "metadata": {
      "needs_background": "light"
     },
     "output_type": "display_data"
    }
   ],
   "source": [
    "series['Price First Difference'].plot()"
   ]
  },
  {
   "cell_type": "markdown",
   "metadata": {},
   "source": [
    "### Autocorrelation is a calculation of the correlation of the time series observations with values of the same series, but at previous times. The time steps at those previous times are referred to as lags"
   ]
  },
  {
   "cell_type": "markdown",
   "metadata": {},
   "source": [
    "### A partial autocorrelation is a summary of the relationship between an observation in a time series with observations at prior time steps with the relationships of intervening observations removed and the indirect correlations are removed.\n",
    "### The partial autocorrelation at lag k is the correlation that results after removing the effect of any correlations due to the terms at shorter lags."
   ]
  },
  {
   "cell_type": "code",
   "execution_count": 30,
   "metadata": {
    "scrolled": true
   },
   "outputs": [
    {
     "name": "stderr",
     "output_type": "stream",
     "text": [
      "C:\\Users\\satish\\anaconda3\\lib\\site-packages\\statsmodels\\regression\\linear_model.py:1434: RuntimeWarning: invalid value encountered in sqrt\n",
      "  return rho, np.sqrt(sigmasq)\n"
     ]
    },
    {
     "data": {
      "image/png": "[encoded data removed]",
      "text/plain": [
       "<Figure size 864x576 with 2 Axes>"
      ]
     },
     "metadata": {
      "needs_background": "light"
     },
     "output_type": "display_data"
    }
   ],
   "source": [
    "from statsmodels.graphics.tsaplots import plot_acf,plot_pacf\n",
    "import statsmodels.api as sm\n",
    "\n",
    "fig = plt.figure(figsize=(12,8))\n",
    "ax1 = fig.add_subplot(211)\n",
    "\n",
    "fig = sm.graphics.tsa.plot_acf(series['Price First Difference'].dropna(),lags=8,ax=ax1)\n",
    "ax2 = fig.add_subplot(212)\n",
    "\n",
    "fig = sm.graphics.tsa.plot_pacf(series['Price First Difference'].dropna(),lags=8,ax=ax2)"
   ]
  },
  {
   "cell_type": "markdown",
   "metadata": {},
   "source": [
    "### From this we can observe that acf shuts down after lag 2 (q) and pacf only after  (p), hence these can be potential parameters for arima"
   ]
  },
  {
   "cell_type": "markdown",
   "metadata": {},
   "source": [
    "## Auto arima"
   ]
  },
  {
   "cell_type": "code",
   "execution_count": 14,
   "metadata": {
    "scrolled": true
   },
   "outputs": [
    {
     "name": "stdout",
     "output_type": "stream",
     "text": [
      "Performing stepwise search to minimize aic\n",
      " ARIMA(1,1,1)(0,1,1)[4]             : AIC=inf, Time=0.34 sec\n",
      " ARIMA(0,1,0)(0,1,0)[4]             : AIC=88.944, Time=0.04 sec\n",
      " ARIMA(1,1,0)(1,1,0)[4]             : AIC=89.237, Time=0.07 sec\n",
      " ARIMA(0,1,1)(0,1,1)[4]             : AIC=88.162, Time=0.12 sec\n",
      " ARIMA(0,1,1)(0,1,0)[4]             : AIC=89.235, Time=0.11 sec\n",
      " ARIMA(0,1,1)(1,1,1)[4]             : AIC=inf, Time=0.39 sec\n",
      " ARIMA(0,1,1)(0,1,2)[4]             : AIC=inf, Time=0.28 sec\n",
      " ARIMA(0,1,1)(1,1,0)[4]             : AIC=inf, Time=0.17 sec\n",
      " ARIMA(0,1,1)(1,1,2)[4]             : AIC=inf, Time=0.38 sec\n",
      " ARIMA(0,1,0)(0,1,1)[4]             : AIC=89.960, Time=0.06 sec\n",
      " ARIMA(0,1,2)(0,1,1)[4]             : AIC=inf, Time=0.34 sec\n",
      " ARIMA(1,1,0)(0,1,1)[4]             : AIC=89.455, Time=0.06 sec\n",
      " ARIMA(1,1,2)(0,1,1)[4]             : AIC=inf, Time=0.35 sec\n",
      " ARIMA(0,1,1)(0,1,1)[4] intercept   : AIC=inf, Time=0.26 sec\n",
      "\n",
      "Best model:  ARIMA(0,1,1)(0,1,1)[4]          \n",
      "Total fit time: 2.955 seconds\n"
     ]
    }
   ],
   "source": [
    "from pmdarima import auto_arima\n",
    "\n",
    "# Fit auto_arima function \n",
    "stepwise_fit = auto_arima(series['price'], start_p = 1, start_q = 1,\n",
    "                          max_p = 4, max_q = 4, m = 4,\n",
    "                          start_P = 0, seasonal = True,\n",
    "                          d = 1, D = 1, trace = True,\n",
    "                          error_action ='ignore',   # we don't want to know if an order does not work\n",
    "                          suppress_warnings = True,  # we don't want convergence warnings\n",
    "                          stepwise = True) "
   ]
  },
  {
   "cell_type": "markdown",
   "metadata": {},
   "source": [
    "### from this we can see that the best recommended values of (p,d,q) = (0,1,1) and seasonality = (0,1,1) with 4 periods in season"
   ]
  },
  {
   "cell_type": "markdown",
   "metadata": {},
   "source": [
    "## ARIMA model "
   ]
  },
  {
   "cell_type": "code",
   "execution_count": 16,
   "metadata": {
    "scrolled": true
   },
   "outputs": [
    {
     "name": "stderr",
     "output_type": "stream",
     "text": [
      "C:\\Users\\satish\\anaconda3\\lib\\site-packages\\statsmodels\\tsa\\arima_model.py:472: FutureWarning: \n",
      "statsmodels.tsa.arima_model.ARMA and statsmodels.tsa.arima_model.ARIMA have\n",
      "been deprecated in favor of statsmodels.tsa.arima.model.ARIMA (note the .\n",
      "between arima and model) and\n",
      "statsmodels.tsa.SARIMAX. These will be removed after the 0.12 release.\n",
      "\n",
      "statsmodels.tsa.arima.model.ARIMA makes use of the statespace framework and\n",
      "is both well tested and maintained.\n",
      "\n",
      "To silence this warning and continue using ARMA and ARIMA until they are\n",
      "removed, use:\n",
      "\n",
      "import warnings\n",
      "warnings.filterwarnings('ignore', 'statsmodels.tsa.arima_model.ARMA',\n",
      "                        FutureWarning)\n",
      "warnings.filterwarnings('ignore', 'statsmodels.tsa.arima_model.ARIMA',\n",
      "                        FutureWarning)\n",
      "\n",
      "  warnings.warn(ARIMA_DEPRECATION_WARN, FutureWarning)\n"
     ]
    },
    {
     "data": {
      "text/html": [
       "<table class=\"simpletable\">\n",
       "<caption>ARIMA Model Results</caption>\n",
       "<tr>\n",
       "  <th>Dep. Variable:</th>      <td>D.price</td>     <th>  No. Observations:  </th>   <td>19</td>   \n",
       "</tr>\n",
       "<tr>\n",
       "  <th>Model:</th>          <td>ARIMA(0, 1, 1)</td>  <th>  Log Likelihood     </th> <td>-67.815</td>\n",
       "</tr>\n",
       "<tr>\n",
       "  <th>Method:</th>             <td>css-mle</td>     <th>  S.D. of innovations</th>  <td>7.936</td> \n",
       "</tr>\n",
       "<tr>\n",
       "  <th>Date:</th>          <td>Tue, 03 Aug 2021</td> <th>  AIC                </th> <td>141.629</td>\n",
       "</tr>\n",
       "<tr>\n",
       "  <th>Time:</th>              <td>02:43:54</td>     <th>  BIC                </th> <td>144.463</td>\n",
       "</tr>\n",
       "<tr>\n",
       "  <th>Sample:</th>                <td>1</td>        <th>  HQIC               </th> <td>142.109</td>\n",
       "</tr>\n",
       "<tr>\n",
       "  <th></th>                       <td> </td>        <th>                     </th>    <td> </td>   \n",
       "</tr>\n",
       "</table>\n",
       "<table class=\"simpletable\">\n",
       "<tr>\n",
       "        <td></td>           <th>coef</th>     <th>std err</th>      <th>z</th>      <th>P>|z|</th>  <th>[0.025</th>    <th>0.975]</th>  \n",
       "</tr>\n",
       "<tr>\n",
       "  <th>const</th>         <td>    1.7090</td> <td>    0.308</td> <td>    5.553</td> <td> 0.000</td> <td>    1.106</td> <td>    2.312</td>\n",
       "</tr>\n",
       "<tr>\n",
       "  <th>ma.L1.D.price</th> <td>   -1.0000</td> <td>    0.131</td> <td>   -7.657</td> <td> 0.000</td> <td>   -1.256</td> <td>   -0.744</td>\n",
       "</tr>\n",
       "</table>\n",
       "<table class=\"simpletable\">\n",
       "<caption>Roots</caption>\n",
       "<tr>\n",
       "    <td></td>   <th>            Real</th>  <th>         Imaginary</th> <th>         Modulus</th>  <th>        Frequency</th>\n",
       "</tr>\n",
       "<tr>\n",
       "  <th>MA.1</th> <td>           1.0000</td> <td>          +0.0000j</td> <td>           1.0000</td> <td>           0.0000</td>\n",
       "</tr>\n",
       "</table>"
      ],
      "text/plain": [
       "<class 'statsmodels.iolib.summary.Summary'>\n",
       "\"\"\"\n",
       "                             ARIMA Model Results                              \n",
       "==============================================================================\n",
       "Dep. Variable:                D.price   No. Observations:                   19\n",
       "Model:                 ARIMA(0, 1, 1)   Log Likelihood                 -67.815\n",
       "Method:                       css-mle   S.D. of innovations              7.936\n",
       "Date:                Tue, 03 Aug 2021   AIC                            141.629\n",
       "Time:                        02:43:54   BIC                            144.463\n",
       "Sample:                             1   HQIC                           142.109\n",
       "                                                                              \n",
       "=================================================================================\n",
       "                    coef    std err          z      P>|z|      [0.025      0.975]\n",
       "---------------------------------------------------------------------------------\n",
       "const             1.7090      0.308      5.553      0.000       1.106       2.312\n",
       "ma.L1.D.price    -1.0000      0.131     -7.657      0.000      -1.256      -0.744\n",
       "                                    Roots                                    \n",
       "=============================================================================\n",
       "                  Real          Imaginary           Modulus         Frequency\n",
       "-----------------------------------------------------------------------------\n",
       "MA.1            1.0000           +0.0000j            1.0000            0.0000\n",
       "-----------------------------------------------------------------------------\n",
       "\"\"\""
      ]
     },
     "execution_count": 16,
     "metadata": {},
     "output_type": "execute_result"
    }
   ],
   "source": [
    "\n",
    "from statsmodels.tsa.arima_model import ARIMA\n",
    "model = ARIMA(series['price'], order=(0,1,1))\n",
    "model_fit=model.fit()\n",
    "model_fit.summary()"
   ]
  },
  {
   "cell_type": "code",
   "execution_count": 29,
   "metadata": {
    "scrolled": false
   },
   "outputs": [
    {
     "data": {
      "text/plain": [
       "<AxesSubplot:>"
      ]
     },
     "execution_count": 29,
     "metadata": {},
     "output_type": "execute_result"
    },
    {
     "data": {
      "image/png": "[encoded data removed]",
      "text/plain": [
       "<Figure size 864x576 with 1 Axes>"
      ]
     },
     "metadata": {
      "needs_background": "light"
     },
     "output_type": "display_data"
    }
   ],
   "source": [
    "series['forecast'] = model_fit.predict()\n",
    "series[['price','forecast']].plot(figsize=(12,8))"
   ]
  },
  {
   "cell_type": "code",
   "execution_count": 23,
   "metadata": {
    "scrolled": true
   },
   "outputs": [
    {
     "name": "stderr",
     "output_type": "stream",
     "text": [
      "C:\\Users\\satish\\anaconda3\\lib\\site-packages\\statsmodels\\tsa\\arima_model.py:472: FutureWarning: \n",
      "statsmodels.tsa.arima_model.ARMA and statsmodels.tsa.arima_model.ARIMA have\n",
      "been deprecated in favor of statsmodels.tsa.arima.model.ARIMA (note the .\n",
      "between arima and model) and\n",
      "statsmodels.tsa.SARIMAX. These will be removed after the 0.12 release.\n",
      "\n",
      "statsmodels.tsa.arima.model.ARIMA makes use of the statespace framework and\n",
      "is both well tested and maintained.\n",
      "\n",
      "To silence this warning and continue using ARMA and ARIMA until they are\n",
      "removed, use:\n",
      "\n",
      "import warnings\n",
      "warnings.filterwarnings('ignore', 'statsmodels.tsa.arima_model.ARMA',\n",
      "                        FutureWarning)\n",
      "warnings.filterwarnings('ignore', 'statsmodels.tsa.arima_model.ARIMA',\n",
      "                        FutureWarning)\n",
      "\n",
      "  warnings.warn(ARIMA_DEPRECATION_WARN, FutureWarning)\n",
      "C:\\Users\\satish\\anaconda3\\lib\\site-packages\\statsmodels\\base\\model.py:547: HessianInversionWarning: Inverting hessian failed, no bse or cov_params available\n",
      "  warnings.warn('Inverting hessian failed, no bse or cov_params '\n"
     ]
    },
    {
     "data": {
      "text/html": [
       "<table class=\"simpletable\">\n",
       "<caption>ARIMA Model Results</caption>\n",
       "<tr>\n",
       "  <th>Dep. Variable:</th>      <td>D.price</td>     <th>  No. Observations:  </th>   <td>19</td>   \n",
       "</tr>\n",
       "<tr>\n",
       "  <th>Model:</th>          <td>ARIMA(0, 1, 2)</td>  <th>  Log Likelihood     </th> <td>-61.826</td>\n",
       "</tr>\n",
       "<tr>\n",
       "  <th>Method:</th>             <td>css-mle</td>     <th>  S.D. of innovations</th>  <td>4.858</td> \n",
       "</tr>\n",
       "<tr>\n",
       "  <th>Date:</th>          <td>Tue, 03 Aug 2021</td> <th>  AIC                </th> <td>131.651</td>\n",
       "</tr>\n",
       "<tr>\n",
       "  <th>Time:</th>              <td>02:59:45</td>     <th>  BIC                </th> <td>135.429</td>\n",
       "</tr>\n",
       "<tr>\n",
       "  <th>Sample:</th>                <td>1</td>        <th>  HQIC               </th> <td>132.291</td>\n",
       "</tr>\n",
       "<tr>\n",
       "  <th></th>                       <td> </td>        <th>                     </th>    <td> </td>   \n",
       "</tr>\n",
       "</table>\n",
       "<table class=\"simpletable\">\n",
       "<tr>\n",
       "        <td></td>           <th>coef</th>     <th>std err</th>      <th>z</th>      <th>P>|z|</th>  <th>[0.025</th>    <th>0.975]</th>  \n",
       "</tr>\n",
       "<tr>\n",
       "  <th>const</th>         <td>    1.6624</td> <td>    0.065</td> <td>   25.576</td> <td> 0.000</td> <td>    1.535</td> <td>    1.790</td>\n",
       "</tr>\n",
       "<tr>\n",
       "  <th>ma.L1.D.price</th> <td>   -1.9989</td> <td>    0.292</td> <td>   -6.840</td> <td> 0.000</td> <td>   -2.572</td> <td>   -1.426</td>\n",
       "</tr>\n",
       "<tr>\n",
       "  <th>ma.L2.D.price</th> <td>    0.9989</td> <td>    0.269</td> <td>    3.716</td> <td> 0.000</td> <td>    0.472</td> <td>    1.526</td>\n",
       "</tr>\n",
       "</table>\n",
       "<table class=\"simpletable\">\n",
       "<caption>Roots</caption>\n",
       "<tr>\n",
       "    <td></td>   <th>            Real</th>  <th>         Imaginary</th> <th>         Modulus</th>  <th>        Frequency</th>\n",
       "</tr>\n",
       "<tr>\n",
       "  <th>MA.1</th> <td>           1.0001</td> <td>          +0.0000j</td> <td>           1.0001</td> <td>           0.0000</td>\n",
       "</tr>\n",
       "<tr>\n",
       "  <th>MA.2</th> <td>           1.0010</td> <td>          +0.0000j</td> <td>           1.0010</td> <td>           0.0000</td>\n",
       "</tr>\n",
       "</table>"
      ],
      "text/plain": [
       "<class 'statsmodels.iolib.summary.Summary'>\n",
       "\"\"\"\n",
       "                             ARIMA Model Results                              \n",
       "==============================================================================\n",
       "Dep. Variable:                D.price   No. Observations:                   19\n",
       "Model:                 ARIMA(0, 1, 2)   Log Likelihood                 -61.826\n",
       "Method:                       css-mle   S.D. of innovations              4.858\n",
       "Date:                Tue, 03 Aug 2021   AIC                            131.651\n",
       "Time:                        02:59:45   BIC                            135.429\n",
       "Sample:                             1   HQIC                           132.291\n",
       "                                                                              \n",
       "=================================================================================\n",
       "                    coef    std err          z      P>|z|      [0.025      0.975]\n",
       "---------------------------------------------------------------------------------\n",
       "const             1.6624      0.065     25.576      0.000       1.535       1.790\n",
       "ma.L1.D.price    -1.9989      0.292     -6.840      0.000      -2.572      -1.426\n",
       "ma.L2.D.price     0.9989      0.269      3.716      0.000       0.472       1.526\n",
       "                                    Roots                                    \n",
       "=============================================================================\n",
       "                  Real          Imaginary           Modulus         Frequency\n",
       "-----------------------------------------------------------------------------\n",
       "MA.1            1.0001           +0.0000j            1.0001            0.0000\n",
       "MA.2            1.0010           +0.0000j            1.0010            0.0000\n",
       "-----------------------------------------------------------------------------\n",
       "\"\"\""
      ]
     },
     "execution_count": 23,
     "metadata": {},
     "output_type": "execute_result"
    }
   ],
   "source": [
    "\n",
    "from statsmodels.tsa.arima_model import ARIMA\n",
    "model = ARIMA(series['price'], order=(0,1,2))\n",
    "model_fit=model.fit()\n",
    "model_fit.summary()"
   ]
  },
  {
   "cell_type": "code",
   "execution_count": 28,
   "metadata": {},
   "outputs": [
    {
     "data": {
      "text/plain": [
       "<AxesSubplot:>"
      ]
     },
     "execution_count": 28,
     "metadata": {},
     "output_type": "execute_result"
    },
    {
     "data": {
      "image/png": "[encoded data removed]",
      "text/plain": [
       "<Figure size 864x576 with 1 Axes>"
      ]
     },
     "metadata": {
      "needs_background": "light"
     },
     "output_type": "display_data"
    }
   ],
   "source": [
    "series['forecast'] = model_fit.predict()\n",
    "series[['price','forecast']].plot(figsize=(12,8))"
   ]
  },
  {
   "cell_type": "markdown",
   "metadata": {},
   "source": [
    "We can see manual arima params were better than those of auto arima"
   ]
  },
  {
   "cell_type": "markdown",
   "metadata": {},
   "source": [
    "### We can see that the coefficients of first order difference are significant but the model doesn't give a good fit for the forecast price"
   ]
  },
  {
   "cell_type": "markdown",
   "metadata": {},
   "source": [
    "## Try SARIMAX"
   ]
  },
  {
   "cell_type": "code",
   "execution_count": 25,
   "metadata": {
    "scrolled": true
   },
   "outputs": [
    {
     "name": "stderr",
     "output_type": "stream",
     "text": [
      "C:\\Users\\satish\\anaconda3\\lib\\site-packages\\statsmodels\\tsa\\statespace\\sarimax.py:1009: UserWarning: Non-invertible starting seasonal moving average Using zeros as starting parameters.\n",
      "  warn('Non-invertible starting seasonal moving average'\n"
     ]
    },
    {
     "data": {
      "text/html": [
       "<table class=\"simpletable\">\n",
       "<caption>SARIMAX Results</caption>\n",
       "<tr>\n",
       "  <th>Dep. Variable:</th>                <td>price</td>              <th>  No. Observations:  </th>   <td>20</td>   \n",
       "</tr>\n",
       "<tr>\n",
       "  <th>Model:</th>           <td>SARIMAX(0, 1, 2)x(0, 1, [1], 4)</td> <th>  Log Likelihood     </th> <td>-40.754</td>\n",
       "</tr>\n",
       "<tr>\n",
       "  <th>Date:</th>                   <td>Tue, 03 Aug 2021</td>         <th>  AIC                </th> <td>89.509</td> \n",
       "</tr>\n",
       "<tr>\n",
       "  <th>Time:</th>                       <td>03:01:40</td>             <th>  BIC                </th> <td>92.341</td> \n",
       "</tr>\n",
       "<tr>\n",
       "  <th>Sample:</th>                         <td>0</td>                <th>  HQIC               </th> <td>89.479</td> \n",
       "</tr>\n",
       "<tr>\n",
       "  <th></th>                              <td> - 20</td>              <th>                     </th>    <td> </td>   \n",
       "</tr>\n",
       "<tr>\n",
       "  <th>Covariance Type:</th>               <td>opg</td>               <th>                     </th>    <td> </td>   \n",
       "</tr>\n",
       "</table>\n",
       "<table class=\"simpletable\">\n",
       "<tr>\n",
       "     <td></td>        <th>coef</th>     <th>std err</th>      <th>z</th>      <th>P>|z|</th>  <th>[0.025</th>    <th>0.975]</th>  \n",
       "</tr>\n",
       "<tr>\n",
       "  <th>ma.L1</th>   <td>   -0.7913</td> <td>  134.439</td> <td>   -0.006</td> <td> 0.995</td> <td> -264.286</td> <td>  262.704</td>\n",
       "</tr>\n",
       "<tr>\n",
       "  <th>ma.L2</th>   <td>   -0.2076</td> <td>   28.258</td> <td>   -0.007</td> <td> 0.994</td> <td>  -55.591</td> <td>   55.176</td>\n",
       "</tr>\n",
       "<tr>\n",
       "  <th>ma.S.L4</th> <td>   -0.3676</td> <td>    0.415</td> <td>   -0.886</td> <td> 0.375</td> <td>   -1.181</td> <td>    0.445</td>\n",
       "</tr>\n",
       "<tr>\n",
       "  <th>sigma2</th>  <td>   10.5350</td> <td> 1415.176</td> <td>    0.007</td> <td> 0.994</td> <td>-2763.160</td> <td> 2784.230</td>\n",
       "</tr>\n",
       "</table>\n",
       "<table class=\"simpletable\">\n",
       "<tr>\n",
       "  <th>Ljung-Box (L1) (Q):</th>     <td>0.12</td> <th>  Jarque-Bera (JB):  </th> <td>1.18</td> \n",
       "</tr>\n",
       "<tr>\n",
       "  <th>Prob(Q):</th>                <td>0.73</td> <th>  Prob(JB):          </th> <td>0.55</td> \n",
       "</tr>\n",
       "<tr>\n",
       "  <th>Heteroskedasticity (H):</th> <td>0.35</td> <th>  Skew:              </th> <td>-0.59</td>\n",
       "</tr>\n",
       "<tr>\n",
       "  <th>Prob(H) (two-sided):</th>    <td>0.28</td> <th>  Kurtosis:          </th> <td>3.71</td> \n",
       "</tr>\n",
       "</table><br/><br/>Warnings:<br/>[1] Covariance matrix calculated using the outer product of gradients (complex-step)."
      ],
      "text/plain": [
       "<class 'statsmodels.iolib.summary.Summary'>\n",
       "\"\"\"\n",
       "                                      SARIMAX Results                                      \n",
       "===========================================================================================\n",
       "Dep. Variable:                               price   No. Observations:                   20\n",
       "Model:             SARIMAX(0, 1, 2)x(0, 1, [1], 4)   Log Likelihood                 -40.754\n",
       "Date:                             Tue, 03 Aug 2021   AIC                             89.509\n",
       "Time:                                     03:01:40   BIC                             92.341\n",
       "Sample:                                          0   HQIC                            89.479\n",
       "                                              - 20                                         \n",
       "Covariance Type:                               opg                                         \n",
       "==============================================================================\n",
       "                 coef    std err          z      P>|z|      [0.025      0.975]\n",
       "------------------------------------------------------------------------------\n",
       "ma.L1         -0.7913    134.439     -0.006      0.995    -264.286     262.704\n",
       "ma.L2         -0.2076     28.258     -0.007      0.994     -55.591      55.176\n",
       "ma.S.L4       -0.3676      0.415     -0.886      0.375      -1.181       0.445\n",
       "sigma2        10.5350   1415.176      0.007      0.994   -2763.160    2784.230\n",
       "===================================================================================\n",
       "Ljung-Box (L1) (Q):                   0.12   Jarque-Bera (JB):                 1.18\n",
       "Prob(Q):                              0.73   Prob(JB):                         0.55\n",
       "Heteroskedasticity (H):               0.35   Skew:                            -0.59\n",
       "Prob(H) (two-sided):                  0.28   Kurtosis:                         3.71\n",
       "===================================================================================\n",
       "\n",
       "Warnings:\n",
       "[1] Covariance matrix calculated using the outer product of gradients (complex-step).\n",
       "\"\"\""
      ]
     },
     "execution_count": 25,
     "metadata": {},
     "output_type": "execute_result"
    }
   ],
   "source": [
    "import statsmodels.api as sm\n",
    "model = sm.tsa.statespace.SARIMAX(series['price'],order=(0, 1, 2),seasonal_order = (0,1,1,4))\n",
    "results = model.fit()\n",
    "results.summary()"
   ]
  },
  {
   "cell_type": "markdown",
   "metadata": {},
   "source": [
    "### We can see that the model coefficients are not significant but the model has a better log likelihood than ARIMA"
   ]
  },
  {
   "cell_type": "code",
   "execution_count": 27,
   "metadata": {
    "scrolled": true
   },
   "outputs": [
    {
     "data": {
      "text/plain": [
       "<AxesSubplot:>"
      ]
     },
     "execution_count": 27,
     "metadata": {},
     "output_type": "execute_result"
    },
    {
     "data": {
      "image/png": "[encoded data removed]",
      "text/plain": [
       "<Figure size 864x576 with 1 Axes>"
      ]
     },
     "metadata": {
      "needs_background": "light"
     },
     "output_type": "display_data"
    }
   ],
   "source": [
    "series['forecast2'] = results.predict()\n",
    "series[['price','forecast2']].plot(figsize=(12,8))\n"
   ]
  },
  {
   "cell_type": "code",
   "execution_count": 31,
   "metadata": {},
   "outputs": [
    {
     "data": {
      "text/html": [
       "<div>\n",
       "<style scoped>\n",
       "    .dataframe tbody tr th:only-of-type {\n",
       "        vertical-align: middle;\n",
       "    }\n",
       "\n",
       "    .dataframe tbody tr th {\n",
       "        vertical-align: top;\n",
       "    }\n",
       "\n",
       "    .dataframe thead th {\n",
       "        text-align: right;\n",
       "    }\n",
       "</style>\n",
       "<table border=\"1\" class=\"dataframe\">\n",
       "  <thead>\n",
       "    <tr style=\"text-align: right;\">\n",
       "      <th></th>\n",
       "      <th>qtr</th>\n",
       "      <th>t</th>\n",
       "      <th>price</th>\n",
       "      <th>Price First Difference</th>\n",
       "      <th>forecast</th>\n",
       "      <th>Price Second Difference</th>\n",
       "      <th>forecast2</th>\n",
       "    </tr>\n",
       "  </thead>\n",
       "  <tbody>\n",
       "    <tr>\n",
       "      <th>0</th>\n",
       "      <td>10 Q1</td>\n",
       "      <td>1</td>\n",
       "      <td>8</td>\n",
       "      <td>NaN</td>\n",
       "      <td>NaN</td>\n",
       "      <td>NaN</td>\n",
       "      <td>0.000000</td>\n",
       "    </tr>\n",
       "    <tr>\n",
       "      <th>1</th>\n",
       "      <td>10 Q2</td>\n",
       "      <td>2</td>\n",
       "      <td>12</td>\n",
       "      <td>4.0</td>\n",
       "      <td>NaN</td>\n",
       "      <td>NaN</td>\n",
       "      <td>7.999970</td>\n",
       "    </tr>\n",
       "    <tr>\n",
       "      <th>2</th>\n",
       "      <td>10 Q3</td>\n",
       "      <td>3</td>\n",
       "      <td>6</td>\n",
       "      <td>-6.0</td>\n",
       "      <td>0.103923</td>\n",
       "      <td>-2.0</td>\n",
       "      <td>11.999963</td>\n",
       "    </tr>\n",
       "    <tr>\n",
       "      <th>3</th>\n",
       "      <td>10 Q4</td>\n",
       "      <td>4</td>\n",
       "      <td>25</td>\n",
       "      <td>19.0</td>\n",
       "      <td>8.155884</td>\n",
       "      <td>13.0</td>\n",
       "      <td>6.000048</td>\n",
       "    </tr>\n",
       "    <tr>\n",
       "      <th>4</th>\n",
       "      <td>11 Q1</td>\n",
       "      <td>5</td>\n",
       "      <td>16</td>\n",
       "      <td>-9.0</td>\n",
       "      <td>-13.181759</td>\n",
       "      <td>10.0</td>\n",
       "      <td>28.999904</td>\n",
       "    </tr>\n",
       "    <tr>\n",
       "      <th>5</th>\n",
       "      <td>11 Q2</td>\n",
       "      <td>6</td>\n",
       "      <td>22</td>\n",
       "      <td>6.0</td>\n",
       "      <td>0.424321</td>\n",
       "      <td>-3.0</td>\n",
       "      <td>20.000101</td>\n",
       "    </tr>\n",
       "    <tr>\n",
       "      <th>6</th>\n",
       "      <td>11 Q3</td>\n",
       "      <td>7</td>\n",
       "      <td>14</td>\n",
       "      <td>-8.0</td>\n",
       "      <td>-4.311586</td>\n",
       "      <td>-2.0</td>\n",
       "      <td>15.248866</td>\n",
       "    </tr>\n",
       "    <tr>\n",
       "      <th>7</th>\n",
       "      <td>11 Q4</td>\n",
       "      <td>8</td>\n",
       "      <td>35</td>\n",
       "      <td>21.0</td>\n",
       "      <td>10.181940</td>\n",
       "      <td>13.0</td>\n",
       "      <td>33.423795</td>\n",
       "    </tr>\n",
       "    <tr>\n",
       "      <th>8</th>\n",
       "      <td>12 Q1</td>\n",
       "      <td>9</td>\n",
       "      <td>15</td>\n",
       "      <td>-20.0</td>\n",
       "      <td>-17.317303</td>\n",
       "      <td>1.0</td>\n",
       "      <td>25.543343</td>\n",
       "    </tr>\n",
       "    <tr>\n",
       "      <th>9</th>\n",
       "      <td>12 Q2</td>\n",
       "      <td>10</td>\n",
       "      <td>27</td>\n",
       "      <td>12.0</td>\n",
       "      <td>12.685896</td>\n",
       "      <td>-8.0</td>\n",
       "      <td>25.271215</td>\n",
       "    </tr>\n",
       "    <tr>\n",
       "      <th>10</th>\n",
       "      <td>12 Q3</td>\n",
       "      <td>11</td>\n",
       "      <td>18</td>\n",
       "      <td>-9.0</td>\n",
       "      <td>1.028784</td>\n",
       "      <td>3.0</td>\n",
       "      <td>20.136858</td>\n",
       "    </tr>\n",
       "    <tr>\n",
       "      <th>11</th>\n",
       "      <td>12 Q4</td>\n",
       "      <td>12</td>\n",
       "      <td>40</td>\n",
       "      <td>22.0</td>\n",
       "      <td>17.909326</td>\n",
       "      <td>13.0</td>\n",
       "      <td>39.393996</td>\n",
       "    </tr>\n",
       "    <tr>\n",
       "      <th>12</th>\n",
       "      <td>13 Q1</td>\n",
       "      <td>13</td>\n",
       "      <td>28</td>\n",
       "      <td>-12.0</td>\n",
       "      <td>-12.331887</td>\n",
       "      <td>10.0</td>\n",
       "      <td>23.560901</td>\n",
       "    </tr>\n",
       "    <tr>\n",
       "      <th>13</th>\n",
       "      <td>13 Q2</td>\n",
       "      <td>14</td>\n",
       "      <td>40</td>\n",
       "      <td>12.0</td>\n",
       "      <td>4.060263</td>\n",
       "      <td>0.0</td>\n",
       "      <td>34.709089</td>\n",
       "    </tr>\n",
       "    <tr>\n",
       "      <th>14</th>\n",
       "      <td>13 Q3</td>\n",
       "      <td>15</td>\n",
       "      <td>25</td>\n",
       "      <td>-15.0</td>\n",
       "      <td>-11.853301</td>\n",
       "      <td>-3.0</td>\n",
       "      <td>27.380112</td>\n",
       "    </tr>\n",
       "    <tr>\n",
       "      <th>15</th>\n",
       "      <td>13 Q4</td>\n",
       "      <td>16</td>\n",
       "      <td>45</td>\n",
       "      <td>20.0</td>\n",
       "      <td>13.190028</td>\n",
       "      <td>5.0</td>\n",
       "      <td>47.067358</td>\n",
       "    </tr>\n",
       "    <tr>\n",
       "      <th>16</th>\n",
       "      <td>14 Q1</td>\n",
       "      <td>17</td>\n",
       "      <td>32</td>\n",
       "      <td>-13.0</td>\n",
       "      <td>-12.784663</td>\n",
       "      <td>7.0</td>\n",
       "      <td>33.265496</td>\n",
       "    </tr>\n",
       "    <tr>\n",
       "      <th>17</th>\n",
       "      <td>14 Q2</td>\n",
       "      <td>18</td>\n",
       "      <td>44</td>\n",
       "      <td>12.0</td>\n",
       "      <td>7.386317</td>\n",
       "      <td>-1.0</td>\n",
       "      <td>44.365824</td>\n",
       "    </tr>\n",
       "    <tr>\n",
       "      <th>18</th>\n",
       "      <td>14 Q3</td>\n",
       "      <td>19</td>\n",
       "      <td>27</td>\n",
       "      <td>-17.0</td>\n",
       "      <td>-6.764962</td>\n",
       "      <td>-5.0</td>\n",
       "      <td>31.909003</td>\n",
       "    </tr>\n",
       "    <tr>\n",
       "      <th>19</th>\n",
       "      <td>14 Q4</td>\n",
       "      <td>20</td>\n",
       "      <td>50</td>\n",
       "      <td>23.0</td>\n",
       "      <td>23.800620</td>\n",
       "      <td>6.0</td>\n",
       "      <td>51.045771</td>\n",
       "    </tr>\n",
       "  </tbody>\n",
       "</table>\n",
       "</div>"
      ],
      "text/plain": [
       "      qtr   t  price  Price First Difference   forecast  \\\n",
       "0   10 Q1   1      8                     NaN        NaN   \n",
       "1   10 Q2   2     12                     4.0        NaN   \n",
       "2   10 Q3   3      6                    -6.0   0.103923   \n",
       "3   10 Q4   4     25                    19.0   8.155884   \n",
       "4   11 Q1   5     16                    -9.0 -13.181759   \n",
       "5   11 Q2   6     22                     6.0   0.424321   \n",
       "6   11 Q3   7     14                    -8.0  -4.311586   \n",
       "7   11 Q4   8     35                    21.0  10.181940   \n",
       "8   12 Q1   9     15                   -20.0 -17.317303   \n",
       "9   12 Q2  10     27                    12.0  12.685896   \n",
       "10  12 Q3  11     18                    -9.0   1.028784   \n",
       "11  12 Q4  12     40                    22.0  17.909326   \n",
       "12  13 Q1  13     28                   -12.0 -12.331887   \n",
       "13  13 Q2  14     40                    12.0   4.060263   \n",
       "14  13 Q3  15     25                   -15.0 -11.853301   \n",
       "15  13 Q4  16     45                    20.0  13.190028   \n",
       "16  14 Q1  17     32                   -13.0 -12.784663   \n",
       "17  14 Q2  18     44                    12.0   7.386317   \n",
       "18  14 Q3  19     27                   -17.0  -6.764962   \n",
       "19  14 Q4  20     50                    23.0  23.800620   \n",
       "\n",
       "    Price Second Difference  forecast2  \n",
       "0                       NaN   0.000000  \n",
       "1                       NaN   7.999970  \n",
       "2                      -2.0  11.999963  \n",
       "3                      13.0   6.000048  \n",
       "4                      10.0  28.999904  \n",
       "5                      -3.0  20.000101  \n",
       "6                      -2.0  15.248866  \n",
       "7                      13.0  33.423795  \n",
       "8                       1.0  25.543343  \n",
       "9                      -8.0  25.271215  \n",
       "10                      3.0  20.136858  \n",
       "11                     13.0  39.393996  \n",
       "12                     10.0  23.560901  \n",
       "13                      0.0  34.709089  \n",
       "14                     -3.0  27.380112  \n",
       "15                      5.0  47.067358  \n",
       "16                      7.0  33.265496  \n",
       "17                     -1.0  44.365824  \n",
       "18                     -5.0  31.909003  \n",
       "19                      6.0  51.045771  "
      ]
     },
     "execution_count": 31,
     "metadata": {},
     "output_type": "execute_result"
    }
   ],
   "source": [
    "series"
   ]
  },
  {
   "cell_type": "markdown",
   "metadata": {},
   "source": [
    "### We can see that SARIMAX model gives much better fit than ARIMA model for the forecast of price because of seasonality in the data and SARIMAX is more suitable to handle seasonal data "
   ]
  },
  {
   "cell_type": "code",
   "execution_count": null,
   "metadata": {},
   "outputs": [],
   "source": []
  }
 ],
 "metadata": {
  "kernelspec": {
   "display_name": "Python 3",
   "language": "python",
   "name": "python3"
  },
  "language_info": {
   "codemirror_mode": {
    "name": "ipython",
    "version": 3
   },
   "file_extension": ".py",
   "mimetype": "text/x-python",
   "name": "python",
   "nbconvert_exporter": "python",
   "pygments_lexer": "ipython3",
   "version": "3.8.5"
  }
 },
 "nbformat": 4,
 "nbformat_minor": 4
}
