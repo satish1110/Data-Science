{
 "cells": [
  {
   "cell_type": "markdown",
   "metadata": {},
   "source": [
    "### Double Exponential Smoothing is an extension to Exponential Smoothing that explicitly adds support for trends but not seasonality time series. In addition to the alpha parameter for controlling smoothing factor for the level, an additional smoothing factor is added to control the decay of the influence of the change in trend called beta."
   ]
  },
  {
   "cell_type": "code",
   "execution_count": null,
   "metadata": {},
   "outputs": [],
   "source": [
    "#Alpha: Smoothing factor for the level.\n",
    "#Beta: Smoothing factor for the trend.\n",
    "#Trend Type: Additive or multiplicative.\n",
    "#Dampen Type: Additive or multiplicative.\n",
    "#Phi: Damping coefficient."
   ]
  },
  {
   "cell_type": "code",
   "execution_count": 1,
   "metadata": {},
   "outputs": [],
   "source": [
    "import os\n",
    "import numpy as np\n",
    "from pandas import read_excel\n",
    "from matplotlib import pyplot as plt\n",
    "    from statsmodels.tsa.api import Holt\n",
    "from sklearn.metrics import mean_squared_error \n",
    "from math import sqrt \n"
   ]
  },
  {
   "cell_type": "code",
   "execution_count": 2,
   "metadata": {},
   "outputs": [],
   "source": [
    "os.chdir(\"C:\\\\Users\\\\satish\\\\Desktop\")"
   ]
  },
  {
   "cell_type": "code",
   "execution_count": 3,
   "metadata": {},
   "outputs": [],
   "source": [
    "series = read_excel(\"TSF_data.xlsx\", sheet_name = \"DES\")\n",
    "train = series.iloc[0:15]\n",
    "test = series.iloc[15:]\n"
   ]
  },
  {
   "cell_type": "code",
   "execution_count": 4,
   "metadata": {},
   "outputs": [
    {
     "name": "stderr",
     "output_type": "stream",
     "text": [
      "C:\\Users\\satish\\anaconda3\\lib\\site-packages\\statsmodels\\tsa\\holtwinters\\model.py:427: FutureWarning: After 0.13 initialization must be handled at model creation\n",
      "  warnings.warn(\n",
      "<ipython-input-4-50079a341469>:3: FutureWarning: the 'smoothing_slope'' keyword is deprecated, use 'smoothing_trend' instead\n",
      "  fit = Holt(np.asanyarray(train['y'])).fit(smoothing_level = 0.5, smoothing_slope = 0.9, damping_slope = 0.9, optimized=False)\n",
      "C:\\Users\\satish\\anaconda3\\lib\\site-packages\\pandas\\util\\_decorators.py:199: FutureWarning: the 'damping_slope'' keyword is deprecated, use 'damping_trend' instead\n",
      "  return func(*args, **kwargs)\n"
     ]
    },
    {
     "data": {
      "text/html": [
       "<div>\n",
       "<style scoped>\n",
       "    .dataframe tbody tr th:only-of-type {\n",
       "        vertical-align: middle;\n",
       "    }\n",
       "\n",
       "    .dataframe tbody tr th {\n",
       "        vertical-align: top;\n",
       "    }\n",
       "\n",
       "    .dataframe thead th {\n",
       "        text-align: right;\n",
       "    }\n",
       "</style>\n",
       "<table border=\"1\" class=\"dataframe\">\n",
       "  <thead>\n",
       "    <tr style=\"text-align: right;\">\n",
       "      <th></th>\n",
       "      <th>t</th>\n",
       "      <th>y</th>\n",
       "      <th>Holt_linear</th>\n",
       "    </tr>\n",
       "  </thead>\n",
       "  <tbody>\n",
       "    <tr>\n",
       "      <th>15</th>\n",
       "      <td>16</td>\n",
       "      <td>147</td>\n",
       "      <td>147.421337</td>\n",
       "    </tr>\n",
       "    <tr>\n",
       "      <th>16</th>\n",
       "      <td>17</td>\n",
       "      <td>148</td>\n",
       "      <td>150.615817</td>\n",
       "    </tr>\n",
       "    <tr>\n",
       "      <th>17</th>\n",
       "      <td>18</td>\n",
       "      <td>160</td>\n",
       "      <td>153.810298</td>\n",
       "    </tr>\n",
       "    <tr>\n",
       "      <th>18</th>\n",
       "      <td>19</td>\n",
       "      <td>165</td>\n",
       "      <td>157.004779</td>\n",
       "    </tr>\n",
       "    <tr>\n",
       "      <th>19</th>\n",
       "      <td>20</td>\n",
       "      <td>169</td>\n",
       "      <td>160.199259</td>\n",
       "    </tr>\n",
       "  </tbody>\n",
       "</table>\n",
       "</div>"
      ],
      "text/plain": [
       "     t    y  Holt_linear\n",
       "15  16  147   147.421337\n",
       "16  17  148   150.615817\n",
       "17  18  160   153.810298\n",
       "18  19  165   157.004779\n",
       "19  20  169   160.199259"
      ]
     },
     "execution_count": 4,
     "metadata": {},
     "output_type": "execute_result"
    }
   ],
   "source": [
    "# using Holt's linear model predict for test set\n",
    "y_hat = test.copy()\n",
    "fit = Holt(np.asanyarray(train['y'])).fit(smoothing_level = 0.5, smoothing_slope = 0.9, damping_slope = 0.9, optimized=False)\n",
    "y_hat['Holt_linear'] = fit.forecast(len(test))\n",
    "y_hat\n"
   ]
  },
  {
   "cell_type": "code",
   "execution_count": 5,
   "metadata": {
    "scrolled": true
   },
   "outputs": [
    {
     "data": {
      "image/png": "[encoded data removed]",
      "text/plain": [
       "<Figure size 720x216 with 1 Axes>"
      ]
     },
     "metadata": {
      "needs_background": "light"
     },
     "output_type": "display_data"
    }
   ],
   "source": [
    "# plot the forecast\n",
    "plt.figure(figsize=(10,3))\n",
    "plt.plot(train['y'], label='train')\n",
    "plt.plot(test['y'], label='test')\n",
    "plt.plot(y_hat['Holt_linear'], label='Holt linear')\n",
    "plt.legend(loc='best')\n",
    "plt.show()\n"
   ]
  },
  {
   "cell_type": "code",
   "execution_count": 6,
   "metadata": {},
   "outputs": [
    {
     "name": "stdout",
     "output_type": "stream",
     "text": [
      "6.110794430278249\n"
     ]
    }
   ],
   "source": [
    "# compute the error\n",
    "rmse=sqrt(mean_squared_error(test.y, y_hat['Holt_linear']))\n",
    "print(rmse)\n"
   ]
  },
  {
   "cell_type": "markdown",
   "metadata": {},
   "source": [
    "### DES provides forecast when historical data has trend but not seasonal information. The algorithm calculation estimate value for levels and trends. Here the forecasting model updates its estimation of the level at each period based on two pieces of information: the last observation and the previous level estimation increased by the trend"
   ]
  },
  {
   "cell_type": "code",
   "execution_count": null,
   "metadata": {},
   "outputs": [],
   "source": []
  }
 ],
 "metadata": {
  "kernelspec": {
   "display_name": "Python 3",
   "language": "python",
   "name": "python3"
  },
  "language_info": {
   "codemirror_mode": {
    "name": "ipython",
    "version": 3
   },
   "file_extension": ".py",
   "mimetype": "text/x-python",
   "name": "python",
   "nbconvert_exporter": "python",
   "pygments_lexer": "ipython3",
   "version": "3.8.5"
  }
 },
 "nbformat": 4,
 "nbformat_minor": 4
}
