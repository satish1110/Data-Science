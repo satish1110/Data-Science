{
 "cells": [
  {
   "cell_type": "markdown",
   "metadata": {},
   "source": [
    "## Linear regression partial F test"
   ]
  },
  {
   "cell_type": "markdown",
   "metadata": {},
   "source": [
    "H0: All coeff. removed from full model are 0 </br>\n",
    "HA: Atleast one coeff. removed from full model is non zero "
   ]
  },
  {
   "cell_type": "code",
   "execution_count": 1,
   "metadata": {},
   "outputs": [],
   "source": [
    "import pandas as pd\n",
    "import statsmodels.api as sm"
   ]
  },
  {
   "cell_type": "code",
   "execution_count": 6,
   "metadata": {},
   "outputs": [],
   "source": [
    "df = pd.read_excel(\"TSF_data.xlsx\", sheet_name=\"partial_f_test\")"
   ]
  },
  {
   "cell_type": "code",
   "execution_count": 7,
   "metadata": {},
   "outputs": [
    {
     "data": {
      "text/html": [
       "<div>\n",
       "<style scoped>\n",
       "    .dataframe tbody tr th:only-of-type {\n",
       "        vertical-align: middle;\n",
       "    }\n",
       "\n",
       "    .dataframe tbody tr th {\n",
       "        vertical-align: top;\n",
       "    }\n",
       "\n",
       "    .dataframe thead th {\n",
       "        text-align: right;\n",
       "    }\n",
       "</style>\n",
       "<table border=\"1\" class=\"dataframe\">\n",
       "  <thead>\n",
       "    <tr style=\"text-align: right;\">\n",
       "      <th></th>\n",
       "      <th>x1</th>\n",
       "      <th>x2</th>\n",
       "      <th>x3</th>\n",
       "      <th>x4</th>\n",
       "      <th>x5</th>\n",
       "      <th>y</th>\n",
       "    </tr>\n",
       "  </thead>\n",
       "  <tbody>\n",
       "    <tr>\n",
       "      <th>0</th>\n",
       "      <td>0.041072</td>\n",
       "      <td>0.992681</td>\n",
       "      <td>0.919246</td>\n",
       "      <td>0.708862</td>\n",
       "      <td>0.079893</td>\n",
       "      <td>7</td>\n",
       "    </tr>\n",
       "    <tr>\n",
       "      <th>1</th>\n",
       "      <td>0.381506</td>\n",
       "      <td>0.631321</td>\n",
       "      <td>0.169360</td>\n",
       "      <td>0.298512</td>\n",
       "      <td>0.215957</td>\n",
       "      <td>9</td>\n",
       "    </tr>\n",
       "    <tr>\n",
       "      <th>2</th>\n",
       "      <td>0.603146</td>\n",
       "      <td>0.039878</td>\n",
       "      <td>0.186666</td>\n",
       "      <td>0.620603</td>\n",
       "      <td>0.232092</td>\n",
       "      <td>3</td>\n",
       "    </tr>\n",
       "    <tr>\n",
       "      <th>3</th>\n",
       "      <td>0.070184</td>\n",
       "      <td>0.907150</td>\n",
       "      <td>0.562794</td>\n",
       "      <td>0.455192</td>\n",
       "      <td>0.489216</td>\n",
       "      <td>2</td>\n",
       "    </tr>\n",
       "    <tr>\n",
       "      <th>4</th>\n",
       "      <td>0.297649</td>\n",
       "      <td>0.138645</td>\n",
       "      <td>0.390850</td>\n",
       "      <td>0.063010</td>\n",
       "      <td>0.377271</td>\n",
       "      <td>4</td>\n",
       "    </tr>\n",
       "  </tbody>\n",
       "</table>\n",
       "</div>"
      ],
      "text/plain": [
       "         x1        x2        x3        x4        x5  y\n",
       "0  0.041072  0.992681  0.919246  0.708862  0.079893  7\n",
       "1  0.381506  0.631321  0.169360  0.298512  0.215957  9\n",
       "2  0.603146  0.039878  0.186666  0.620603  0.232092  3\n",
       "3  0.070184  0.907150  0.562794  0.455192  0.489216  2\n",
       "4  0.297649  0.138645  0.390850  0.063010  0.377271  4"
      ]
     },
     "execution_count": 7,
     "metadata": {},
     "output_type": "execute_result"
    }
   ],
   "source": [
    "df.head()"
   ]
  },
  {
   "cell_type": "code",
   "execution_count": 8,
   "metadata": {},
   "outputs": [
    {
     "data": {
      "text/html": [
       "<div>\n",
       "<style scoped>\n",
       "    .dataframe tbody tr th:only-of-type {\n",
       "        vertical-align: middle;\n",
       "    }\n",
       "\n",
       "    .dataframe tbody tr th {\n",
       "        vertical-align: top;\n",
       "    }\n",
       "\n",
       "    .dataframe thead th {\n",
       "        text-align: right;\n",
       "    }\n",
       "</style>\n",
       "<table border=\"1\" class=\"dataframe\">\n",
       "  <thead>\n",
       "    <tr style=\"text-align: right;\">\n",
       "      <th></th>\n",
       "      <th>const</th>\n",
       "      <th>x1</th>\n",
       "      <th>x2</th>\n",
       "      <th>x3</th>\n",
       "      <th>x4</th>\n",
       "      <th>x5</th>\n",
       "    </tr>\n",
       "  </thead>\n",
       "  <tbody>\n",
       "    <tr>\n",
       "      <th>0</th>\n",
       "      <td>1.0</td>\n",
       "      <td>0.041072</td>\n",
       "      <td>0.992681</td>\n",
       "      <td>0.919246</td>\n",
       "      <td>0.708862</td>\n",
       "      <td>0.079893</td>\n",
       "    </tr>\n",
       "    <tr>\n",
       "      <th>1</th>\n",
       "      <td>1.0</td>\n",
       "      <td>0.381506</td>\n",
       "      <td>0.631321</td>\n",
       "      <td>0.169360</td>\n",
       "      <td>0.298512</td>\n",
       "      <td>0.215957</td>\n",
       "    </tr>\n",
       "    <tr>\n",
       "      <th>2</th>\n",
       "      <td>1.0</td>\n",
       "      <td>0.603146</td>\n",
       "      <td>0.039878</td>\n",
       "      <td>0.186666</td>\n",
       "      <td>0.620603</td>\n",
       "      <td>0.232092</td>\n",
       "    </tr>\n",
       "    <tr>\n",
       "      <th>3</th>\n",
       "      <td>1.0</td>\n",
       "      <td>0.070184</td>\n",
       "      <td>0.907150</td>\n",
       "      <td>0.562794</td>\n",
       "      <td>0.455192</td>\n",
       "      <td>0.489216</td>\n",
       "    </tr>\n",
       "    <tr>\n",
       "      <th>4</th>\n",
       "      <td>1.0</td>\n",
       "      <td>0.297649</td>\n",
       "      <td>0.138645</td>\n",
       "      <td>0.390850</td>\n",
       "      <td>0.063010</td>\n",
       "      <td>0.377271</td>\n",
       "    </tr>\n",
       "  </tbody>\n",
       "</table>\n",
       "</div>"
      ],
      "text/plain": [
       "   const        x1        x2        x3        x4        x5\n",
       "0    1.0  0.041072  0.992681  0.919246  0.708862  0.079893\n",
       "1    1.0  0.381506  0.631321  0.169360  0.298512  0.215957\n",
       "2    1.0  0.603146  0.039878  0.186666  0.620603  0.232092\n",
       "3    1.0  0.070184  0.907150  0.562794  0.455192  0.489216\n",
       "4    1.0  0.297649  0.138645  0.390850  0.063010  0.377271"
      ]
     },
     "execution_count": 8,
     "metadata": {},
     "output_type": "execute_result"
    }
   ],
   "source": [
    "x = df.drop(\"y\", axis = 1)\n",
    "y = df.y\n",
    "x = sm.add_constant(x)\n",
    "x.head()"
   ]
  },
  {
   "cell_type": "code",
   "execution_count": 9,
   "metadata": {},
   "outputs": [
    {
     "name": "stderr",
     "output_type": "stream",
     "text": [
      "C:\\Users\\satish\\anaconda3\\lib\\site-packages\\scipy\\stats\\stats.py:1603: UserWarning: kurtosistest only valid for n>=20 ... continuing anyway, n=10\n",
      "  warnings.warn(\"kurtosistest only valid for n>=20 ... continuing \"\n"
     ]
    },
    {
     "data": {
      "text/html": [
       "<table class=\"simpletable\">\n",
       "<caption>OLS Regression Results</caption>\n",
       "<tr>\n",
       "  <th>Dep. Variable:</th>            <td>y</td>        <th>  R-squared:         </th> <td>   0.862</td>\n",
       "</tr>\n",
       "<tr>\n",
       "  <th>Model:</th>                   <td>OLS</td>       <th>  Adj. R-squared:    </th> <td>   0.689</td>\n",
       "</tr>\n",
       "<tr>\n",
       "  <th>Method:</th>             <td>Least Squares</td>  <th>  F-statistic:       </th> <td>   4.988</td>\n",
       "</tr>\n",
       "<tr>\n",
       "  <th>Date:</th>             <td>Tue, 27 Jul 2021</td> <th>  Prob (F-statistic):</th>  <td>0.0723</td> \n",
       "</tr>\n",
       "<tr>\n",
       "  <th>Time:</th>                 <td>11:58:01</td>     <th>  Log-Likelihood:    </th> <td> -13.916</td>\n",
       "</tr>\n",
       "<tr>\n",
       "  <th>No. Observations:</th>      <td>    10</td>      <th>  AIC:               </th> <td>   39.83</td>\n",
       "</tr>\n",
       "<tr>\n",
       "  <th>Df Residuals:</th>          <td>     4</td>      <th>  BIC:               </th> <td>   41.65</td>\n",
       "</tr>\n",
       "<tr>\n",
       "  <th>Df Model:</th>              <td>     5</td>      <th>                     </th>     <td> </td>   \n",
       "</tr>\n",
       "<tr>\n",
       "  <th>Covariance Type:</th>      <td>nonrobust</td>    <th>                     </th>     <td> </td>   \n",
       "</tr>\n",
       "</table>\n",
       "<table class=\"simpletable\">\n",
       "<tr>\n",
       "    <td></td>       <th>coef</th>     <th>std err</th>      <th>t</th>      <th>P>|t|</th>  <th>[0.025</th>    <th>0.975]</th>  \n",
       "</tr>\n",
       "<tr>\n",
       "  <th>const</th> <td>    4.8807</td> <td>    2.841</td> <td>    1.718</td> <td> 0.161</td> <td>   -3.006</td> <td>   12.768</td>\n",
       "</tr>\n",
       "<tr>\n",
       "  <th>x1</th>    <td>    6.7208</td> <td>    3.471</td> <td>    1.936</td> <td> 0.125</td> <td>   -2.916</td> <td>   16.357</td>\n",
       "</tr>\n",
       "<tr>\n",
       "  <th>x2</th>    <td>    6.4514</td> <td>    2.470</td> <td>    2.612</td> <td> 0.059</td> <td>   -0.406</td> <td>   13.309</td>\n",
       "</tr>\n",
       "<tr>\n",
       "  <th>x3</th>    <td>   -0.7555</td> <td>    3.153</td> <td>   -0.240</td> <td> 0.822</td> <td>   -9.509</td> <td>    7.998</td>\n",
       "</tr>\n",
       "<tr>\n",
       "  <th>x4</th>    <td>   -6.0101</td> <td>    2.117</td> <td>   -2.839</td> <td> 0.047</td> <td>  -11.888</td> <td>   -0.132</td>\n",
       "</tr>\n",
       "<tr>\n",
       "  <th>x5</th>    <td>   -8.0457</td> <td>    2.581</td> <td>   -3.117</td> <td> 0.036</td> <td>  -15.212</td> <td>   -0.880</td>\n",
       "</tr>\n",
       "</table>\n",
       "<table class=\"simpletable\">\n",
       "<tr>\n",
       "  <th>Omnibus:</th>       <td> 2.117</td> <th>  Durbin-Watson:     </th> <td>   1.501</td>\n",
       "</tr>\n",
       "<tr>\n",
       "  <th>Prob(Omnibus):</th> <td> 0.347</td> <th>  Jarque-Bera (JB):  </th> <td>   0.958</td>\n",
       "</tr>\n",
       "<tr>\n",
       "  <th>Skew:</th>          <td>-0.750</td> <th>  Prob(JB):          </th> <td>   0.619</td>\n",
       "</tr>\n",
       "<tr>\n",
       "  <th>Kurtosis:</th>      <td> 2.781</td> <th>  Cond. No.          </th> <td>    14.1</td>\n",
       "</tr>\n",
       "</table><br/><br/>Notes:<br/>[1] Standard Errors assume that the covariance matrix of the errors is correctly specified."
      ],
      "text/plain": [
       "<class 'statsmodels.iolib.summary.Summary'>\n",
       "\"\"\"\n",
       "                            OLS Regression Results                            \n",
       "==============================================================================\n",
       "Dep. Variable:                      y   R-squared:                       0.862\n",
       "Model:                            OLS   Adj. R-squared:                  0.689\n",
       "Method:                 Least Squares   F-statistic:                     4.988\n",
       "Date:                Tue, 27 Jul 2021   Prob (F-statistic):             0.0723\n",
       "Time:                        11:58:01   Log-Likelihood:                -13.916\n",
       "No. Observations:                  10   AIC:                             39.83\n",
       "Df Residuals:                       4   BIC:                             41.65\n",
       "Df Model:                           5                                         \n",
       "Covariance Type:            nonrobust                                         \n",
       "==============================================================================\n",
       "                 coef    std err          t      P>|t|      [0.025      0.975]\n",
       "------------------------------------------------------------------------------\n",
       "const          4.8807      2.841      1.718      0.161      -3.006      12.768\n",
       "x1             6.7208      3.471      1.936      0.125      -2.916      16.357\n",
       "x2             6.4514      2.470      2.612      0.059      -0.406      13.309\n",
       "x3            -0.7555      3.153     -0.240      0.822      -9.509       7.998\n",
       "x4            -6.0101      2.117     -2.839      0.047     -11.888      -0.132\n",
       "x5            -8.0457      2.581     -3.117      0.036     -15.212      -0.880\n",
       "==============================================================================\n",
       "Omnibus:                        2.117   Durbin-Watson:                   1.501\n",
       "Prob(Omnibus):                  0.347   Jarque-Bera (JB):                0.958\n",
       "Skew:                          -0.750   Prob(JB):                        0.619\n",
       "Kurtosis:                       2.781   Cond. No.                         14.1\n",
       "==============================================================================\n",
       "\n",
       "Notes:\n",
       "[1] Standard Errors assume that the covariance matrix of the errors is correctly specified.\n",
       "\"\"\""
      ]
     },
     "execution_count": 9,
     "metadata": {},
     "output_type": "execute_result"
    }
   ],
   "source": [
    "results = sm.OLS(y,x).fit()\n",
    "results.summary()"
   ]
  },
  {
   "cell_type": "markdown",
   "metadata": {},
   "source": [
    "## Find partial F stat"
   ]
  },
  {
   "cell_type": "code",
   "execution_count": 12,
   "metadata": {},
   "outputs": [
    {
     "data": {
      "text/plain": [
       "9.467991528170801"
      ]
     },
     "execution_count": 12,
     "metadata": {},
     "output_type": "execute_result"
    }
   ],
   "source": [
    "SSEF = sum((y - results.predict(x))**2)\n",
    "SSEF"
   ]
  },
  {
   "cell_type": "code",
   "execution_count": 13,
   "metadata": {},
   "outputs": [
    {
     "data": {
      "text/html": [
       "<div>\n",
       "<style scoped>\n",
       "    .dataframe tbody tr th:only-of-type {\n",
       "        vertical-align: middle;\n",
       "    }\n",
       "\n",
       "    .dataframe tbody tr th {\n",
       "        vertical-align: top;\n",
       "    }\n",
       "\n",
       "    .dataframe thead th {\n",
       "        text-align: right;\n",
       "    }\n",
       "</style>\n",
       "<table border=\"1\" class=\"dataframe\">\n",
       "  <thead>\n",
       "    <tr style=\"text-align: right;\">\n",
       "      <th></th>\n",
       "      <th>const</th>\n",
       "      <th>x1</th>\n",
       "      <th>x2</th>\n",
       "      <th>x5</th>\n",
       "    </tr>\n",
       "  </thead>\n",
       "  <tbody>\n",
       "    <tr>\n",
       "      <th>0</th>\n",
       "      <td>1.0</td>\n",
       "      <td>0.041072</td>\n",
       "      <td>0.992681</td>\n",
       "      <td>0.079893</td>\n",
       "    </tr>\n",
       "    <tr>\n",
       "      <th>1</th>\n",
       "      <td>1.0</td>\n",
       "      <td>0.381506</td>\n",
       "      <td>0.631321</td>\n",
       "      <td>0.215957</td>\n",
       "    </tr>\n",
       "    <tr>\n",
       "      <th>2</th>\n",
       "      <td>1.0</td>\n",
       "      <td>0.603146</td>\n",
       "      <td>0.039878</td>\n",
       "      <td>0.232092</td>\n",
       "    </tr>\n",
       "    <tr>\n",
       "      <th>3</th>\n",
       "      <td>1.0</td>\n",
       "      <td>0.070184</td>\n",
       "      <td>0.907150</td>\n",
       "      <td>0.489216</td>\n",
       "    </tr>\n",
       "    <tr>\n",
       "      <th>4</th>\n",
       "      <td>1.0</td>\n",
       "      <td>0.297649</td>\n",
       "      <td>0.138645</td>\n",
       "      <td>0.377271</td>\n",
       "    </tr>\n",
       "  </tbody>\n",
       "</table>\n",
       "</div>"
      ],
      "text/plain": [
       "   const        x1        x2        x5\n",
       "0    1.0  0.041072  0.992681  0.079893\n",
       "1    1.0  0.381506  0.631321  0.215957\n",
       "2    1.0  0.603146  0.039878  0.232092\n",
       "3    1.0  0.070184  0.907150  0.489216\n",
       "4    1.0  0.297649  0.138645  0.377271"
      ]
     },
     "execution_count": 13,
     "metadata": {},
     "output_type": "execute_result"
    }
   ],
   "source": [
    "xr = x.drop([\"x3\", \"x4\"], axis = 1)\n",
    "xr.head()"
   ]
  },
  {
   "cell_type": "code",
   "execution_count": 14,
   "metadata": {},
   "outputs": [
    {
     "name": "stderr",
     "output_type": "stream",
     "text": [
      "C:\\Users\\satish\\anaconda3\\lib\\site-packages\\scipy\\stats\\stats.py:1603: UserWarning: kurtosistest only valid for n>=20 ... continuing anyway, n=10\n",
      "  warnings.warn(\"kurtosistest only valid for n>=20 ... continuing \"\n"
     ]
    },
    {
     "data": {
      "text/html": [
       "<table class=\"simpletable\">\n",
       "<caption>OLS Regression Results</caption>\n",
       "<tr>\n",
       "  <th>Dep. Variable:</th>            <td>y</td>        <th>  R-squared:         </th> <td>   0.574</td>\n",
       "</tr>\n",
       "<tr>\n",
       "  <th>Model:</th>                   <td>OLS</td>       <th>  Adj. R-squared:    </th> <td>   0.362</td>\n",
       "</tr>\n",
       "<tr>\n",
       "  <th>Method:</th>             <td>Least Squares</td>  <th>  F-statistic:       </th> <td>   2.700</td>\n",
       "</tr>\n",
       "<tr>\n",
       "  <th>Date:</th>             <td>Tue, 27 Jul 2021</td> <th>  Prob (F-statistic):</th>  <td> 0.139</td> \n",
       "</tr>\n",
       "<tr>\n",
       "  <th>Time:</th>                 <td>12:03:27</td>     <th>  Log-Likelihood:    </th> <td> -19.539</td>\n",
       "</tr>\n",
       "<tr>\n",
       "  <th>No. Observations:</th>      <td>    10</td>      <th>  AIC:               </th> <td>   47.08</td>\n",
       "</tr>\n",
       "<tr>\n",
       "  <th>Df Residuals:</th>          <td>     6</td>      <th>  BIC:               </th> <td>   48.29</td>\n",
       "</tr>\n",
       "<tr>\n",
       "  <th>Df Model:</th>              <td>     3</td>      <th>                     </th>     <td> </td>   \n",
       "</tr>\n",
       "<tr>\n",
       "  <th>Covariance Type:</th>      <td>nonrobust</td>    <th>                     </th>     <td> </td>   \n",
       "</tr>\n",
       "</table>\n",
       "<table class=\"simpletable\">\n",
       "<tr>\n",
       "    <td></td>       <th>coef</th>     <th>std err</th>      <th>t</th>      <th>P>|t|</th>  <th>[0.025</th>    <th>0.975]</th>  \n",
       "</tr>\n",
       "<tr>\n",
       "  <th>const</th> <td>    2.8313</td> <td>    3.491</td> <td>    0.811</td> <td> 0.448</td> <td>   -5.711</td> <td>   11.373</td>\n",
       "</tr>\n",
       "<tr>\n",
       "  <th>x1</th>    <td>    4.7334</td> <td>    4.423</td> <td>    1.070</td> <td> 0.326</td> <td>   -6.089</td> <td>   15.556</td>\n",
       "</tr>\n",
       "<tr>\n",
       "  <th>x2</th>    <td>    4.5381</td> <td>    2.726</td> <td>    1.665</td> <td> 0.147</td> <td>   -2.133</td> <td>   11.209</td>\n",
       "</tr>\n",
       "<tr>\n",
       "  <th>x5</th>    <td>   -6.6061</td> <td>    3.612</td> <td>   -1.829</td> <td> 0.117</td> <td>  -15.446</td> <td>    2.233</td>\n",
       "</tr>\n",
       "</table>\n",
       "<table class=\"simpletable\">\n",
       "<tr>\n",
       "  <th>Omnibus:</th>       <td> 1.174</td> <th>  Durbin-Watson:     </th> <td>   2.356</td>\n",
       "</tr>\n",
       "<tr>\n",
       "  <th>Prob(Omnibus):</th> <td> 0.556</td> <th>  Jarque-Bera (JB):  </th> <td>   0.679</td>\n",
       "</tr>\n",
       "<tr>\n",
       "  <th>Skew:</th>          <td> 0.105</td> <th>  Prob(JB):          </th> <td>   0.712</td>\n",
       "</tr>\n",
       "<tr>\n",
       "  <th>Kurtosis:</th>      <td> 1.741</td> <th>  Cond. No.          </th> <td>    11.0</td>\n",
       "</tr>\n",
       "</table><br/><br/>Notes:<br/>[1] Standard Errors assume that the covariance matrix of the errors is correctly specified."
      ],
      "text/plain": [
       "<class 'statsmodels.iolib.summary.Summary'>\n",
       "\"\"\"\n",
       "                            OLS Regression Results                            \n",
       "==============================================================================\n",
       "Dep. Variable:                      y   R-squared:                       0.574\n",
       "Model:                            OLS   Adj. R-squared:                  0.362\n",
       "Method:                 Least Squares   F-statistic:                     2.700\n",
       "Date:                Tue, 27 Jul 2021   Prob (F-statistic):              0.139\n",
       "Time:                        12:03:27   Log-Likelihood:                -19.539\n",
       "No. Observations:                  10   AIC:                             47.08\n",
       "Df Residuals:                       6   BIC:                             48.29\n",
       "Df Model:                           3                                         \n",
       "Covariance Type:            nonrobust                                         \n",
       "==============================================================================\n",
       "                 coef    std err          t      P>|t|      [0.025      0.975]\n",
       "------------------------------------------------------------------------------\n",
       "const          2.8313      3.491      0.811      0.448      -5.711      11.373\n",
       "x1             4.7334      4.423      1.070      0.326      -6.089      15.556\n",
       "x2             4.5381      2.726      1.665      0.147      -2.133      11.209\n",
       "x5            -6.6061      3.612     -1.829      0.117     -15.446       2.233\n",
       "==============================================================================\n",
       "Omnibus:                        1.174   Durbin-Watson:                   2.356\n",
       "Prob(Omnibus):                  0.556   Jarque-Bera (JB):                0.679\n",
       "Skew:                           0.105   Prob(JB):                        0.712\n",
       "Kurtosis:                       1.741   Cond. No.                         11.0\n",
       "==============================================================================\n",
       "\n",
       "Notes:\n",
       "[1] Standard Errors assume that the covariance matrix of the errors is correctly specified.\n",
       "\"\"\""
      ]
     },
     "execution_count": 14,
     "metadata": {},
     "output_type": "execute_result"
    }
   ],
   "source": [
    "resultsr = sm.OLS(y, xr).fit()\n",
    "resultsr.summary()"
   ]
  },
  {
   "cell_type": "code",
   "execution_count": 16,
   "metadata": {},
   "outputs": [
    {
     "data": {
      "text/plain": [
       "29.151955288201854"
      ]
     },
     "execution_count": 16,
     "metadata": {},
     "output_type": "execute_result"
    }
   ],
   "source": [
    "SSER = sum((y - resultsr.predict(xr))**2)\n",
    "SSER"
   ]
  },
  {
   "cell_type": "code",
   "execution_count": 15,
   "metadata": {},
   "outputs": [],
   "source": [
    "k = 5\n",
    "r = 3\n",
    "n = df.shape[0]"
   ]
  },
  {
   "cell_type": "code",
   "execution_count": 17,
   "metadata": {},
   "outputs": [
    {
     "data": {
      "text/plain": [
       "4.158001979926563"
      ]
     },
     "execution_count": 17,
     "metadata": {},
     "output_type": "execute_result"
    }
   ],
   "source": [
    "nume = (SSER - SSEF)/(k-r)\n",
    "deno = SSEF/ (n-k-1)\n",
    "fstat = nume / deno\n",
    "# This is always positive\n",
    "fstat"
   ]
  },
  {
   "cell_type": "code",
   "execution_count": 19,
   "metadata": {},
   "outputs": [
    {
     "name": "stdout",
     "output_type": "stream",
     "text": [
      "<F test: F=array([[4.15800198]]), p=0.10548248266665704, df_denom=4, df_num=2>\n"
     ]
    }
   ],
   "source": [
    "hypothesis = '(x3 = 0), (x4 = 0)'\n",
    "pa_f_test = results.f_test(hypothesis)\n",
    "print(pa_f_test)"
   ]
  },
  {
   "cell_type": "markdown",
   "metadata": {},
   "source": [
    "## Thus the dropped features are not significant"
   ]
  },
  {
   "cell_type": "code",
   "execution_count": null,
   "metadata": {},
   "outputs": [],
   "source": []
  }
 ],
 "metadata": {
  "kernelspec": {
   "display_name": "Python 3",
   "language": "python",
   "name": "python3"
  },
  "language_info": {
   "codemirror_mode": {
    "name": "ipython",
    "version": 3
   },
   "file_extension": ".py",
   "mimetype": "text/x-python",
   "name": "python",
   "nbconvert_exporter": "python",
   "pygments_lexer": "ipython3",
   "version": "3.8.5"
  }
 },
 "nbformat": 4,
 "nbformat_minor": 4
}
