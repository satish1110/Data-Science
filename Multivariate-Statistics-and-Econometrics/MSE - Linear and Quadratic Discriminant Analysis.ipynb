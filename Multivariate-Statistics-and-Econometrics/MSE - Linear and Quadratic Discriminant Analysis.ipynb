{
 "cells": [
  {
   "cell_type": "markdown",
   "metadata": {},
   "source": [
    "## Classification using LDA"
   ]
  },
  {
   "cell_type": "markdown",
   "metadata": {},
   "source": [
    "Independent variables are normally distributed, which is a fundamental assumption of the LDA method. LDA is also closely related to principal component analysis (PCA) and factor analysis in that they both look for linear combinations of variables which best explain the data.LDA explicitly attempts to model the difference between the classes of data. PCA, in contrast, does not take into account any difference in class, and factor analysis builds the feature combinations based on differences rather than similarities."
   ]
  },
  {
   "cell_type": "markdown",
   "metadata": {},
   "source": [
    "https://scikit-learn.org/stable/modules/generated/sklearn.discriminant_analysis.LinearDiscriminantAnalysis.html\n"
   ]
  },
  {
   "cell_type": "code",
   "execution_count": 54,
   "metadata": {},
   "outputs": [],
   "source": [
    "\n",
    "import os\n",
    "import numpy as np\n",
    "import pandas as pd\n",
    "\n",
    "from sklearn.discriminant_analysis import LinearDiscriminantAnalysis, QuadraticDiscriminantAnalysis\n",
    "from sklearn.model_selection import train_test_split\n"
   ]
  },
  {
   "cell_type": "code",
   "execution_count": 2,
   "metadata": {},
   "outputs": [],
   "source": [
    "os.chdir('C:\\\\Users\\\\satish\\\\Documents\\\\New folder\\\\PGPDS-PBS\\\\Semester 2\\\\Advanced Statistics\\\\Session 18-20 Linear Discriminant Analysis')\n"
   ]
  },
  {
   "cell_type": "markdown",
   "metadata": {},
   "source": [
    "## Binary class "
   ]
  },
  {
   "cell_type": "code",
   "execution_count": 10,
   "metadata": {},
   "outputs": [
    {
     "data": {
      "text/html": [
       "<div>\n",
       "<style scoped>\n",
       "    .dataframe tbody tr th:only-of-type {\n",
       "        vertical-align: middle;\n",
       "    }\n",
       "\n",
       "    .dataframe tbody tr th {\n",
       "        vertical-align: top;\n",
       "    }\n",
       "\n",
       "    .dataframe thead th {\n",
       "        text-align: right;\n",
       "    }\n",
       "</style>\n",
       "<table border=\"1\" class=\"dataframe\">\n",
       "  <thead>\n",
       "    <tr style=\"text-align: right;\">\n",
       "      <th></th>\n",
       "      <th>X1</th>\n",
       "      <th>X2</th>\n",
       "      <th>class</th>\n",
       "    </tr>\n",
       "  </thead>\n",
       "  <tbody>\n",
       "    <tr>\n",
       "      <th>0</th>\n",
       "      <td>2.947814</td>\n",
       "      <td>6.626878</td>\n",
       "      <td>1</td>\n",
       "    </tr>\n",
       "    <tr>\n",
       "      <th>1</th>\n",
       "      <td>2.530388</td>\n",
       "      <td>7.785050</td>\n",
       "      <td>1</td>\n",
       "    </tr>\n",
       "    <tr>\n",
       "      <th>2</th>\n",
       "      <td>3.566991</td>\n",
       "      <td>5.651046</td>\n",
       "      <td>1</td>\n",
       "    </tr>\n",
       "    <tr>\n",
       "      <th>3</th>\n",
       "      <td>3.156983</td>\n",
       "      <td>5.467077</td>\n",
       "      <td>1</td>\n",
       "    </tr>\n",
       "    <tr>\n",
       "      <th>4</th>\n",
       "      <td>2.582346</td>\n",
       "      <td>4.457777</td>\n",
       "      <td>2</td>\n",
       "    </tr>\n",
       "    <tr>\n",
       "      <th>5</th>\n",
       "      <td>2.155826</td>\n",
       "      <td>6.222343</td>\n",
       "      <td>2</td>\n",
       "    </tr>\n",
       "    <tr>\n",
       "      <th>6</th>\n",
       "      <td>3.273418</td>\n",
       "      <td>3.520687</td>\n",
       "      <td>2</td>\n",
       "    </tr>\n",
       "  </tbody>\n",
       "</table>\n",
       "</div>"
      ],
      "text/plain": [
       "         X1        X2  class\n",
       "0  2.947814  6.626878      1\n",
       "1  2.530388  7.785050      1\n",
       "2  3.566991  5.651046      1\n",
       "3  3.156983  5.467077      1\n",
       "4  2.582346  4.457777      2\n",
       "5  2.155826  6.222343      2\n",
       "6  3.273418  3.520687      2"
      ]
     },
     "execution_count": 10,
     "metadata": {},
     "output_type": "execute_result"
    }
   ],
   "source": [
    "# load data\n",
    "df = pd.read_excel(\"lda_numerics_working.xlsx\", sheet_name = \"Sheet1\")\n",
    "df\n"
   ]
  },
  {
   "cell_type": "code",
   "execution_count": 30,
   "metadata": {},
   "outputs": [
    {
     "name": "stdout",
     "output_type": "stream",
     "text": [
      "Parameters: {'covariance_estimator': None, 'n_components': None, 'priors': None, 'shrinkage': None, 'solver': 'svd', 'store_covariance': False, 'tol': 0.0001}\n",
      "Predictions: [1 1 1 1 2 2 2]\n",
      "Class probabilities: [[9.99999821e-01 1.79241441e-07]\n",
      " [9.99999973e-01 2.70033679e-08]\n",
      " [1.00000000e+00 4.23764311e-10]\n",
      " [9.99534569e-01 4.65430804e-04]\n",
      " [9.36087430e-10 9.99999999e-01]\n",
      " [6.65016506e-06 9.99993350e-01]\n",
      " [4.90351091e-06 9.99995096e-01]]\n"
     ]
    }
   ],
   "source": [
    "X = df[['X1','X2']]\n",
    "y = df['class']\n",
    "\n",
    "# fit the model \n",
    "clf = LinearDiscriminantAnalysis()\n",
    "clf.fit(X, y)\n",
    "\n",
    "# make predictions\n",
    "pred = clf.predict(X)\n",
    "probab = clf.predict_proba(X)\n",
    "\n",
    "print(\"Parameters:\", clf.get_params())\n",
    "print(\"Predictions:\", pred)\n",
    "print(\"Class probabilities:\", probab)"
   ]
  },
  {
   "cell_type": "code",
   "execution_count": 7,
   "metadata": {},
   "outputs": [
    {
     "data": {
      "text/plain": [
       "1.0"
      ]
     },
     "execution_count": 7,
     "metadata": {},
     "output_type": "execute_result"
    }
   ],
   "source": [
    "from sklearn.metrics import accuracy_score\n",
    "accuracy_score(y, pred)\n"
   ]
  },
  {
   "cell_type": "markdown",
   "metadata": {},
   "source": [
    "## Multi class"
   ]
  },
  {
   "cell_type": "code",
   "execution_count": 32,
   "metadata": {},
   "outputs": [
    {
     "data": {
      "text/html": [
       "<div>\n",
       "<style scoped>\n",
       "    .dataframe tbody tr th:only-of-type {\n",
       "        vertical-align: middle;\n",
       "    }\n",
       "\n",
       "    .dataframe tbody tr th {\n",
       "        vertical-align: top;\n",
       "    }\n",
       "\n",
       "    .dataframe thead th {\n",
       "        text-align: right;\n",
       "    }\n",
       "</style>\n",
       "<table border=\"1\" class=\"dataframe\">\n",
       "  <thead>\n",
       "    <tr style=\"text-align: right;\">\n",
       "      <th></th>\n",
       "      <th>sepal_length</th>\n",
       "      <th>sepal_width</th>\n",
       "      <th>petal_length</th>\n",
       "      <th>petal_width</th>\n",
       "      <th>species</th>\n",
       "    </tr>\n",
       "  </thead>\n",
       "  <tbody>\n",
       "    <tr>\n",
       "      <th>0</th>\n",
       "      <td>5.1</td>\n",
       "      <td>3.5</td>\n",
       "      <td>1.4</td>\n",
       "      <td>0.2</td>\n",
       "      <td>Iris-setosa</td>\n",
       "    </tr>\n",
       "    <tr>\n",
       "      <th>1</th>\n",
       "      <td>4.9</td>\n",
       "      <td>3.0</td>\n",
       "      <td>1.4</td>\n",
       "      <td>0.2</td>\n",
       "      <td>Iris-setosa</td>\n",
       "    </tr>\n",
       "    <tr>\n",
       "      <th>2</th>\n",
       "      <td>4.7</td>\n",
       "      <td>3.2</td>\n",
       "      <td>1.3</td>\n",
       "      <td>0.2</td>\n",
       "      <td>Iris-setosa</td>\n",
       "    </tr>\n",
       "    <tr>\n",
       "      <th>3</th>\n",
       "      <td>4.6</td>\n",
       "      <td>3.1</td>\n",
       "      <td>1.5</td>\n",
       "      <td>0.2</td>\n",
       "      <td>Iris-setosa</td>\n",
       "    </tr>\n",
       "    <tr>\n",
       "      <th>4</th>\n",
       "      <td>5.0</td>\n",
       "      <td>3.6</td>\n",
       "      <td>1.4</td>\n",
       "      <td>0.2</td>\n",
       "      <td>Iris-setosa</td>\n",
       "    </tr>\n",
       "  </tbody>\n",
       "</table>\n",
       "</div>"
      ],
      "text/plain": [
       "   sepal_length  sepal_width  petal_length  petal_width      species\n",
       "0           5.1          3.5           1.4          0.2  Iris-setosa\n",
       "1           4.9          3.0           1.4          0.2  Iris-setosa\n",
       "2           4.7          3.2           1.3          0.2  Iris-setosa\n",
       "3           4.6          3.1           1.5          0.2  Iris-setosa\n",
       "4           5.0          3.6           1.4          0.2  Iris-setosa"
      ]
     },
     "execution_count": 32,
     "metadata": {},
     "output_type": "execute_result"
    }
   ],
   "source": [
    "os.chdir('C:\\\\Users\\\\satish\\\\Downloads\\\\')\n",
    "\n",
    "\n",
    "# load data\n",
    "iris = pd.read_csv(\"iris.csv\")\n",
    "iris.head()"
   ]
  },
  {
   "cell_type": "code",
   "execution_count": 33,
   "metadata": {},
   "outputs": [],
   "source": [
    "X= iris[['sepal_length', 'sepal_width', 'petal_length', 'petal_width']]\n",
    "y= iris[['species']]"
   ]
  },
  {
   "cell_type": "code",
   "execution_count": 34,
   "metadata": {},
   "outputs": [
    {
     "name": "stdout",
     "output_type": "stream",
     "text": [
      "(105, 4)\n",
      "(45, 4)\n",
      "(105, 1)\n",
      "(45, 1)\n"
     ]
    }
   ],
   "source": [
    "# split into train and test\n",
    "(X_train,X_test,y_train,y_test) = train_test_split(X, y, test_size = 0.3, stratify = y, random_state = 100)\n",
    "\n",
    "print(X_train.shape)\n",
    "print(X_test.shape)\n",
    "print(y_train.shape)\n",
    "print(y_test.shape)"
   ]
  },
  {
   "cell_type": "code",
   "execution_count": 44,
   "metadata": {},
   "outputs": [
    {
     "name": "stderr",
     "output_type": "stream",
     "text": [
      "C:\\Users\\satish\\anaconda3\\lib\\site-packages\\sklearn\\utils\\validation.py:63: DataConversionWarning: A column-vector y was passed when a 1d array was expected. Please change the shape of y to (n_samples, ), for example using ravel().\n",
      "  return f(*args, **kwargs)\n"
     ]
    },
    {
     "name": "stdout",
     "output_type": "stream",
     "text": [
      "Parameters: {'covariance_estimator': None, 'n_components': None, 'priors': None, 'shrinkage': None, 'solver': 'eigen', 'store_covariance': False, 'tol': 0.0001}\n",
      "Predictions: ['Iris-versicolor' 'Iris-versicolor' 'Iris-setosa' 'Iris-setosa'\n",
      " 'Iris-setosa' 'Iris-virginica' 'Iris-virginica' 'Iris-versicolor'\n",
      " 'Iris-virginica' 'Iris-virginica' 'Iris-setosa' 'Iris-setosa'\n",
      " 'Iris-virginica' 'Iris-virginica' 'Iris-setosa' 'Iris-versicolor'\n",
      " 'Iris-versicolor' 'Iris-virginica' 'Iris-virginica' 'Iris-versicolor'\n",
      " 'Iris-versicolor' 'Iris-setosa' 'Iris-virginica' 'Iris-virginica'\n",
      " 'Iris-virginica' 'Iris-versicolor' 'Iris-setosa' 'Iris-versicolor'\n",
      " 'Iris-setosa' 'Iris-versicolor' 'Iris-versicolor' 'Iris-versicolor'\n",
      " 'Iris-setosa' 'Iris-setosa' 'Iris-setosa' 'Iris-virginica' 'Iris-setosa'\n",
      " 'Iris-virginica' 'Iris-versicolor' 'Iris-versicolor' 'Iris-virginica'\n",
      " 'Iris-versicolor' 'Iris-versicolor' 'Iris-virginica' 'Iris-virginica'\n",
      " 'Iris-versicolor' 'Iris-setosa' 'Iris-virginica' 'Iris-versicolor'\n",
      " 'Iris-setosa' 'Iris-versicolor' 'Iris-virginica' 'Iris-virginica'\n",
      " 'Iris-versicolor' 'Iris-versicolor' 'Iris-virginica' 'Iris-setosa'\n",
      " 'Iris-versicolor' 'Iris-virginica' 'Iris-setosa' 'Iris-versicolor'\n",
      " 'Iris-versicolor' 'Iris-versicolor' 'Iris-virginica' 'Iris-setosa'\n",
      " 'Iris-setosa' 'Iris-virginica' 'Iris-setosa' 'Iris-setosa' 'Iris-setosa'\n",
      " 'Iris-virginica' 'Iris-versicolor' 'Iris-virginica' 'Iris-virginica'\n",
      " 'Iris-setosa' 'Iris-versicolor' 'Iris-virginica' 'Iris-setosa'\n",
      " 'Iris-virginica' 'Iris-versicolor' 'Iris-setosa' 'Iris-setosa'\n",
      " 'Iris-setosa' 'Iris-versicolor' 'Iris-setosa' 'Iris-versicolor'\n",
      " 'Iris-setosa' 'Iris-setosa' 'Iris-setosa' 'Iris-setosa' 'Iris-virginica'\n",
      " 'Iris-virginica' 'Iris-virginica' 'Iris-virginica' 'Iris-virginica'\n",
      " 'Iris-virginica' 'Iris-setosa' 'Iris-virginica' 'Iris-versicolor'\n",
      " 'Iris-setosa' 'Iris-setosa' 'Iris-versicolor' 'Iris-virginica'\n",
      " 'Iris-versicolor' 'Iris-virginica']\n",
      "Class order: ['Iris-setosa' 'Iris-versicolor' 'Iris-virginica']\n",
      "Class probabilities: [[2.25174935e-19 9.99998698e-01 1.30201337e-06]\n",
      " [8.95589990e-27 9.99837225e-01 1.62775094e-04]\n",
      " [1.00000000e+00 2.35549220e-26 1.76384718e-49]\n",
      " [1.00000000e+00 1.19754787e-24 5.18161370e-47]\n",
      " [1.00000000e+00 1.26854283e-26 1.73938052e-49]\n",
      " [2.29784659e-51 1.81143889e-07 9.99999819e-01]\n",
      " [1.71374236e-53 1.28472990e-07 9.99999872e-01]\n",
      " [1.96822121e-33 8.93380608e-01 1.06619392e-01]\n",
      " [5.14066765e-42 3.54628971e-03 9.96453710e-01]\n",
      " [6.32544003e-37 1.13156777e-02 9.88684322e-01]\n",
      " [1.00000000e+00 4.02897812e-23 1.72839845e-45]\n",
      " [1.00000000e+00 6.19734284e-29 8.15051665e-53]\n",
      " [1.39243808e-34 1.45437960e-01 8.54562040e-01]\n",
      " [1.16856342e-34 2.01215353e-01 7.98784647e-01]\n",
      " [1.00000000e+00 1.33693951e-21 6.44708890e-43]\n",
      " [5.08075165e-31 8.20304180e-01 1.79695820e-01]\n",
      " [1.14697752e-26 9.98746460e-01 1.25354023e-03]\n",
      " [1.83383752e-40 2.14479674e-03 9.97855203e-01]\n",
      " [2.68373392e-40 5.73690772e-03 9.94263092e-01]\n",
      " [1.14806229e-25 9.99921515e-01 7.84847830e-05]\n",
      " [3.41376968e-19 9.99999497e-01 5.02837197e-07]\n",
      " [1.00000000e+00 9.84788531e-23 2.55382234e-44]\n",
      " [3.17580966e-49 2.09912583e-06 9.99997901e-01]\n",
      " [1.89536486e-53 4.50106653e-08 9.99999955e-01]\n",
      " [2.50846140e-45 2.63446285e-05 9.99973655e-01]\n",
      " [6.70774962e-27 9.97379893e-01 2.62010728e-03]\n",
      " [1.00000000e+00 1.02617315e-20 1.41915108e-42]\n",
      " [4.09696491e-17 9.99999986e-01 1.37468705e-08]\n",
      " [1.00000000e+00 3.17790612e-18 1.96094004e-37]\n",
      " [4.65513611e-21 9.99987836e-01 1.21638912e-05]\n",
      " [2.30905699e-16 9.99999776e-01 2.23841134e-07]\n",
      " [1.59340041e-26 9.99587531e-01 4.12469208e-04]\n",
      " [1.00000000e+00 1.71457959e-25 1.33995318e-48]\n",
      " [1.00000000e+00 2.37922725e-21 4.52663812e-43]\n",
      " [1.00000000e+00 2.04806170e-19 1.43625859e-40]\n",
      " [1.86050454e-50 8.58189816e-07 9.99999142e-01]\n",
      " [1.00000000e+00 6.60238219e-25 1.11164156e-46]\n",
      " [4.63174416e-47 3.64087505e-06 9.99996359e-01]\n",
      " [3.45860719e-21 9.99999867e-01 1.32890852e-07]\n",
      " [7.71956379e-24 9.98180441e-01 1.81955905e-03]\n",
      " [7.44102111e-41 7.40765701e-04 9.99259234e-01]\n",
      " [8.84485468e-28 9.91578087e-01 8.42191290e-03]\n",
      " [3.17658191e-23 9.99788827e-01 2.11173271e-04]\n",
      " [5.71499316e-51 3.93620210e-06 9.99996064e-01]\n",
      " [1.01607369e-52 2.66340820e-07 9.99999734e-01]\n",
      " [1.49167902e-22 9.99848367e-01 1.51632724e-04]\n",
      " [1.00000000e+00 1.53998727e-23 6.14045742e-46]\n",
      " [6.17686688e-49 1.21585044e-05 9.99987841e-01]\n",
      " [3.66847257e-27 9.99865998e-01 1.34001554e-04]\n",
      " [1.00000000e+00 2.80600666e-25 3.31584518e-48]\n",
      " [2.05570178e-22 9.99977723e-01 2.22774766e-05]\n",
      " [5.79653018e-68 1.86427499e-10 1.00000000e+00]\n",
      " [7.71646606e-37 1.94283056e-01 8.05716944e-01]\n",
      " [2.32290204e-24 9.99824536e-01 1.75463930e-04]\n",
      " [2.11292365e-25 9.99528650e-01 4.71350021e-04]\n",
      " [2.44586120e-45 4.60639876e-05 9.99953936e-01]\n",
      " [1.00000000e+00 3.61316381e-26 1.02128328e-48]\n",
      " [1.46380118e-25 9.95576075e-01 4.42392472e-03]\n",
      " [2.43662095e-32 2.90077932e-01 7.09922068e-01]\n",
      " [1.00000000e+00 9.33053715e-32 1.57193363e-56]\n",
      " [2.16712705e-18 9.99999965e-01 3.45455960e-08]\n",
      " [1.27256311e-13 9.99999999e-01 1.27155977e-09]\n",
      " [1.10535107e-16 9.99999987e-01 1.34563569e-08]\n",
      " [1.86599606e-48 1.14500545e-04 9.99885499e-01]\n",
      " [1.00000000e+00 1.38317335e-21 2.81392051e-43]\n",
      " [1.00000000e+00 5.46120990e-19 2.68388513e-40]\n",
      " [6.86023256e-42 5.37089902e-04 9.99462910e-01]\n",
      " [1.00000000e+00 1.28685839e-22 2.81951347e-45]\n",
      " [1.00000000e+00 5.27866397e-19 6.14915950e-40]\n",
      " [1.00000000e+00 6.35506007e-26 4.86155597e-49]\n",
      " [9.73817955e-41 5.61635017e-03 9.94383650e-01]\n",
      " [3.02907873e-26 9.99644578e-01 3.55422337e-04]\n",
      " [4.29789855e-49 1.26214866e-04 9.99873785e-01]\n",
      " [1.07216917e-47 5.76729424e-05 9.99942327e-01]\n",
      " [1.00000000e+00 2.71221332e-25 7.59706913e-48]\n",
      " [1.92654993e-20 9.99996846e-01 3.15442941e-06]\n",
      " [2.10266624e-44 4.88583363e-04 9.99511417e-01]\n",
      " [1.00000000e+00 4.77041161e-25 3.61638906e-48]\n",
      " [1.69055898e-46 8.02543045e-06 9.99991975e-01]\n",
      " [3.84561982e-21 9.99998240e-01 1.75989834e-06]\n",
      " [1.00000000e+00 8.91206761e-22 3.29490966e-44]\n",
      " [1.00000000e+00 9.73693118e-34 8.02608491e-59]\n",
      " [1.00000000e+00 1.48654333e-21 5.41297814e-44]\n",
      " [2.51101179e-26 9.99884232e-01 1.15767598e-04]\n",
      " [1.00000000e+00 5.01451588e-24 1.21968499e-45]\n",
      " [1.45359750e-25 9.99118643e-01 8.81357028e-04]\n",
      " [1.00000000e+00 3.84835223e-21 7.59446785e-43]\n",
      " [1.00000000e+00 8.91206761e-22 3.29490966e-44]\n",
      " [1.00000000e+00 1.29054218e-19 5.68328202e-41]\n",
      " [1.00000000e+00 9.49510744e-29 6.41903029e-53]\n",
      " [4.46144333e-52 2.53024083e-07 9.99999747e-01]\n",
      " [1.23394782e-43 1.00665953e-03 9.98993340e-01]\n",
      " [4.88363842e-48 1.04870461e-04 9.99895130e-01]\n",
      " [5.36200704e-53 6.95924737e-07 9.99999304e-01]\n",
      " [5.44309562e-56 2.61216997e-07 9.99999739e-01]\n",
      " [3.51927564e-37 1.63999172e-01 8.36000828e-01]\n",
      " [1.00000000e+00 3.12826778e-29 1.88061298e-52]\n",
      " [1.26401679e-38 1.42926708e-02 9.85707329e-01]\n",
      " [2.83533679e-24 9.99630449e-01 3.69551059e-04]\n",
      " [1.00000000e+00 9.40992332e-24 2.48139615e-46]\n",
      " [1.00000000e+00 6.59117373e-20 1.93417848e-40]\n",
      " [1.59151555e-20 9.99999544e-01 4.56386217e-07]\n",
      " [1.90583413e-44 7.27091585e-04 9.99272908e-01]\n",
      " [9.35908995e-20 9.99994631e-01 5.36864474e-06]\n",
      " [2.77495321e-39 2.70389644e-02 9.72961036e-01]]\n"
     ]
    }
   ],
   "source": [
    "# fit model \n",
    "clf = LinearDiscriminantAnalysis(solver=\"eigen\")\n",
    "clf.fit(X_train, y_train)\n",
    "\n",
    "# make predictions\n",
    "pred = clf.predict(X_train)\n",
    "probab = clf.predict_proba(X_train)\n",
    "\n",
    "print(\"Parameters:\", clf.get_params())\n",
    "print(\"Predictions:\", pred)\n",
    "print(\"Class order:\",clf.classes_)\n",
    "print(\"Class probabilities:\", probab)"
   ]
  },
  {
   "cell_type": "code",
   "execution_count": 45,
   "metadata": {},
   "outputs": [
    {
     "name": "stdout",
     "output_type": "stream",
     "text": [
      "Training accuracy:\n"
     ]
    },
    {
     "data": {
      "text/plain": [
       "0.9809523809523809"
      ]
     },
     "execution_count": 45,
     "metadata": {},
     "output_type": "execute_result"
    }
   ],
   "source": [
    "from sklearn.metrics import accuracy_score\n",
    "print(\"Training accuracy:\")\n",
    "accuracy_score(y_train, pred)\n"
   ]
  },
  {
   "cell_type": "code",
   "execution_count": 53,
   "metadata": {},
   "outputs": [
    {
     "name": "stdout",
     "output_type": "stream",
     "text": [
      "Predictions: ['Iris-setosa' 'Iris-versicolor' 'Iris-virginica' 'Iris-versicolor'\n",
      " 'Iris-virginica' 'Iris-setosa' 'Iris-versicolor' 'Iris-setosa'\n",
      " 'Iris-setosa' 'Iris-setosa' 'Iris-versicolor' 'Iris-versicolor'\n",
      " 'Iris-versicolor' 'Iris-setosa' 'Iris-versicolor' 'Iris-virginica'\n",
      " 'Iris-virginica' 'Iris-virginica' 'Iris-versicolor' 'Iris-versicolor'\n",
      " 'Iris-virginica' 'Iris-versicolor' 'Iris-versicolor' 'Iris-virginica'\n",
      " 'Iris-versicolor' 'Iris-setosa' 'Iris-virginica' 'Iris-versicolor'\n",
      " 'Iris-setosa' 'Iris-virginica' 'Iris-virginica' 'Iris-virginica'\n",
      " 'Iris-virginica' 'Iris-setosa' 'Iris-versicolor' 'Iris-virginica'\n",
      " 'Iris-setosa' 'Iris-setosa' 'Iris-setosa' 'Iris-versicolor' 'Iris-setosa'\n",
      " 'Iris-setosa' 'Iris-setosa' 'Iris-versicolor' 'Iris-virginica']\n",
      "Class order: ['Iris-setosa' 'Iris-versicolor' 'Iris-virginica']\n",
      "Class probabilities: [[1.00000000e+00 8.91206761e-22 3.29490966e-44]\n",
      " [1.36211440e-24 9.99949982e-01 5.00182420e-05]\n",
      " [1.02850458e-43 3.13647312e-04 9.99686353e-01]\n",
      " [1.38825745e-24 9.99923211e-01 7.67885930e-05]\n",
      " [3.55971826e-53 4.53296604e-07 9.99999547e-01]\n",
      " [1.00000000e+00 1.14561720e-17 1.76574205e-38]\n",
      " [8.19854642e-23 9.99982685e-01 1.73153650e-05]\n",
      " [1.00000000e+00 1.16962187e-22 6.73726499e-45]\n",
      " [1.00000000e+00 1.03102965e-32 1.21837611e-56]\n",
      " [1.00000000e+00 5.64140116e-24 1.51043953e-46]\n",
      " [2.37741519e-27 9.98352244e-01 1.64775566e-03]\n",
      " [7.05926287e-22 9.99999744e-01 2.56193892e-07]\n",
      " [1.17489392e-28 9.81510998e-01 1.84890017e-02]\n",
      " [1.00000000e+00 6.94212013e-28 1.59799733e-51]\n",
      " [9.54139307e-21 9.99999551e-01 4.49496364e-07]\n",
      " [1.37220143e-41 3.28581327e-03 9.96714187e-01]\n",
      " [5.00898277e-53 4.14585139e-08 9.99999959e-01]\n",
      " [6.77474970e-57 4.13219507e-07 9.99999587e-01]\n",
      " [5.63706454e-13 9.99999998e-01 1.85274019e-09]\n",
      " [3.36429783e-22 9.99985267e-01 1.47331530e-05]\n",
      " [1.72890583e-36 9.68093581e-02 9.03190642e-01]\n",
      " [2.58534380e-21 9.99993004e-01 6.99606141e-06]\n",
      " [2.85305421e-20 9.99997411e-01 2.58889506e-06]\n",
      " [3.19260593e-52 7.83467808e-07 9.99999217e-01]\n",
      " [6.68502208e-21 9.99990521e-01 9.47933909e-06]\n",
      " [1.00000000e+00 1.78718522e-35 1.95075335e-61]\n",
      " [5.36389341e-39 2.38471672e-01 7.61528328e-01]\n",
      " [8.00739646e-21 9.99986993e-01 1.30067120e-05]\n",
      " [1.00000000e+00 5.52562015e-19 3.95864879e-40]\n",
      " [8.80001953e-34 2.08169204e-01 7.91830796e-01]\n",
      " [1.28781321e-41 2.04460732e-04 9.99795539e-01]\n",
      " [5.43377872e-45 1.03087871e-04 9.99896912e-01]\n",
      " [9.66447843e-41 8.70470916e-02 9.12952908e-01]\n",
      " [1.00000000e+00 4.03899351e-17 1.57549474e-36]\n",
      " [5.13689201e-33 8.47924149e-01 1.52075851e-01]\n",
      " [3.25502482e-60 7.51614344e-10 9.99999999e-01]\n",
      " [1.00000000e+00 1.43700279e-20 6.43430005e-41]\n",
      " [1.00000000e+00 1.04710985e-12 3.30425518e-32]\n",
      " [1.00000000e+00 1.89505698e-27 6.49641006e-51]\n",
      " [4.17062384e-32 9.78140989e-01 2.18590105e-02]\n",
      " [1.00000000e+00 2.42200015e-18 5.99875099e-39]\n",
      " [1.00000000e+00 2.31107274e-26 2.65688536e-49]\n",
      " [1.00000000e+00 3.41619095e-19 2.35952944e-40]\n",
      " [8.34415710e-19 9.99999917e-01 8.31819008e-08]\n",
      " [2.10266624e-44 4.88583363e-04 9.99511417e-01]]\n",
      "Means: [[5.         3.42       1.43714286 0.24285714]\n",
      " [5.99428571 2.79428571 4.30571429 1.35142857]\n",
      " [6.6        2.99714286 5.56857143 2.04857143]]\n",
      "Coefficients: [[ 28.59815764  29.40319174 -23.06301567 -17.56531027]\n",
      " [ 18.55588987   9.43590746   1.83021301  11.79663823]\n",
      " [ 14.57317212   5.23959401  10.1613608   29.12397147]]\n",
      "Prior probabilities: [0.33333333 0.33333333 0.33333333]\n"
     ]
    }
   ],
   "source": [
    "# test data performance\n",
    "pred = clf.predict(X_test)\n",
    "probab = clf.predict_proba(X_test)\n",
    "\n",
    "print(\"Predictions:\", pred)\n",
    "print(\"Class order:\",clf.classes_)\n",
    "print(\"Class probabilities:\", probab)\n",
    "# provides the group means; these are the average of each predictor within each class, and are used by LDA as estimates of  μk .\n",
    "print(\"Means:\", clf.means_)\n",
    "print(\"Coefficients:\", clf.coef_)\n",
    "print(\"Prior probabilities:\", clf.priors_)\n"
   ]
  },
  {
   "cell_type": "code",
   "execution_count": 47,
   "metadata": {},
   "outputs": [
    {
     "name": "stdout",
     "output_type": "stream",
     "text": [
      "Test accuracy:\n"
     ]
    },
    {
     "data": {
      "text/plain": [
       "0.9777777777777777"
      ]
     },
     "execution_count": 47,
     "metadata": {},
     "output_type": "execute_result"
    }
   ],
   "source": [
    "from sklearn.metrics import accuracy_score\n",
    "print(\"Test accuracy:\")\n",
    "accuracy_score(y_test, pred)\n"
   ]
  },
  {
   "cell_type": "code",
   "execution_count": 48,
   "metadata": {},
   "outputs": [
    {
     "data": {
      "text/plain": [
       "array([[15,  0,  0],\n",
       "       [ 0, 15,  0],\n",
       "       [ 0,  1, 14]], dtype=int64)"
      ]
     },
     "execution_count": 48,
     "metadata": {},
     "output_type": "execute_result"
    }
   ],
   "source": [
    "# form confusion matrix and find accuracy scores\n",
    "from sklearn.metrics import confusion_matrix\n",
    "\n",
    "c= confusion_matrix(y_test, pred)\n",
    "c"
   ]
  },
  {
   "cell_type": "code",
   "execution_count": 49,
   "metadata": {},
   "outputs": [
    {
     "name": "stdout",
     "output_type": "stream",
     "text": [
      "Test data performance:\n",
      "                 precision    recall  f1-score   support\n",
      "\n",
      "    Iris-setosa       1.00      1.00      1.00        15\n",
      "Iris-versicolor       0.94      1.00      0.97        15\n",
      " Iris-virginica       1.00      0.93      0.97        15\n",
      "\n",
      "       accuracy                           0.98        45\n",
      "      macro avg       0.98      0.98      0.98        45\n",
      "   weighted avg       0.98      0.98      0.98        45\n",
      "\n"
     ]
    }
   ],
   "source": [
    "# full report\n",
    "from sklearn import metrics\n",
    "print(\"Test data performance:\")\n",
    "print(metrics.classification_report(y_test, clf.predict(X_test)))\n"
   ]
  },
  {
   "cell_type": "markdown",
   "metadata": {},
   "source": [
    "## Quadratic discriminant analysis\n",
    "\n",
    "Quadratic discriminant analysis (QDA) provides an alternative. Like LDA, the QDA classifier results from assuming that the\n",
    "observations from each class are drawn from a Gaussian distribution, and plugging estimates for the parameters into Bayes’ theorem in order to perform prediction. However, unlike LDA, QDA assumes that each class has its own covariance matrix. the QDA classifier involves a quadratic, rather than a linear, function of the predictors."
   ]
  },
  {
   "cell_type": "code",
   "execution_count": 60,
   "metadata": {},
   "outputs": [
    {
     "name": "stdout",
     "output_type": "stream",
     "text": [
      "Parameters: {'priors': None, 'reg_param': 0.0, 'store_covariance': False, 'tol': 0.0001}\n",
      "Predictions: ['Iris-versicolor' 'Iris-versicolor' 'Iris-setosa' 'Iris-setosa'\n",
      " 'Iris-setosa' 'Iris-virginica' 'Iris-virginica' 'Iris-versicolor'\n",
      " 'Iris-virginica' 'Iris-virginica' 'Iris-setosa' 'Iris-setosa'\n",
      " 'Iris-virginica' 'Iris-virginica' 'Iris-setosa' 'Iris-versicolor'\n",
      " 'Iris-versicolor' 'Iris-virginica' 'Iris-virginica' 'Iris-versicolor'\n",
      " 'Iris-versicolor' 'Iris-setosa' 'Iris-virginica' 'Iris-virginica'\n",
      " 'Iris-virginica' 'Iris-versicolor' 'Iris-setosa' 'Iris-versicolor'\n",
      " 'Iris-setosa' 'Iris-versicolor' 'Iris-versicolor' 'Iris-versicolor'\n",
      " 'Iris-setosa' 'Iris-setosa' 'Iris-setosa' 'Iris-virginica' 'Iris-setosa'\n",
      " 'Iris-virginica' 'Iris-versicolor' 'Iris-versicolor' 'Iris-virginica'\n",
      " 'Iris-versicolor' 'Iris-versicolor' 'Iris-virginica' 'Iris-virginica'\n",
      " 'Iris-versicolor' 'Iris-setosa' 'Iris-virginica' 'Iris-versicolor'\n",
      " 'Iris-setosa' 'Iris-versicolor' 'Iris-virginica' 'Iris-virginica'\n",
      " 'Iris-versicolor' 'Iris-versicolor' 'Iris-virginica' 'Iris-setosa'\n",
      " 'Iris-versicolor' 'Iris-virginica' 'Iris-setosa' 'Iris-versicolor'\n",
      " 'Iris-versicolor' 'Iris-versicolor' 'Iris-virginica' 'Iris-setosa'\n",
      " 'Iris-setosa' 'Iris-virginica' 'Iris-setosa' 'Iris-setosa' 'Iris-setosa'\n",
      " 'Iris-virginica' 'Iris-versicolor' 'Iris-virginica' 'Iris-virginica'\n",
      " 'Iris-setosa' 'Iris-versicolor' 'Iris-virginica' 'Iris-setosa'\n",
      " 'Iris-virginica' 'Iris-versicolor' 'Iris-setosa' 'Iris-setosa'\n",
      " 'Iris-setosa' 'Iris-versicolor' 'Iris-setosa' 'Iris-versicolor'\n",
      " 'Iris-setosa' 'Iris-setosa' 'Iris-setosa' 'Iris-setosa' 'Iris-virginica'\n",
      " 'Iris-virginica' 'Iris-virginica' 'Iris-virginica' 'Iris-virginica'\n",
      " 'Iris-virginica' 'Iris-setosa' 'Iris-virginica' 'Iris-versicolor'\n",
      " 'Iris-setosa' 'Iris-setosa' 'Iris-versicolor' 'Iris-virginica'\n",
      " 'Iris-versicolor' 'Iris-virginica']\n",
      "Class order: ['Iris-setosa' 'Iris-versicolor' 'Iris-virginica']\n",
      "Class probabilities: [[5.97243114e-074 9.99999585e-001 4.14957319e-007]\n",
      " [2.95425984e-097 9.95088675e-001 4.91132490e-003]\n",
      " [1.00000000e+000 1.52807974e-030 7.95866474e-046]\n",
      " [1.00000000e+000 3.92028202e-026 4.10458257e-045]\n",
      " [1.00000000e+000 7.81898549e-031 2.36957809e-048]\n",
      " [7.84524212e-218 1.01668129e-007 9.99999898e-001]\n",
      " [1.51156151e-192 2.22649042e-016 1.00000000e+000]\n",
      " [6.73261623e-130 8.65629746e-001 1.34370254e-001]\n",
      " [7.52364310e-153 7.36587271e-006 9.99992634e-001]\n",
      " [1.54530626e-157 7.73916194e-003 9.92260838e-001]\n",
      " [1.00000000e+000 1.87608919e-025 6.07240028e-043]\n",
      " [1.00000000e+000 5.17299651e-030 8.43837943e-047]\n",
      " [1.61398247e-140 1.81673355e-001 8.18326645e-001]\n",
      " [5.63067327e-134 3.71319176e-002 9.62868082e-001]\n",
      " [1.00000000e+000 1.90379512e-023 3.73349069e-038]\n",
      " [3.51554908e-137 9.46410095e-001 5.35899054e-002]\n",
      " [6.38193241e-109 9.99635195e-001 3.64804701e-004]\n",
      " [8.27224590e-166 6.52265250e-004 9.99347735e-001]\n",
      " [4.09553383e-179 9.36851458e-002 9.06314854e-001]\n",
      " [4.27025453e-108 9.81136207e-001 1.88637926e-002]\n",
      " [6.16582315e-069 9.99999295e-001 7.05287723e-007]\n",
      " [1.00000000e+000 1.18761929e-021 1.75350860e-044]\n",
      " [1.07852411e-212 2.59076880e-007 9.99999741e-001]\n",
      " [8.93252391e-227 4.50469980e-011 1.00000000e+000]\n",
      " [3.39821294e-180 9.20242332e-011 1.00000000e+000]\n",
      " [1.66893458e-106 9.96958954e-001 3.04104646e-003]\n",
      " [1.00000000e+000 1.13001444e-019 1.24794610e-040]\n",
      " [9.54815906e-046 9.99999880e-001 1.20058621e-007]\n",
      " [1.00000000e+000 5.19912701e-017 2.64036223e-034]\n",
      " [7.66314931e-093 9.99998175e-001 1.82478879e-006]\n",
      " [2.48762388e-058 9.99999332e-001 6.68472074e-007]\n",
      " [3.27390807e-103 9.94612174e-001 5.38782643e-003]\n",
      " [1.00000000e+000 8.53653545e-027 7.18515338e-047]\n",
      " [1.00000000e+000 1.28914071e-022 1.20155300e-037]\n",
      " [1.00000000e+000 7.64077171e-022 1.00643394e-035]\n",
      " [8.42787801e-280 2.95604592e-004 9.99704395e-001]\n",
      " [1.00000000e+000 1.32007829e-029 5.41622615e-044]\n",
      " [2.51122948e-198 2.20339953e-006 9.99997797e-001]\n",
      " [3.58099903e-071 9.99999904e-001 9.61915235e-008]\n",
      " [1.65616065e-107 9.95741292e-001 4.25870835e-003]\n",
      " [9.31699199e-241 1.46534914e-003 9.98534651e-001]\n",
      " [4.38713960e-110 9.82562086e-001 1.74379141e-002]\n",
      " [2.67282565e-090 9.99608202e-001 3.91798318e-004]\n",
      " [1.27615688e-202 1.62848259e-006 9.99998372e-001]\n",
      " [1.12614576e-229 9.51021473e-007 9.99999049e-001]\n",
      " [1.97157493e-101 9.99893175e-001 1.06825136e-004]\n",
      " [1.00000000e+000 2.15282485e-026 1.27945251e-042]\n",
      " [6.20000552e-217 4.67199935e-005 9.99953280e-001]\n",
      " [2.64409455e-096 9.99931273e-001 6.87273954e-005]\n",
      " [1.00000000e+000 1.98739513e-028 1.13228394e-045]\n",
      " [3.05659891e-086 9.99829985e-001 1.70014773e-004]\n",
      " [2.74352804e-312 2.81003975e-011 1.00000000e+000]\n",
      " [2.96513463e-187 2.15699327e-002 9.78430067e-001]\n",
      " [2.09380030e-079 9.97144047e-001 2.85595343e-003]\n",
      " [1.40252446e-107 9.98113063e-001 1.88693725e-003]\n",
      " [1.04794122e-203 1.92051287e-003 9.98079487e-001]\n",
      " [1.00000000e+000 2.49822855e-031 3.52990468e-045]\n",
      " [6.93064340e-117 9.95894048e-001 4.10595171e-003]\n",
      " [1.35043179e-135 4.38317302e-001 5.61682698e-001]\n",
      " [1.00000000e+000 3.28933426e-044 2.78612805e-050]\n",
      " [1.66155390e-058 9.99999854e-001 1.45816746e-007]\n",
      " [8.29525039e-048 9.99999999e-001 7.44999659e-010]\n",
      " [6.67657684e-046 9.99999709e-001 2.90938277e-007]\n",
      " [1.24905015e-236 1.08552824e-004 9.99891447e-001]\n",
      " [1.00000000e+000 1.54932603e-025 4.39558409e-038]\n",
      " [1.00000000e+000 9.03361289e-019 6.77405220e-038]\n",
      " [6.14325723e-180 1.39317635e-004 9.99860682e-001]\n",
      " [1.00000000e+000 8.84854752e-022 1.61060100e-039]\n",
      " [1.00000000e+000 1.53366163e-017 4.07084325e-038]\n",
      " [1.00000000e+000 1.05644726e-028 2.10927828e-046]\n",
      " [1.82355816e-178 6.02639653e-002 9.39736035e-001]\n",
      " [7.39833624e-116 9.99858608e-001 1.41391896e-004]\n",
      " [7.00673664e-203 1.65677634e-004 9.99834322e-001]\n",
      " [9.42003421e-165 2.77550300e-008 9.99999972e-001]\n",
      " [1.00000000e+000 2.68722980e-026 1.36858400e-045]\n",
      " [1.72754739e-086 9.99998595e-001 1.40525262e-006]\n",
      " [4.78740382e-164 1.99397453e-004 9.99800603e-001]\n",
      " [1.00000000e+000 2.24211900e-023 2.17109789e-046]\n",
      " [1.67291906e-189 1.65046268e-008 9.99999983e-001]\n",
      " [2.54332604e-074 9.99997168e-001 2.83246237e-006]\n",
      " [1.00000000e+000 2.73491146e-023 1.83427424e-040]\n",
      " [1.00000000e+000 8.25869529e-044 3.08668892e-056]\n",
      " [1.00000000e+000 8.00537072e-022 1.35819702e-040]\n",
      " [2.85157978e-080 9.99207887e-001 7.92113337e-004]\n",
      " [1.00000000e+000 1.34876412e-026 5.31710661e-043]\n",
      " [4.05162907e-122 9.99618564e-001 3.81435999e-004]\n",
      " [1.00000000e+000 1.01776014e-022 1.97256563e-038]\n",
      " [1.00000000e+000 2.73491146e-023 1.83427424e-040]\n",
      " [1.00000000e+000 1.68029410e-019 1.50967101e-036]\n",
      " [1.00000000e+000 1.34786929e-028 9.34777283e-053]\n",
      " [3.14307729e-214 7.45623598e-011 1.00000000e+000]\n",
      " [4.08885194e-171 3.61005337e-004 9.99638995e-001]\n",
      " [5.65335790e-223 2.43714870e-004 9.99756285e-001]\n",
      " [4.77232140e-208 1.55482794e-008 9.99999984e-001]\n",
      " [2.00485999e-272 4.47379605e-006 9.99995526e-001]\n",
      " [1.42205703e-148 3.05723983e-001 6.94276017e-001]\n",
      " [1.00000000e+000 1.69369729e-031 7.00574104e-052]\n",
      " [1.26883104e-156 1.11724302e-001 8.88275698e-001]\n",
      " [1.87546175e-111 9.99886140e-001 1.13860346e-004]\n",
      " [1.00000000e+000 6.44661044e-025 7.49955846e-044]\n",
      " [1.00000000e+000 1.22576239e-020 8.92013420e-038]\n",
      " [8.95550381e-069 9.99997899e-001 2.10122464e-006]\n",
      " [5.06978961e-189 1.77492339e-002 9.82250766e-001]\n",
      " [1.84609372e-091 9.99999321e-001 6.78515545e-007]\n",
      " [3.62109951e-128 2.32953786e-003 9.97670462e-001]]\n",
      "Means: [[5.         3.42       1.43714286 0.24285714]\n",
      " [5.99428571 2.79428571 4.30571429 1.35142857]\n",
      " [6.6        2.99714286 5.56857143 2.04857143]]\n",
      "Prior probabilities: [0.33333333 0.33333333 0.33333333]\n"
     ]
    },
    {
     "name": "stderr",
     "output_type": "stream",
     "text": [
      "C:\\Users\\satish\\anaconda3\\lib\\site-packages\\sklearn\\utils\\validation.py:63: DataConversionWarning: A column-vector y was passed when a 1d array was expected. Please change the shape of y to (n_samples, ), for example using ravel().\n",
      "  return f(*args, **kwargs)\n"
     ]
    }
   ],
   "source": [
    "# fit model \n",
    "clf = QuadraticDiscriminantAnalysis()\n",
    "clf.fit(X_train, y_train)\n",
    "\n",
    "# make predictions\n",
    "pred = clf.predict(X_train)\n",
    "probab = clf.predict_proba(X_train)\n",
    "\n",
    "print(\"Parameters:\", clf.get_params())\n",
    "print(\"Predictions:\", pred)\n",
    "print(\"Class order:\",clf.classes_)\n",
    "print(\"Class probabilities:\", probab)\n",
    "\n",
    "print(\"Means:\", clf.means_)\n",
    "print(\"Prior probabilities:\", clf.priors_)\n"
   ]
  },
  {
   "cell_type": "code",
   "execution_count": 61,
   "metadata": {},
   "outputs": [
    {
     "name": "stdout",
     "output_type": "stream",
     "text": [
      "Training accuracy:\n"
     ]
    },
    {
     "data": {
      "text/plain": [
       "0.9809523809523809"
      ]
     },
     "execution_count": 61,
     "metadata": {},
     "output_type": "execute_result"
    }
   ],
   "source": [
    "from sklearn.metrics import accuracy_score\n",
    "print(\"Training accuracy:\")\n",
    "accuracy_score(y_train, pred)\n"
   ]
  },
  {
   "cell_type": "code",
   "execution_count": 62,
   "metadata": {},
   "outputs": [
    {
     "name": "stdout",
     "output_type": "stream",
     "text": [
      "Predictions: ['Iris-setosa' 'Iris-versicolor' 'Iris-virginica' 'Iris-versicolor'\n",
      " 'Iris-virginica' 'Iris-setosa' 'Iris-versicolor' 'Iris-setosa'\n",
      " 'Iris-setosa' 'Iris-setosa' 'Iris-versicolor' 'Iris-versicolor'\n",
      " 'Iris-versicolor' 'Iris-setosa' 'Iris-versicolor' 'Iris-virginica'\n",
      " 'Iris-virginica' 'Iris-virginica' 'Iris-versicolor' 'Iris-versicolor'\n",
      " 'Iris-virginica' 'Iris-versicolor' 'Iris-versicolor' 'Iris-virginica'\n",
      " 'Iris-versicolor' 'Iris-setosa' 'Iris-virginica' 'Iris-versicolor'\n",
      " 'Iris-setosa' 'Iris-virginica' 'Iris-virginica' 'Iris-virginica'\n",
      " 'Iris-virginica' 'Iris-setosa' 'Iris-versicolor' 'Iris-virginica'\n",
      " 'Iris-setosa' 'Iris-setosa' 'Iris-setosa' 'Iris-versicolor' 'Iris-setosa'\n",
      " 'Iris-setosa' 'Iris-setosa' 'Iris-versicolor' 'Iris-virginica']\n",
      "Class order: ['Iris-setosa' 'Iris-versicolor' 'Iris-virginica']\n",
      "Class probabilities: [[1.00000000e+000 2.73491146e-023 1.83427424e-040]\n",
      " [1.35041702e-079 9.99779674e-001 2.20326403e-004]\n",
      " [6.42891552e-158 4.53251218e-006 9.99995467e-001]\n",
      " [3.60440078e-088 9.99642353e-001 3.57647021e-004]\n",
      " [4.44132141e-221 2.08037479e-006 9.99997920e-001]\n",
      " [1.00000000e+000 1.26264554e-017 2.63491039e-034]\n",
      " [1.52071870e-101 9.99969670e-001 3.03296292e-005]\n",
      " [1.00000000e+000 3.51854246e-023 2.30207809e-041]\n",
      " [1.00000000e+000 1.00570588e-041 7.43914233e-056]\n",
      " [1.00000000e+000 1.81972094e-026 8.29588628e-044]\n",
      " [4.36121555e-114 9.93951487e-001 6.04851251e-003]\n",
      " [5.28297711e-055 9.99996976e-001 3.02438689e-006]\n",
      " [2.15053253e-112 9.64507069e-001 3.54929306e-002]\n",
      " [1.00000000e+000 1.64577132e-032 1.82091905e-049]\n",
      " [2.11687451e-065 9.99998558e-001 1.44197863e-006]\n",
      " [1.32409379e-209 7.43330445e-003 9.92566696e-001]\n",
      " [4.25764741e-250 2.50786263e-007 9.99999749e-001]\n",
      " [4.83092174e-278 7.34135391e-007 9.99999266e-001]\n",
      " [1.48062308e-035 9.99999989e-001 1.07443365e-008]\n",
      " [1.16854635e-081 9.99946754e-001 5.32464904e-005]\n",
      " [4.88516364e-140 1.34914577e-002 9.86508542e-001]\n",
      " [1.05596015e-087 9.99990053e-001 9.94709493e-006]\n",
      " [2.71803853e-082 9.99710136e-001 2.89863940e-004]\n",
      " [1.50410477e-237 3.14699352e-008 9.99999969e-001]\n",
      " [2.35411117e-081 9.99868932e-001 1.31067752e-004]\n",
      " [1.00000000e+000 6.93213945e-039 5.04721093e-062]\n",
      " [1.19499734e-140 6.12581394e-002 9.38741861e-001]\n",
      " [1.77936382e-105 9.99993596e-001 6.40441937e-006]\n",
      " [1.00000000e+000 2.50885412e-020 2.54776981e-036]\n",
      " [3.47457014e-135 1.58824636e-001 8.41175364e-001]\n",
      " [2.75341295e-170 5.55808756e-010 9.99999999e-001]\n",
      " [3.55846012e-189 2.98297170e-005 9.99970170e-001]\n",
      " [2.25966381e-178 1.87795343e-003 9.98122047e-001]\n",
      " [1.00000000e+000 6.14707658e-016 2.32903003e-034]\n",
      " [1.64648446e-141 7.73926037e-001 2.26073963e-001]\n",
      " [5.33009761e-256 1.34847748e-008 9.99999987e-001]\n",
      " [1.00000000e+000 6.47187716e-025 1.87488131e-034]\n",
      " [9.99999981e-001 1.94551507e-008 1.81022408e-031]\n",
      " [1.00000000e+000 1.73857515e-032 2.95671562e-048]\n",
      " [1.49904638e-107 7.81099632e-001 2.18900368e-001]\n",
      " [1.00000000e+000 6.78405182e-023 7.80830799e-031]\n",
      " [1.00000000e+000 7.77808143e-034 3.23380046e-044]\n",
      " [1.00000000e+000 1.31558661e-020 5.52857992e-036]\n",
      " [1.10750339e-072 9.99971854e-001 2.81461232e-005]\n",
      " [4.78740382e-164 1.99397453e-004 9.99800603e-001]]\n"
     ]
    }
   ],
   "source": [
    "# test data performance\n",
    "pred = clf.predict(X_test)\n",
    "probab = clf.predict_proba(X_test)\n",
    "\n",
    "print(\"Predictions:\", pred)\n",
    "print(\"Class order:\",clf.classes_)\n",
    "print(\"Class probabilities:\", probab)"
   ]
  },
  {
   "cell_type": "code",
   "execution_count": 63,
   "metadata": {},
   "outputs": [
    {
     "name": "stdout",
     "output_type": "stream",
     "text": [
      "Test accuracy:\n"
     ]
    },
    {
     "data": {
      "text/plain": [
       "0.9777777777777777"
      ]
     },
     "execution_count": 63,
     "metadata": {},
     "output_type": "execute_result"
    }
   ],
   "source": [
    "from sklearn.metrics import accuracy_score\n",
    "print(\"Test accuracy:\")\n",
    "accuracy_score(y_test, pred)\n"
   ]
  },
  {
   "cell_type": "code",
   "execution_count": 64,
   "metadata": {},
   "outputs": [
    {
     "data": {
      "text/plain": [
       "array([[15,  0,  0],\n",
       "       [ 0, 15,  0],\n",
       "       [ 0,  1, 14]], dtype=int64)"
      ]
     },
     "execution_count": 64,
     "metadata": {},
     "output_type": "execute_result"
    }
   ],
   "source": [
    "# form confusion matrix and find accuracy scores\n",
    "from sklearn.metrics import confusion_matrix\n",
    "\n",
    "c= confusion_matrix(y_test, pred)\n",
    "c"
   ]
  },
  {
   "cell_type": "code",
   "execution_count": 65,
   "metadata": {},
   "outputs": [
    {
     "name": "stdout",
     "output_type": "stream",
     "text": [
      "Test data performance:\n",
      "                 precision    recall  f1-score   support\n",
      "\n",
      "    Iris-setosa       1.00      1.00      1.00        15\n",
      "Iris-versicolor       0.94      1.00      0.97        15\n",
      " Iris-virginica       1.00      0.93      0.97        15\n",
      "\n",
      "       accuracy                           0.98        45\n",
      "      macro avg       0.98      0.98      0.98        45\n",
      "   weighted avg       0.98      0.98      0.98        45\n",
      "\n"
     ]
    }
   ],
   "source": [
    "# full report\n",
    "from sklearn import metrics\n",
    "print(\"Test data performance:\")\n",
    "print(metrics.classification_report(y_test, clf.predict(X_test)))\n"
   ]
  },
  {
   "cell_type": "code",
   "execution_count": null,
   "metadata": {},
   "outputs": [],
   "source": []
  }
 ],
 "metadata": {
  "kernelspec": {
   "display_name": "Python 3",
   "language": "python",
   "name": "python3"
  },
  "language_info": {
   "codemirror_mode": {
    "name": "ipython",
    "version": 3
   },
   "file_extension": ".py",
   "mimetype": "text/x-python",
   "name": "python",
   "nbconvert_exporter": "python",
   "pygments_lexer": "ipython3",
   "version": "3.8.5"
  }
 },
 "nbformat": 4,
 "nbformat_minor": 4
}
