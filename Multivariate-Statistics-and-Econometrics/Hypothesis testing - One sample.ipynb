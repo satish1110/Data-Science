{
 "cells": [
  {
   "cell_type": "markdown",
   "metadata": {},
   "source": [
    "## Hypothesis testing one sample mean"
   ]
  },
  {
   "cell_type": "code",
   "execution_count": 11,
   "metadata": {},
   "outputs": [],
   "source": [
    "import stats_distributions as stds\n",
    "import math\n",
    "import numpy as np\n",
    "from numpy.random import randn\n",
    "from statsmodels.stats.weightstats import ztest\n"
   ]
  },
  {
   "cell_type": "code",
   "execution_count": 29,
   "metadata": {},
   "outputs": [],
   "source": [
    "### function to  get z or t statistic and corresponding p value for the test ###\n",
    "# For t test supplu stdev_sam, for z test supply stdev_pop\n",
    "def z_t_test(mean_hyp, mean_sam, stdev, n, stat_type = \"z\", tail = \"two\"):\n",
    "    \n",
    "    stat = (mean_sam - mean_hyp)/(stdev/math.sqrt(n))\n",
    "    \n",
    "    if stat_type == \"z\":\n",
    "        if tail == \"two\":\n",
    "            p_val = 2*(1 - stds.z_to_pval(abs(stat), \"left\"))\n",
    "        else:\n",
    "            p_val = stds.z_to_pval(stat, tail)\n",
    "            \n",
    "    elif stat_type == \"t\":\n",
    "        if tail == \"two\":\n",
    "            p_val = 2*(1 - stds.z_to_pval(abs(stat), \"left\"))\n",
    "        else:\n",
    "            p_val = stds.t_to_pval(stat, tail)\n",
    "    \n",
    "    return (stat, p_val)\n",
    "    \n",
    "    \n",
    "    "
   ]
  },
  {
   "cell_type": "code",
   "execution_count": 24,
   "metadata": {},
   "outputs": [
    {
     "name": "stdout",
     "output_type": "stream",
     "text": [
      "mean=112.48 stdv=11.70\n"
     ]
    }
   ],
   "source": [
    "# initialize values\n",
    "mean_sam = 110\n",
    "n = 50\n",
    "stdev_pop = 15\n",
    "stdev_sam = stdev_pop/math.sqrt(n)\n",
    "alpha =0.05\n",
    "\n",
    "mean_hyp = 100\n",
    "\n",
    "# Generate a random array of 50 numbers having mean 110 and sd 15\n",
    "data = stdev_pop * randn(n) + mean_data\n",
    "# print mean and sd\n",
    "print('mean=%.2f stdv=%.2f' % (np.mean(data), np.std(data)))\n",
    "  \n"
   ]
  },
  {
   "cell_type": "code",
   "execution_count": null,
   "metadata": {},
   "outputs": [],
   "source": [
    "## using built in function\n",
    "\n",
    "# now we perform the test. In this function, we passed data, in value parameter\n",
    "# we passed mean value in the null hypothesis, in alternative hypothesis we check whether the\n",
    "# mean is larger\n",
    "\n",
    "# stats model ztest is actually t test. Better to use manual function for this\n",
    "ztest_score, p_value = ztest(data, value = mean_hyp, alternative='larger')\n",
    "\n",
    "\n",
    "# for t test we can also use ttest_1samp() from scipy.stats"
   ]
  },
  {
   "cell_type": "code",
   "execution_count": 30,
   "metadata": {},
   "outputs": [
    {
     "name": "stdout",
     "output_type": "stream",
     "text": [
      "test critical: 1.645 ; alpha: 0.050\n",
      "test stat: 4.714 ; p_value: 0.000\n",
      "Reject Null Hypothesis\n"
     ]
    }
   ],
   "source": [
    "# \n",
    "# If normal:\n",
    "#    if n > 30:\n",
    "#        if pop stdev known:\n",
    "#            z test\n",
    "#        else:\n",
    "#            t or z test\n",
    "#    else\n",
    "#        if pop stdev known:\n",
    "#            z test\n",
    "#        else:\n",
    "#            t test\n",
    "# else:\n",
    "#    if n > 30:\n",
    "#        z test\n",
    "#    else:\n",
    "#        non-parametric test\n",
    "\n",
    "# Not automating above to give flexibility in choosing the test\n",
    "\n",
    "# using manual function \n",
    "\n",
    "test_stat, p_val = z_t_test(mean_hyp, mean_sam, stdev_pop, n, \"z\", \"right\")\n",
    "\n",
    "# For two tailed test compare with alpha\n",
    "# change to t if needed\n",
    "print(\"test critical: %.3f ; alpha: %.3f\" %(stds.pval_to_z(alpha, \"right\"), alpha))\n",
    "\n",
    "print(\"test stat: %.3f ; p_value: %.3f\" %(test_stat, p_value))\n",
    "\n",
    "# the function outputs a p_value and z-score corresponding to that value, we compare the \n",
    "# p-value with alpha, if it is greater than alpha then we do not null hypothesis \n",
    "# else we reject it.\n",
    "  \n",
    "if(p_value <  alpha):\n",
    "    print(\"Reject Null Hypothesis\")\n",
    "else:\n",
    "    print(\"Fail to Reject NUll Hypothesis\")"
   ]
  },
  {
   "cell_type": "code",
   "execution_count": 19,
   "metadata": {},
   "outputs": [
    {
     "data": {
      "text/plain": [
       "array([102.75662875, 114.71901465,  97.69056558, 117.70742014,\n",
       "        83.26775248, 132.05860469, 105.11857067, 127.54614728,\n",
       "        90.63460638, 103.39215336, 130.84010549,  90.66015264,\n",
       "        94.97323596,  84.31712552, 113.29064284, 100.65592119,\n",
       "        93.92961105, 108.4171509 ,  96.7409033 , 103.27484814,\n",
       "       106.79825722,  97.44310037, 130.44209919, 113.89456275,\n",
       "        94.4800042 ,  86.28618191, 132.22007057, 111.14842207,\n",
       "       123.63435437, 120.93162107, 119.82211538,  99.94714251,\n",
       "        93.64475327, 120.18746334, 135.56404639,  81.08732484,\n",
       "       115.02577778, 109.92815696,  98.95226166,  88.42644432,\n",
       "       114.79059333, 132.00604575, 119.08262404, 117.68911184,\n",
       "       129.25114477,  97.60031855,  81.75542967, 106.92963935,\n",
       "        83.29035896, 123.26357766])"
      ]
     },
     "execution_count": 19,
     "metadata": {},
     "output_type": "execute_result"
    }
   ],
   "source": [
    "data"
   ]
  },
  {
   "cell_type": "code",
   "execution_count": null,
   "metadata": {},
   "outputs": [],
   "source": []
  }
 ],
 "metadata": {
  "kernelspec": {
   "display_name": "Python 3",
   "language": "python",
   "name": "python3"
  },
  "language_info": {
   "codemirror_mode": {
    "name": "ipython",
    "version": 3
   },
   "file_extension": ".py",
   "mimetype": "text/x-python",
   "name": "python",
   "nbconvert_exporter": "python",
   "pygments_lexer": "ipython3",
   "version": "3.8.5"
  }
 },
 "nbformat": 4,
 "nbformat_minor": 4
}
