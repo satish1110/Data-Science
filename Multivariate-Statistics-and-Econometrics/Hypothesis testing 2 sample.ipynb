{
 "cells": [
  {
   "cell_type": "code",
   "execution_count": null,
   "metadata": {},
   "outputs": [],
   "source": []
  },
  {
   "cell_type": "markdown",
   "metadata": {},
   "source": [
    "## Paired sample means t test\n",
    "\n",
    "### This scenario involves data measured of the same entity twice and the comparison is made between their means"
   ]
  },
  {
   "cell_type": "code",
   "execution_count": 47,
   "metadata": {},
   "outputs": [],
   "source": [
    "import pandas as pd\n",
    "import os\n",
    "import stats_distributions as stds\n",
    "import statsmodels.stats.weightstats as stsm\n",
    "import numpy as np\n",
    "from numpy import sqrt, abs, round\n",
    "from scipy.stats import norm\n",
    "\n",
    "from scipy import stats\n"
   ]
  },
  {
   "cell_type": "code",
   "execution_count": 7,
   "metadata": {},
   "outputs": [],
   "source": [
    "os.chdir(\"C:\\\\Users\\\\satish\\\\Desktop\")"
   ]
  },
  {
   "cell_type": "code",
   "execution_count": 9,
   "metadata": {},
   "outputs": [],
   "source": [
    "df = pd.read_excel(\"MSE_data.xlsx\", sheet_name = \"HT - Paired sample\")"
   ]
  },
  {
   "cell_type": "code",
   "execution_count": 10,
   "metadata": {},
   "outputs": [
    {
     "data": {
      "text/html": [
       "<div>\n",
       "<style scoped>\n",
       "    .dataframe tbody tr th:only-of-type {\n",
       "        vertical-align: middle;\n",
       "    }\n",
       "\n",
       "    .dataframe tbody tr th {\n",
       "        vertical-align: top;\n",
       "    }\n",
       "\n",
       "    .dataframe thead th {\n",
       "        text-align: right;\n",
       "    }\n",
       "</style>\n",
       "<table border=\"1\" class=\"dataframe\">\n",
       "  <thead>\n",
       "    <tr style=\"text-align: right;\">\n",
       "      <th></th>\n",
       "      <th>x1</th>\n",
       "      <th>x2</th>\n",
       "    </tr>\n",
       "  </thead>\n",
       "  <tbody>\n",
       "    <tr>\n",
       "      <th>0</th>\n",
       "      <td>1005</td>\n",
       "      <td>963</td>\n",
       "    </tr>\n",
       "    <tr>\n",
       "      <th>1</th>\n",
       "      <td>1035</td>\n",
       "      <td>1027</td>\n",
       "    </tr>\n",
       "    <tr>\n",
       "      <th>2</th>\n",
       "      <td>1281</td>\n",
       "      <td>1272</td>\n",
       "    </tr>\n",
       "    <tr>\n",
       "      <th>3</th>\n",
       "      <td>1051</td>\n",
       "      <td>1079</td>\n",
       "    </tr>\n",
       "    <tr>\n",
       "      <th>4</th>\n",
       "      <td>1034</td>\n",
       "      <td>1070</td>\n",
       "    </tr>\n",
       "    <tr>\n",
       "      <th>5</th>\n",
       "      <td>1079</td>\n",
       "      <td>1173</td>\n",
       "    </tr>\n",
       "    <tr>\n",
       "      <th>6</th>\n",
       "      <td>1104</td>\n",
       "      <td>1067</td>\n",
       "    </tr>\n",
       "    <tr>\n",
       "      <th>7</th>\n",
       "      <td>1439</td>\n",
       "      <td>1347</td>\n",
       "    </tr>\n",
       "    <tr>\n",
       "      <th>8</th>\n",
       "      <td>1029</td>\n",
       "      <td>1100</td>\n",
       "    </tr>\n",
       "    <tr>\n",
       "      <th>9</th>\n",
       "      <td>1160</td>\n",
       "      <td>1204</td>\n",
       "    </tr>\n",
       "  </tbody>\n",
       "</table>\n",
       "</div>"
      ],
      "text/plain": [
       "     x1    x2\n",
       "0  1005   963\n",
       "1  1035  1027\n",
       "2  1281  1272\n",
       "3  1051  1079\n",
       "4  1034  1070\n",
       "5  1079  1173\n",
       "6  1104  1067\n",
       "7  1439  1347\n",
       "8  1029  1100\n",
       "9  1160  1204"
      ]
     },
     "execution_count": 10,
     "metadata": {},
     "output_type": "execute_result"
    }
   ],
   "source": [
    "df.head(10)"
   ]
  },
  {
   "cell_type": "code",
   "execution_count": 18,
   "metadata": {},
   "outputs": [
    {
     "name": "stdout",
     "output_type": "stream",
     "text": [
      "t_critical: + -2.26216 ; alpha: 0.05000\n",
      "t_stat: -0.474 ; p_value: 0.647\n",
      "not reject null hypothesis\n"
     ]
    }
   ],
   "source": [
    "# H0 : u(D) = 0\n",
    "\n",
    "alpha = 0.05\n",
    "n = 10\n",
    "t_stat, pval = stats.ttest_rel(df['x1'], df['x2'])\n",
    "\n",
    "print(\"t_critical: + %.5f ; alpha: %.5f\" %(stds.pval_to_t(alpha/2, n-1, \"left\"), alpha))\n",
    "print(\"t_stat: %.3f ; p_value: %.3f\" %(t_stat, pval))\n",
    "\n",
    "if pval < 0.05:\n",
    "    print(\"reject null hypothesis\")\n",
    "else:\n",
    "    print(\"not reject null hypothesis\")"
   ]
  },
  {
   "cell_type": "code",
   "execution_count": 22,
   "metadata": {},
   "outputs": [],
   "source": [
    "# this implies means can be the same \n",
    "\n",
    "# For specific u(d0) other than 0, we can use https://www.statsmodels.org/stable/generated/statsmodels.stats.weightstats.ttost_paired.html#statsmodels.stats.weightstats.ttost_paired"
   ]
  },
  {
   "cell_type": "markdown",
   "metadata": {},
   "source": [
    "## Independent sample means t test"
   ]
  },
  {
   "cell_type": "code",
   "execution_count": 32,
   "metadata": {},
   "outputs": [],
   "source": [
    "# H0 : u(D) = 0\n",
    "df = pd.read_excel(\"MSE_data.xlsx\", sheet_name = \"HT - Independent sample\")"
   ]
  },
  {
   "cell_type": "markdown",
   "metadata": {},
   "source": [
    "### Equal pop variances"
   ]
  },
  {
   "cell_type": "code",
   "execution_count": 39,
   "metadata": {},
   "outputs": [],
   "source": [
    "# assume population variances are equal => uservar = \"pooled\"; value = u(d0)\n",
    "t_stat, pval, deg_freedom = stsm.ttest_ind(df[\"x1\"], df[\"x2\"], usevar = \"pooled\", value = 0)"
   ]
  },
  {
   "cell_type": "code",
   "execution_count": 40,
   "metadata": {},
   "outputs": [
    {
     "name": "stdout",
     "output_type": "stream",
     "text": [
      "t_critical: + -2.26216 ; alpha: 0.05000\n",
      "t_stat: -0.533 ; p_value: 0.600 ; deg_freedom: 18\n",
      "not reject null hypothesis\n"
     ]
    }
   ],
   "source": [
    "print(\"t_critical: + %.5f ; alpha: %.5f\" %(stds.pval_to_t(alpha/2, n-1, \"left\"), alpha))\n",
    "print(\"t_stat: %.3f ; p_value: %.3f ; deg_freedom: %d\" %(t_stat, pval, deg_freedom))\n",
    "\n",
    "if pval < 0.05:\n",
    "    print(\"reject null hypothesis\")\n",
    "else:\n",
    "    print(\"not reject null hypothesis\")"
   ]
  },
  {
   "cell_type": "code",
   "execution_count": null,
   "metadata": {},
   "outputs": [],
   "source": [
    "# this implies means can be the same "
   ]
  },
  {
   "cell_type": "markdown",
   "metadata": {},
   "source": [
    "### Unequal pop variances"
   ]
  },
  {
   "cell_type": "code",
   "execution_count": 41,
   "metadata": {},
   "outputs": [],
   "source": [
    "# assume population variances are unequal => uservar = \"unequal\"\n",
    "t_stat, pval, deg_freedom = stsm.ttest_ind(df[\"x1\"], df[\"x2\"], usevar = \"unequal\", value = 0)"
   ]
  },
  {
   "cell_type": "code",
   "execution_count": 42,
   "metadata": {},
   "outputs": [
    {
     "name": "stdout",
     "output_type": "stream",
     "text": [
      "t_critical: + -2.26216 ; alpha: 0.05000\n",
      "t_stat: -0.533 ; p_value: 0.601 ; deg_freedom: 16\n",
      "not reject null hypothesis\n"
     ]
    }
   ],
   "source": [
    "print(\"t_critical: + %.5f ; alpha: %.5f\" %(stds.pval_to_t(alpha/2, n-1, \"left\"), alpha))\n",
    "print(\"t_stat: %.3f ; p_value: %.3f ; deg_freedom: %d\" %(t_stat, pval, deg_freedom))\n",
    "\n",
    "if pval < 0.05:\n",
    "    print(\"reject null hypothesis\")\n",
    "else:\n",
    "    print(\"not reject null hypothesis\")"
   ]
  },
  {
   "cell_type": "code",
   "execution_count": null,
   "metadata": {},
   "outputs": [],
   "source": [
    "# this implies means can be the same \n"
   ]
  },
  {
   "cell_type": "markdown",
   "metadata": {},
   "source": [
    "## z test for two sample when pop stdev are known"
   ]
  },
  {
   "cell_type": "code",
   "execution_count": 44,
   "metadata": {},
   "outputs": [],
   "source": [
    "def z_two_samp(m1, m2, sigma1, sigma2, n1, n2):\n",
    "    \n",
    "    ovr_sigma = sqrt(sigma1**2/n1 + sigma2**2/n2)\n",
    "    z = (m1 - m2)/ovr_sigma\n",
    "    \n",
    "    # since two tail, find p value this way\n",
    "    pval = 2*(1 - norm.cdf(abs(z)))\n",
    "    return z, pval"
   ]
  },
  {
   "cell_type": "code",
   "execution_count": 52,
   "metadata": {},
   "outputs": [
    {
     "name": "stdout",
     "output_type": "stream",
     "text": [
      "z_critical: + -1.95996 ; alpha: 0.05000\n",
      "z_stat: -0.53311 ; p_value: 0.59395 \n",
      "Do not reject Null Hypothesis : Not Significant difference\n"
     ]
    }
   ],
   "source": [
    "# assume pop stddev to be same as samp stdev here\n",
    "z_stat, p_val = z_two_samp(df[\"x1\"].mean(), df[\"x2\"].mean(), df[\"x1\"].std(), df[\"x2\"].std(), df[\"x1\"].shape[0], \n",
    "                            df[\"x2\"].shape[0])\n",
    "\n",
    "print(\"z_critical: + %.5f ; alpha: %.5f\" %(stds.pval_to_z(alpha/2, \"left\"), alpha))\n",
    "print(\"z_stat: %.5f ; p_value: %.5f \" %(z_stat, p_val))\n",
    "\n",
    "\n",
    "if (p_val < 0.05):\n",
    "    print('Reject Null Hypothesis : Significant difference')\n",
    "else:\n",
    "    print('Do not reject Null Hypothesis : Not Significant difference')\n"
   ]
  },
  {
   "cell_type": "markdown",
   "metadata": {},
   "source": [
    "## F test to Compare two population variances "
   ]
  },
  {
   "cell_type": "code",
   "execution_count": 75,
   "metadata": {},
   "outputs": [],
   "source": [
    "import numpy as np\n",
    "\n",
    "#define F-test function\n",
    "def f_test(x, y, pos = \"left\"):   \n",
    "    x = np.array(x)\n",
    "    y = np.array(y)\n",
    "    f_stat = np.var(x, ddof=1)/np.var(y, ddof=1) #calculate F test statistic \n",
    "    dfn = x.size - 1 #define degrees of freedom numerator \n",
    "    dfd = y.size - 1 #define degrees of freedom denominator \n",
    "    p_value = stds.f_to_pval(f_stat, dfn, dfd, pos)\n",
    "    return f_stat, p_value\n"
   ]
  },
  {
   "cell_type": "code",
   "execution_count": 76,
   "metadata": {},
   "outputs": [
    {
     "name": "stdout",
     "output_type": "stream",
     "text": [
      "f_stat: 1.97909 ; p_value: 0.59395 \n",
      "Do not reject Null Hypothesis : Not Significant difference\n"
     ]
    }
   ],
   "source": [
    "f_stat, p_value = f_test(df[\"x1\"], df[\"x2\"], \"left\")\n",
    "print(\"f_stat: %.5f ; p_value: %.5f \" %(f_stat, p_val))\n",
    "\n",
    "if (p_val < 0.05):\n",
    "    print('Reject Null Hypothesis : Significant difference')\n",
    "else:\n",
    "    print('Do not reject Null Hypothesis : Not Significant difference')"
   ]
  },
  {
   "cell_type": "code",
   "execution_count": null,
   "metadata": {},
   "outputs": [],
   "source": [
    "# in case of two tail, get lower and upper critical values that cover the area of CI mentioned"
   ]
  }
 ],
 "metadata": {
  "kernelspec": {
   "display_name": "Python 3",
   "language": "python",
   "name": "python3"
  },
  "language_info": {
   "codemirror_mode": {
    "name": "ipython",
    "version": 3
   },
   "file_extension": ".py",
   "mimetype": "text/x-python",
   "name": "python",
   "nbconvert_exporter": "python",
   "pygments_lexer": "ipython3",
   "version": "3.8.5"
  }
 },
 "nbformat": 4,
 "nbformat_minor": 4
}
